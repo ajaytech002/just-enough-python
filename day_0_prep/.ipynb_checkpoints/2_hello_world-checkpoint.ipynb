{
 "cells": [
  {
   "cell_type": "markdown",
   "metadata": {},
   "source": [
    "Notebook is copyright &copy; of <a href=\"https://ajaytech.co\">Ajay Tech </a>."
   ]
  },
  {
   "cell_type": "markdown",
   "metadata": {},
   "source": [
    "<div class=\"jumbotron\">\n",
    "  <h1 class=\"display-4\"> Hello World in Python</h1>\n",
    "  <p class=\"lead\">In this section, we will run our first Hello World Program. </p>\n",
    "  <hr>\n",
    "  <h3 class=\"display-6\"> Contents </h3>\n",
    "\n",
    "  <ul style=\"list-style-type:none\">\n",
    "    <li> <a href=\"#Hello-World\"> &#10070; Hello World in Python </a> </li>\n",
    "     <li> <a href=\"#IDLE\"> &#10070; IDLE </a> </li>\n",
    "  </ul>\n",
    "</div>\n",
    "\n"
   ]
  },
  {
   "cell_type": "markdown",
   "metadata": {},
   "source": [
    "<hr>\n",
    "<br>"
   ]
  },
  {
   "cell_type": "markdown",
   "metadata": {},
   "source": [
    "<div class=\"alert alert-secondary\" id=\"Hello-World\">    \n",
    "    <span class=\"topic\"> &#10070; Hello World in Python</span>   \n",
    "</div>"
   ]
  },
  {
   "cell_type": "markdown",
   "metadata": {},
   "source": [
    "Go to your python shell and type in"
   ]
  },
  {
   "cell_type": "code",
   "execution_count": 1,
   "metadata": {},
   "outputs": [
    {
     "name": "stdout",
     "output_type": "stream",
     "text": [
      "Hello World\n"
     ]
    }
   ],
   "source": [
    "print ( \"Hello World\" ) "
   ]
  },
  {
   "cell_type": "markdown",
   "metadata": {},
   "source": [
    "You would see “Hello World” printed on your console – that was easy right ? Python shell is a simple program that executes python code line by line – like an interactive prompt. "
   ]
  },
  {
   "cell_type": "markdown",
   "metadata": {},
   "source": [
    "<div class=\"text-center\">\n",
    "    <img src=\"data:image/png;base64,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\"/>\n",
    "</div>"
   ]
  },
  {
   "cell_type": "markdown",
   "metadata": {},
   "source": [
    "How about another print statement ? Like so"
   ]
  },
  {
   "cell_type": "code",
   "execution_count": 4,
   "metadata": {},
   "outputs": [
    {
     "name": "stdout",
     "output_type": "stream",
     "text": [
      "Hello World\n",
      "Welcome to Python\n"
     ]
    }
   ],
   "source": [
    "print ( \"Hello World\" ) \n",
    "print ( \"Welcome to Python\" ) \n"
   ]
  },
  {
   "cell_type": "markdown",
   "metadata": {},
   "source": [
    "Well, you can keep executing as many lines of code as you can – line by line. To execute a full program, python needs it in a file. Open a notepad and type in these lines, save it somewhere on your computer.\n",
    "\n",
    "\n",
    "\n"
   ]
  },
  {
   "cell_type": "markdown",
   "metadata": {},
   "source": [
    "<br>"
   ]
  },
  {
   "cell_type": "markdown",
   "metadata": {},
   "source": [
    "<div class=\"text-center\">\n",
    "    <img src=\"data:image/png;base64,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\"/>\n",
    "</div>"
   ]
  },
  {
   "cell_type": "markdown",
   "metadata": {},
   "source": [
    "Now, without going into the shell, you can ask python to execute the contents of the file by typing in\n",
    "\n"
   ]
  },
  {
   "cell_type": "markdown",
   "metadata": {},
   "source": [
    "<kbd> > python hello_world.py  </kbd>"
   ]
  },
  {
   "cell_type": "markdown",
   "metadata": {},
   "source": [
    "While it is technically not mandatory, it is convention that all python files be given a file extension of <kbd>.py</kbd> . You can very well give it any extension you like.\n",
    "\n"
   ]
  },
  {
   "cell_type": "markdown",
   "metadata": {},
   "source": [
    "<br>"
   ]
  },
  {
   "cell_type": "markdown",
   "metadata": {},
   "source": [
    "<div class=\"text-center\">\n",
    "    <img src=\"data:image/png;base64,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\"/>\n",
    "</div>"
   ]
  },
  {
   "cell_type": "markdown",
   "metadata": {},
   "source": [
    "<br>"
   ]
  },
  {
   "cell_type": "markdown",
   "metadata": {},
   "source": [
    "<hr>"
   ]
  },
  {
   "cell_type": "markdown",
   "metadata": {},
   "source": [
    "<div class=\"alert alert-secondary\" id=\"IDLE\">    \n",
    "    <span class=\"topic\"> &#10070; IDLE</span>   \n",
    "</div>"
   ]
  },
  {
   "cell_type": "markdown",
   "metadata": {},
   "source": [
    "<br>"
   ]
  },
  {
   "cell_type": "markdown",
   "metadata": {},
   "source": [
    "IDLE is an **I**ntegrated **D**evelopment **E**nvironment for Python that is bundled as part of the base python installation. It is a simple IDE ( Integrated Development Environment ) that can do basic stuff like file editing, debugging, running programs, syntax highlighting etc.\n",
    "\n",
    "If you have basic python installed, you should have IDLE installed by default. If you are on Windows, just go to start and search for IDLE under Python folder."
   ]
  },
  {
   "cell_type": "markdown",
   "metadata": {},
   "source": [
    "<div class=\"text-center\">\n",
    "    <img src=\"data:image/png;base64,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\"/>\n",
    "</div>"
   ]
  },
  {
   "cell_type": "markdown",
   "metadata": {},
   "source": [
    "This is how it starts up."
   ]
  },
  {
   "cell_type": "markdown",
   "metadata": {},
   "source": [
    "<div class=\"text-center\">\n",
    "    <img src=\"data:image/png;base64,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\"/>\n",
    "</div>"
   ]
  },
  {
   "cell_type": "markdown",
   "metadata": {},
   "source": [
    "<br>"
   ]
  },
  {
   "cell_type": "markdown",
   "metadata": {},
   "source": [
    "In case you are wondering why my screen is blue and your screen is white, it is just a theme that I have changed. Go to <kbd>Options</kbd> -> <kbd>Configure IDLE</kbd>"
   ]
  },
  {
   "cell_type": "markdown",
   "metadata": {},
   "source": [
    "<br>"
   ]
  },
  {
   "cell_type": "markdown",
   "metadata": {},
   "source": [
    "<div class=\"text-center\">\n",
    "    <img src=\"data:image/png;base64,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\"/>\n",
    "</div>"
   ]
  },
  {
   "cell_type": "markdown",
   "metadata": {},
   "source": [
    "<br>"
   ]
  },
  {
   "cell_type": "markdown",
   "metadata": {},
   "source": [
    "I have selected a dark theme. You can customize it anyway you like."
   ]
  },
  {
   "cell_type": "markdown",
   "metadata": {},
   "source": [
    "<br>"
   ]
  },
  {
   "cell_type": "markdown",
   "metadata": {},
   "source": [
    "<div class=\"text-center\">\n",
    "    <img src=\"data:image/png;base64,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\"/>\n",
    "</div>"
   ]
  },
  {
   "cell_type": "markdown",
   "metadata": {},
   "source": [
    "<br>"
   ]
  },
  {
   "cell_type": "markdown",
   "metadata": {},
   "source": [
    "Click on <kbd>File</kbd> -> <kbd>New File</kbd>"
   ]
  },
  {
   "cell_type": "markdown",
   "metadata": {},
   "source": [
    "<br>"
   ]
  },
  {
   "cell_type": "markdown",
   "metadata": {},
   "source": [
    "<div class=\"text-center\">\n",
    "    <img src=\"data:image/png;base64,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\"/>\n",
    "</div>"
   ]
  },
  {
   "cell_type": "markdown",
   "metadata": {},
   "source": [
    "<br>"
   ]
  },
  {
   "cell_type": "markdown",
   "metadata": {},
   "source": [
    "And start typing up your python code in the file editor."
   ]
  },
  {
   "cell_type": "markdown",
   "metadata": {},
   "source": [
    "<br>"
   ]
  },
  {
   "cell_type": "markdown",
   "metadata": {},
   "source": [
    "<div class=\"text-center\">\n",
    "    <img src=\"data:image/png;base64,iVBORw0KGgoAAAANSUhEUgAAAq0AAAEGCAMAAAB4sVwpAAAABGdBTUEAALGPC/xhBQAAAAFzUkdCAK7OHOkAAAAJcEhZcwAADsMAAA7DAcdvqGQAAAI0UExURfDw8H+RoD9ZcL+/v0Vsj014n8dQUFqNuwAiQPX29+jp6gL/Av///ygoKAOaOEpMKACaEPX2sInT9zJepWIANgB1GwN1QQAAAAAiQUM7KABOJUN+u1qNpQPeJTpuuwP/A0qNuyhMj1p+dwP/GwAiLlpuXlqNjwNOQf8A/1JeRVKNuygoXgO9Lig7dwPeA/XTijooRTIoRQP/EAPeEGYiQWKw9wC9AwPeG/Dwq9sUZDooKDIoXsDAwGIAADoU4oCAgIfO8AAAgICAAK/292AANjaJ1PWwYgAYxAC9EDYAALYYQQBisPCrYPDOhygoRTYAYv8AxPX21ABOprZ1QdKJNq9iAAO9GwAihtL292Cr8JAI/wAANs7w8DI7d5AIxDYANqvw8AAAYgA2h9veppBOQZDe/4k2AJAI4jooXjY2ipAdQTIoKABgqzaHzok2NjYAYAB1Lv8IpgO9EAA2is6HNma9/7b/4pDe4gB1xP+9htv/xLb/xPDwzoc2AP8A4rYA/wAdplKNpUpeRTI7RWAAADJejzpuj4mwijI7XkNMdzaJikqNj6tgAImJYmJiNkM7RQOaG0Nuu2YO/wN1LpAUxNsA/7YO4onTsIer8ENudwOaJTpupVpud9sAxGAAYAO9AwNOLihMd7YOxDpedzZisNL21DY2NmI2iq9iNmIAYkpMXkNepfCrqzY2h6ur8Ep+d2JiYoeHYAAAYK/Tiq/2sIk2YgBiYgA2YmI2Nq+JNjZiimKJitPkizYAABATSURBVHja7Jv7T5vXGcez0QWYiW0gtoPBGBMbTEIgDQEUZhIlEZAUaUlaSKOgbIrWpk0iRcuqrbtI3dZq69Zq3bpbtZt2a9du+2GTdt/+uT3nft5z3teXYMwLfL8KGL/vc+4fP+c5r58cegqC9ooOPdUNQbugw61IFAGtEGiFINAKgVYIAq0QtFO0XugTulDDVEJt1hGtdtFak7QCV2hXaO3rM78b0npB+VbgCrWbVu+PwxG4hsFaLxKIXzAwMjQavJAaFD/NSttOlZqynyIncHJMvqmc+qZov3LqRN1SdD9FBT89HNIw77GuMlDtTg8rVequULeEbUV4uFFrYpuckw7Qepjx11okwJQ70LSODDGsKmZFR5qilVmxhqYsXAO0utadGVaF7v1prHtiadT+WInyAtupwbjQGu5Z60UC3L8eaFqnAlSOf2qsOVrJkDc0MjTYBK2m2p0d1sj3h7WLdaazcvJtjvDEy2N7z7dKUmu1ixdruZjR+oshscFOiY1WLyvbskvWlidcCFs8eWdk6NtLJ8e4LXmSU6+X5DLTbWKPr+CUA6H2QuNPDwsSLForogOiH6JyeYm3KmmdOD2s6BUNBXs8qqrtwLAqJe/zYj51cqjtcq7uSWon41YZCVxkihuttJYpmmO2ApWTY3pZp+jvkaGStQoVtpapUX1nZOg7CgN1l6/wIL/LSngerqLCS04rA8/Qyi79clj1g1cuL3FDSeuooVU2FOjx+Luq2g4MS5FYMUGz4VbSWintOK0780ygxmG9eClW3pXvrbT4HAIVHtIPf8+p0HSlfn/nBF3Wd8S2rG3ldshfyJxd1MU9WjUrFq3cWPVD9ct4LHmYMrSWVL9kj5XfFtV2YFgpvtcvHTEbiDVg2Z3xOyc6vqZt+XZAwFq7dKkvbnErrYI+0MplFVyJBRNmEy+/fXqYSNB3BGhkK9ZoqmS8CytHf8hLtKDyMUCQVuktJWEjQ2wbV/3g18UlWSd7JkBcWJGAacj02K52h4elw9bxhyFBrqS1A4Fr22mtCVrZS1xptdfaX1ZaB/ISqdEp645eVnHFXdaQx0gyXFXryRZSnpu49xx/SJGq7IekmF2SKy432Ya0ymo7MKzUqLNl2JHPHvatFyStl7jiSKvmSC6reG92tvE7r9P6/Zas9R3jhJ52t0y2fBOnf+YGAlbEqDkQv0VhQlf1Qy08o1maWLTySFQ1FOixrLAjw9JBqqLVjnzaHLd2PBKoXRSwxixuHZXhGztkfPeEPo7w90PWoYGOLeNvsOVQd/Sy6uMIr4e23YklvnW/4a/UxBJzopVRstTek+3/VHllVASYoh/8rrgkDSUbDPiJJQapasju8fi7wrojw2IkTvy5m1/naItnBYLyNj8T6Hgk0NfHYc3F6qGAXlYeFw46j3qsqU7xs0up29wxy0rx5ZHSlFzWbw3JR0SBbd+0x8NP5vbkHjn+UDxjYq8qPpXMiEvSUHkyioJP/oVFAqoh3eMUq0hYd2RY4uGDKCXaGux2aN2NsHW7tNZyzLXmahQJ1GL2vLXtCnv22MCw6Rrbb729YTXe5nfDtT6JAvmtOa7uXPy+eW0kdp43X363sqz2905hFZ8ebrIHzRq2Yt2mYaUa4DpV6t6DtB4gqWVNHSlhWHtG+L8DEGiFINAKgVYIAq0QBFqhA07rJyAovnJp7YWguAq0QqAVgkArBFpBK7SXae1fzuVyK7OfHeg/OhBWjt+f538dHSCzCIuV1npjaq2jVa/e0PYdbc7zrlLx9aB5xABdA23W0B7qPK0NFsdcdhazeQoiyqzevVwf1q2B3hv3VppvRhZbJ6qvUrGNlRb7CVpBa2SZBuVu3GO+d/ba5RZpnb1/q3fjf+/33ng0AFr3J630m/0xezXnOjy5ZnTnLWbzHm3h61EWtLf3H33n7t+Pvnk1N7/Bt/FNMu8PL7P6yi0Jbf/R7/mxhOCUmOtn1a3wSmQfeTu8yI17XkBBJW48eu+Pl/vpn6la9F8W3pznHZh9P4pWPg+8NGsa8MQrbp0XtHKGVvwIk1Zueb53Y0vZhMWgzIJFv8srdOGVW6u0yGKrjyyzrl1s//K6HxcwH8k9LKtOxtXcVrbDi6yuhwWu/R/e+miAbpmqVf9FYbq1+ocVP1RY5v+XYkvOAy/NmwY9cfStzPOEe06GjiE61IK5ws15tcWrn1W1+l4ZVkD71pC4wPKtA1bNwXZ4gOoFrkTjxgqxaKqW/ZeF6d1Hb97/IDxU0POgBrs5D3piSeu1yxHB3JPSSlcVb14ZgVMkrTpuZXeYiw2jlc5S3qOF2fv/IQ/630cDkbRSpPDhB//4G3feobReszYF0Q8odrSybTzi6FEvEtAWEi3rZ1Vv4qGnLEbC6lY4rTw2EIHFilWz045/9Ce8tuje8t3LFq12JEAobrA44K8rUacsMQ/yj7CPMBSTU5YXCYinqbSjvyVsNqNPWVvBKIDjmPvXv6PKbLDwNvfPCN8qnrfyh6fv8NdNfcoy7azmcv5zMKqXrNd7bbct+i8L8+e2fjwaOGXJSOCdxo+Foc7RGn/t4pMkPMQCraAVAq2gFbRC0O7T+kkIiqs8Wg9BUFzl0fpxCIqHPtbXmNYeCIqFQCsEWiEItEKgFbRC+53WH55rVPurL5i/M4npdCJJL4ks+9HX0wm6ar0GVS4mzkyS/bR3x7IvFwu6fq1nP4fV3be0dm3bt37mrHvly1+x3uSLyQyDNE0/mQB86WTwNaAMvzg3GXLL2JcLpn6tLz6H5d2ntHZ1ddWn9fZrP65WX3tAf1TPna9eP9tzvlplvvV89XdV9vYbP6mSnglU/uJzAVqzmTOThtZ8MZEohNE6k0gcP2aKTffMJHsWj+nrM4lkWhgIe1bPjwqmfjjXfU9rV5fGNcq33mZI/or851r1cc8aw/I8jwTOM3LPhfnW579mXymfmcwzyGgH53s4c5fpgk8rsdmTKRhaC+W5AvOd+nqGIM9klT1VKyIBVb9p/ksvYH33I60MVYVrJK0cUPq1psJVSau65NH67FfPhu3fWb69M5eYsH2kfM3zIOHKpNnkM8m53xSs65mkHQnwd/lC2NheRCiwT2lVv6JpfelBW2ktF8LjVpfWnsVfZ9M3p0ErpGm1DlqRvvWxJDKKVsJ57frZyEjAobVnIRl+ymIRgoVyz9ziMTpAWdeDtJaZe14IoxWRwAF+gvXST6vsXPX818VpSrxeP0uHrWfW+IFrjZ+2Gjm3tHiCleSnJooEyjIiUK8iRLDO9gvTImaV14WdeiV7qixxsxiCK05ZB5nWBy1XHniC1XHhCdbBpfV2tfq45dpf3cW9GK71IPtWCAKtEARaIdAKQaAVgkArBFqFniS/1c9XDc9rbV0zMlvGUTqQRdiSFpL133v2wa81guJfbgSybuoM5GahlXYbqmy+PCkXWZ5aJlGoM09128s0O4yoeraTh9xG39pcfmtIvmq6tdVYDJ8r/hWsXa+0S2efrL6WFZ6sYFaJPqAZe50j2mWzsVBor0+yvsnOF6kfV0LaTjf7qb4yub1p2kYecvPfDrQpv1Xnq3r5reSaCow2nseaL84Vj2fUN7EFx0fx0QbzYAWt6WyeOY90oqDt0j8vCjthn07cDObPKjuVN5uRLjqtXqS9+57tEj+wnATzrLyjXh6uoZUNVdav2804W4L+7Mr5UHuPnAfTf3nfmR9Vn7ZT+b9qvNOLx9iPaVe1I+fJHadbv6JVXVf1yPE2nK/t5CE371vblN+q81Xd/FaWD5CmYcg8VjYoGnvWsgv6JCcPVvtW7ryZjfKtjN6ksU8zZJMhvlXmzX6ekZY1/TL2wfdkw7NtXN/q5+FatNIvXb9s17RnIoGCNR92tk/a6r+6786Pqk/a6fxfTWsmuZCltpWdqkfNkztOb/4lreq67r8cb6P52k4ecgu0tie/VeerOvmtarNSmYG09rS0zFcmnEhJrLKXWcjTXCSpmtgek0+r7FUOmE9r0jhbm1ZtH3jP2Uz7tIZkNgZp1fXLdt0sHt5Gwcuo1PPgZFx686Pqk3ZuRmV+mrG7qLOHdDtR4/TmX8x53stCkuNter7Ct+A20dqu/FaZr+quRhSt5UJ4nOnTetxQx02ejNay+t84zdCaaZXWdNLUL9q12gvsE1Hz49Lqzo+uL5JW5g0Xjym7RrT683+FF9Tt6/43QWumY7S2K79V5au6+a3sfbmYVXmsilb/ZMl2eyLTzYPVtPYs6pNcxvgibe/RKu3kxbz4L14NaeX1zYREAn4erqGV+mjqF+1a7ZnVZ8ir+bDnx25f3XfmR9enaHPyf8WnadG0q+qJGqc3/4JWdd30vz6t/nztaCTQpvxWna/q5LeK91m1k9Hv6QyL27PSLnCMUNG/vYOSmQze5ck7I09VMp9W2pv82mB9ZX0qo3q+kMiqfil79z2vby7pPEGb9vJwvdOcrF+PQ7+3Aho+kJlgHq+ch2B+cFbPo/1EkNWn7YL5v3n2BDFfFBWJdmcC8+KN06mfVaeOpWqCzXzVqcedr509Ze2d/NZMslMtpZM90Hbna0eeYO2V/Na6z+jbqZlEogAAtz1fu/TtAATtsEArtA9p7cNcQaAVgkArBFohCLRCEGiFQCsEgVYIAq0QaIUg0ApBoBUCrRAEWiEItEKgFYJiRCsEgVYIAq0QaIUg0ApBoBUCrRAEWiEItEKgFYJAKwSBVgi0QhBo/X879q/TIBAAcBjDQ/AqjAwuTeABSE0kzm26dNStow/g5BOoiT6h/CkthSYOarkm35e0EHK3/XIcB2pFraBWUCtqBbWCWlErqBW1qhW1glpRq1pRK6gVtaoVtYJaUataUSuoFbWqFbWCWlGrWlErqBW1glpBragV1ApqRa2gVlAragW1glpRK6gV1IpaQa2gVtQKagW1olZQK6gVtYJaUataUSuoFbWqFbWCWlGrWlErqBW1qhW1glpRq1pRK6gVtaoVtYJaUSuoFdSKWkGtoFbUCmoFtaJWUCuoFbWCWkGtqBXUCmpFraBWUCtqBbWCWlErqBW1qhW1glpRq1pRK6gVtaoVtYJaUataUSuoFbWqFbXCL2qNo+O/Wgm81rj/Uyvh1xq3P7VyBfvWOO5jVSvBf2UdYlUr4Z8JxM4EuJpanWChVlAraj1X6w0E4udaYwjVpNYIQqVW1ApqRa1q5X+lt9n40eNTkpSTJw93kxl5kqzVyqy1ph9RsakGD4pFHW/xMp6Rvlb9vVqZqdYuxOHKWp6dka+iaLtWKxeuNb39bN7qef+6b0I8Lq39Qlssmi1CPaMb15S6H6hWLljrbhXlX9W+1m0yjDUq3ruG010ZFfeZWpl7bc1O9gT5Mpuure31uTyMUytB1FpHOd23jmu1b2XOWrs3/Fs1+vbKk/ZMoN0JbKrDuO5erVyu1l1Sf1+d1Np9TJ3sXBfteWt9WQ7GNeet+3Fq5XqoFbWCWlHroFYI16hWCJ5aUSuoFbWCWuGPa4Vr8Q0taTW7zkwChQAAAABJRU5ErkJggg==\"/>\n",
    "</div>"
   ]
  },
  {
   "cell_type": "markdown",
   "metadata": {},
   "source": [
    "<br>"
   ]
  },
  {
   "cell_type": "markdown",
   "metadata": {},
   "source": [
    "As you can see, this is much better than notepad. It has syntax highlighting to start with. All your strings are green, functions in purple and so on. Not just that, you can run the python file, right from this window using the <kbd>F5</kbd> keyboard shortcut or click on <kbd>Run</kbd> -> <kbd>Run Module</kbd>.\n",
    "\n"
   ]
  },
  {
   "cell_type": "markdown",
   "metadata": {},
   "source": [
    "<br>"
   ]
  },
  {
   "cell_type": "markdown",
   "metadata": {},
   "source": [
    "<div class=\"text-center\">\n",
    "    <img src=\"data:image/png;base64,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\"/>\n",
    "</div>\n"
   ]
  },
  {
   "cell_type": "markdown",
   "metadata": {},
   "source": [
    "<br>"
   ]
  },
  {
   "cell_type": "markdown",
   "metadata": {},
   "source": [
    "And your file is run on the python shell automatically.\n",
    "\n"
   ]
  },
  {
   "cell_type": "markdown",
   "metadata": {},
   "source": [
    "<br>"
   ]
  },
  {
   "cell_type": "markdown",
   "metadata": {},
   "source": [
    "<div class=\"text-center\">\n",
    "    <img src=\"data:image/png;base64,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\"/>\n",
    "</div>"
   ]
  },
  {
   "cell_type": "markdown",
   "metadata": {},
   "source": [
    "<br>"
   ]
  },
  {
   "cell_type": "markdown",
   "metadata": {},
   "source": [
    "You can also use a variety of other features like debugging, code completion, command history and much more. However, it is not even close to a full-fledged Python IDE like the ones we are going to discuss in the next section.\n",
    "\n"
   ]
  },
  {
   "cell_type": "markdown",
   "metadata": {},
   "source": [
    "<br>\n",
    "<br>\n",
    "<br>\n",
    "<br>\n",
    "<br>\n",
    "<br>\n",
    "<br>\n",
    "<br>\n",
    "<br>\n",
    "<br>\n",
    "<br>\n",
    "<br>\n",
    "<br>\n",
    "<br>\n",
    "<br>\n",
    "<br>\n",
    "<br>\n",
    "<br>\n",
    "<br>\n",
    "<br>\n",
    "<br>\n",
    "<br>\n",
    "<br>\n",
    "<br>\n",
    "<br>\n",
    "<br>\n",
    "<br>\n",
    "<br>\n",
    "<br>\n",
    "<br>\n",
    "<br>\n",
    "<br>\n",
    "<br>\n",
    "<br>\n",
    "<br>\n",
    "<br>\n",
    "<br>\n",
    "<br>\n",
    "<br>\n",
    "<br>\n",
    "<br>\n",
    "<br>\n",
    "<br>\n",
    "<br>\n",
    "<br>\n",
    "<br>\n",
    "<br>\n",
    "<br>\n",
    "<br>\n",
    "<br>\n",
    "<br>\n",
    "<br>\n",
    "<br>\n",
    "<br>\n",
    "<br>\n",
    "<br>\n",
    "<br>"
   ]
  },
  {
   "cell_type": "code",
   "execution_count": null,
   "metadata": {},
   "outputs": [],
   "source": []
  }
 ],
 "metadata": {
  "kernelspec": {
   "display_name": "Python 3",
   "language": "python",
   "name": "python3"
  },
  "language_info": {
   "codemirror_mode": {
    "name": "ipython",
    "version": 3
   },
   "file_extension": ".py",
   "mimetype": "text/x-python",
   "name": "python",
   "nbconvert_exporter": "python",
   "pygments_lexer": "ipython3",
   "version": "3.9.4"
  }
 },
 "nbformat": 4,
 "nbformat_minor": 4
}
