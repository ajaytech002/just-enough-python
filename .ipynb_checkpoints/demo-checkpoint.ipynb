{
 "cells": [
  {
   "cell_type": "code",
   "execution_count": 6,
   "metadata": {},
   "outputs": [
    {
     "name": "stdout",
     "output_type": "stream",
     "text": [
      "2019-12-17 2019-12-24\n"
     ]
    }
   ],
   "source": [
    "from datetime import date, timedelta\n",
    "\n",
    "today = date.today ()\n",
    "today_7 = today + timedelta(days = 7)\n",
    "\n",
    "print ( today, today_7)"
   ]
  },
  {
   "cell_type": "code",
   "execution_count": 59,
   "metadata": {},
   "outputs": [
    {
     "name": "stdout",
     "output_type": "stream",
     "text": [
      "2000 28\n",
      "2001 27\n",
      "2002 27\n",
      "2003 27\n",
      "2004 28\n",
      "2005 27\n",
      "2006 27\n",
      "2007 27\n",
      "2008 28\n",
      "2009 27\n",
      "2010 27\n",
      "2011 27\n",
      "2012 28\n",
      "2013 27\n",
      "2014 27\n",
      "2015 27\n",
      "2016 28\n",
      "2017 27\n",
      "2018 27\n",
      "2019 27\n"
     ]
    }
   ],
   "source": [
    "from datetime import date, timedelta\n",
    "\n",
    "# we are not using the leap year method.Rather, we are iterating over each day and finding out the total number of days. This is definitely not efficient, but will make you understand the process.\n",
    "\n",
    "# get the date for feb month of 2000\n",
    "feb = date(2000,2,1)\n",
    "\n",
    "for year in range(2000,date.today().year + 1) :\n",
    "    month = feb.month\n",
    "    \n",
    "    count = 1\n",
    "    for i in range(1,31) :  # at most 31 days  \n",
    "        feb = feb + timedelta(days = 1)\n",
    "        \n",
    "        # as long as we are still in feb\n",
    "        if feb.month == month : \n",
    "            count = count + 1\n",
    "    \n",
    "    # print out the count\n",
    "    print ( year, count)\n",
    "    \n",
    "    # add one year \n",
    "    feb = feb.replace( year = feb.year + 1)\n",
    "    \n",
    "    # and reset the date to 1st of feb\n",
    "    feb = feb.replace(month = 2, day = 1)\n",
    "    \n",
    "    \n",
    "    "
   ]
  },
  {
   "cell_type": "code",
   "execution_count": 56,
   "metadata": {},
   "outputs": [
    {
     "data": {
      "text/plain": [
       "datetime.date(2000, 2, 1)"
      ]
     },
     "execution_count": 56,
     "metadata": {},
     "output_type": "execute_result"
    }
   ],
   "source": [
    "feb"
   ]
  },
  {
   "cell_type": "code",
   "execution_count": null,
   "metadata": {},
   "outputs": [],
   "source": []
  }
 ],
 "metadata": {
  "kernelspec": {
   "display_name": "Python 3",
   "language": "python",
   "name": "python3"
  },
  "language_info": {
   "codemirror_mode": {
    "name": "ipython",
    "version": 3
   },
   "file_extension": ".py",
   "mimetype": "text/x-python",
   "name": "python",
   "nbconvert_exporter": "python",
   "pygments_lexer": "ipython3",
   "version": "3.7.3"
  }
 },
 "nbformat": 4,
 "nbformat_minor": 4
}
