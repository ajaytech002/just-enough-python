{
 "cells": [
  {
   "cell_type": "markdown",
   "id": "297e501f-3ef9-45f8-a860-824b51900a45",
   "metadata": {},
   "source": [
    "Notebook is copyright &copy; of <a href=\"https://ajaytech.co\">Ajay Tech </a>."
   ]
  },
  {
   "cell_type": "markdown",
   "id": "5de6dda6-9b80-45f0-b166-87d862f67f6e",
   "metadata": {},
   "source": [
    "<div class=\"jumbotron\">\n",
    "    <h1 class=\"display-4\"><kbd>Requests</kbd> Library with Python</h1>\n",
    "  <p class=\"lead\"><kbd>requests</kbd> is the standard built-in library to make HTTP requests. It makes working with HTTP requests simple and effective.</p>\n",
    "  <hr>\n",
    "  <h3 class=\"display-6\"> Contents </h3>\n",
    "\n",
    "  <ul style=\"list-style-type:none\">\n",
    "    <li> <a href=\"#HTTP-Request\"> &#10070; HTTP request </a> </li>\n",
    "     <li> <a href=\"#Request-Methods\"> &#10070; Request Methods </a>  </li>\n",
    "     <li> <a href=\"#Response-Object\"> &#10070; Response Object </a> </li>\n",
    "  </ul>\n",
    "   \n",
    "\n",
    "</div>\n",
    "\n"
   ]
  },
  {
   "cell_type": "markdown",
   "id": "20d7f6e1-4163-4aa2-a512-36f47451585e",
   "metadata": {},
   "source": [
    "<hr>"
   ]
  },
  {
   "cell_type": "markdown",
   "id": "738c8922-ce6a-4034-94b2-cf59a96a2c54",
   "metadata": {},
   "source": [
    "<div class=\"alert alert-secondary\" id=\"HTTP-Request\">    \n",
    "    <span class=\"topic\"> &#10070; HTTP Request</span>   \n",
    "</div>"
   ]
  },
  {
   "cell_type": "markdown",
   "id": "2c110bc8-e3cf-4a92-a2b5-5ab33158ac73",
   "metadata": {},
   "source": [
    "<br>"
   ]
  }
 ],
 "metadata": {
  "kernelspec": {
   "display_name": "Python 3",
   "language": "python",
   "name": "python3"
  },
  "language_info": {
   "codemirror_mode": {
    "name": "ipython",
    "version": 3
   },
   "file_extension": ".py",
   "mimetype": "text/x-python",
   "name": "python",
   "nbconvert_exporter": "python",
   "pygments_lexer": "ipython3",
   "version": "3.9.4"
  }
 },
 "nbformat": 4,
 "nbformat_minor": 5
}
