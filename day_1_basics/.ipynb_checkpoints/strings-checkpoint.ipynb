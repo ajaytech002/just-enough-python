{
 "cells": [
  {
   "cell_type": "markdown",
   "metadata": {},
   "source": [
    "Notebook is copyright &copy; of Ajay Tech"
   ]
  },
  {
   "cell_type": "markdown",
   "metadata": {},
   "source": [
    "# Strings"
   ]
  },
  {
   "cell_type": "markdown",
   "metadata": {},
   "source": [
    "## Contents"
   ]
  },
  {
   "cell_type": "markdown",
   "metadata": {},
   "source": [
    "- What are Strings\n",
    "- substrings\n",
    "- string indexing\n",
    "- string split\n",
    "- string strip\n",
    "- string alpha numeric functions\n",
    "- string concatenation\n",
    "- string upper and lower case functions"
   ]
  },
  {
   "cell_type": "markdown",
   "metadata": {},
   "source": [
    "#### What are strings"
   ]
  },
  {
   "cell_type": "markdown",
   "metadata": {},
   "source": [
    "Strings are a sequence of characters that a variable can hold. For example, the variable name holds a string of characters for the name. "
   ]
  },
  {
   "cell_type": "code",
   "execution_count": 2,
   "metadata": {},
   "outputs": [],
   "source": [
    "name = \"Ajay\""
   ]
  },
  {
   "cell_type": "markdown",
   "metadata": {},
   "source": [
    "Both single quotes and double quotes are ok. So, both of the following versions are acceptable versions of strings in Python."
   ]
  },
  {
   "cell_type": "code",
   "execution_count": 6,
   "metadata": {},
   "outputs": [],
   "source": [
    "name_1 = \"Ajay\"\n",
    "\n",
    "#or\n",
    "\n",
    "name_2 = 'Ajay'"
   ]
  },
  {
   "cell_type": "markdown",
   "metadata": {},
   "source": [
    "Python automatically assigns the variable with type string."
   ]
  },
  {
   "cell_type": "code",
   "execution_count": 3,
   "metadata": {},
   "outputs": [
    {
     "data": {
      "text/plain": [
       "str"
      ]
     },
     "execution_count": 3,
     "metadata": {},
     "output_type": "execute_result"
    }
   ],
   "source": [
    "type(name)"
   ]
  },
  {
   "cell_type": "markdown",
   "metadata": {},
   "source": [
    "#### substrings"
   ]
  },
  {
   "cell_type": "markdown",
   "metadata": {},
   "source": [
    "String variables have a bunch of <a href=\"https://docs.python.org/3/library/stdtypes.html#string-methods\">inbuilt methods</a> - think of them as helper methods. For example, to find out if the string \"Ajay Tech\" contains the word \"Tech\" , use the in-built function **find ( )**"
   ]
  },
  {
   "cell_type": "code",
   "execution_count": 7,
   "metadata": {},
   "outputs": [
    {
     "data": {
      "text/plain": [
       "5"
      ]
     },
     "execution_count": 7,
     "metadata": {},
     "output_type": "execute_result"
    }
   ],
   "source": [
    "name = \"Ajay Tech\"\n",
    "\n",
    "name.find(\"Tech\")"
   ]
  },
  {
   "cell_type": "markdown",
   "metadata": {},
   "source": [
    "**find ( )** returns the index of the start of the sub-string you are looking for. In our case, it is 5. But is it really 5 ? Not unless we start with 0. And just like C or Java, all indexing starts with 0 in Python. "
   ]
  },
  {
   "cell_type": "markdown",
   "metadata": {},
   "source": [
    "### String Indexing"
   ]
  },
  {
   "cell_type": "markdown",
   "metadata": {},
   "source": [
    "<div class=\"text-center\">\n",
    "    <img src=\"data:image/png;base64,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\"/>\n",
    "</div>"
   ]
  },
  {
   "cell_type": "markdown",
   "metadata": {},
   "source": [
    "With indexing, you can really slice and dice a string any way you want. For example, to extract the first character in the string, just use"
   ]
  },
  {
   "cell_type": "code",
   "execution_count": 8,
   "metadata": {},
   "outputs": [
    {
     "data": {
      "text/plain": [
       "'A'"
      ]
     },
     "execution_count": 8,
     "metadata": {},
     "output_type": "execute_result"
    }
   ],
   "source": [
    "name[0]"
   ]
  },
  {
   "cell_type": "markdown",
   "metadata": {},
   "source": [
    "Now it should make sense why the substring \"tech\" starts at 5 and not at 6. "
   ]
  },
  {
   "cell_type": "markdown",
   "metadata": {},
   "source": [
    "**Question** - What is the index of the substring \"hot\" in the string \"Python is a hot language\""
   ]
  },
  {
   "cell_type": "markdown",
   "metadata": {},
   "source": [
    "- 10\n",
    "- 11\n",
    "- 12"
   ]
  },
  {
   "cell_type": "markdown",
   "metadata": {},
   "source": [
    "Now, we are going to look at a couple of string methods that are most used. "
   ]
  },
  {
   "cell_type": "markdown",
   "metadata": {},
   "source": [
    "#### String split"
   ]
  },
  {
   "cell_type": "markdown",
   "metadata": {},
   "source": [
    "Splitting strings is pretty useful. Think if splitting a name into it's first, middle and last names."
   ]
  },
  {
   "cell_type": "code",
   "execution_count": 10,
   "metadata": {},
   "outputs": [],
   "source": [
    "name = \"William Bradley Pitt\" # BTW, that is Brad Pitt's real name."
   ]
  },
  {
   "cell_type": "code",
   "execution_count": 11,
   "metadata": {},
   "outputs": [
    {
     "data": {
      "text/plain": [
       "['William', 'Bradley', 'Pitt']"
      ]
     },
     "execution_count": 11,
     "metadata": {},
     "output_type": "execute_result"
    }
   ],
   "source": [
    "name.split()"
   ]
  },
  {
   "cell_type": "markdown",
   "metadata": {},
   "source": [
    "Using multiple variable assignments, you can split up the string and assign them to multiple variables like below."
   ]
  },
  {
   "cell_type": "code",
   "execution_count": 12,
   "metadata": {},
   "outputs": [],
   "source": [
    "first, middle, last = name.split()"
   ]
  },
  {
   "cell_type": "code",
   "execution_count": 14,
   "metadata": {},
   "outputs": [
    {
     "data": {
      "text/plain": [
       "'Bradley'"
      ]
     },
     "execution_count": 14,
     "metadata": {},
     "output_type": "execute_result"
    }
   ],
   "source": [
    "middle"
   ]
  },
  {
   "cell_type": "markdown",
   "metadata": {},
   "source": [
    "**split ( )** function by default splits the string based on the blank( space ) character. You can split by any other character. For example, if the name was like this, "
   ]
  },
  {
   "cell_type": "markdown",
   "metadata": {},
   "source": [
    "<div class=\"text-center\">\n",
    "<img src=\"data:image/png;base64,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\"/>\n",
    "</div>    "
   ]
  },
  {
   "cell_type": "code",
   "execution_count": 15,
   "metadata": {},
   "outputs": [],
   "source": [
    "name = \"William,Bradley,Pitt\""
   ]
  },
  {
   "cell_type": "markdown",
   "metadata": {},
   "source": [
    "you could use ask the **split ( )** function to split by **comma (,)** and not by space."
   ]
  },
  {
   "cell_type": "markdown",
   "metadata": {},
   "source": [
    "<div class=\"text-center\">\n",
    "    <img src=\"data:image/png;base64,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\"/>\n",
    "</div>    "
   ]
  },
  {
   "cell_type": "code",
   "execution_count": 16,
   "metadata": {},
   "outputs": [],
   "source": [
    "first,middle,last = name.split(\",\")"
   ]
  },
  {
   "cell_type": "code",
   "execution_count": 17,
   "metadata": {},
   "outputs": [
    {
     "data": {
      "text/plain": [
       "'Bradley'"
      ]
     },
     "execution_count": 17,
     "metadata": {},
     "output_type": "execute_result"
    }
   ],
   "source": [
    "middle"
   ]
  },
  {
   "cell_type": "markdown",
   "metadata": {},
   "source": [
    "We will talk more about functions and arguments in the next section. "
   ]
  },
  {
   "cell_type": "markdown",
   "metadata": {},
   "source": [
    "#### String strip"
   ]
  },
  {
   "cell_type": "markdown",
   "metadata": {},
   "source": [
    "String strip is another useful function. It is often the case that data is messy. For example, when the user enters their name or address on a web form, they could include additional spaces at the end or at the beginning. This cause inconsistency in comparing strings. For example, "
   ]
  },
  {
   "cell_type": "code",
   "execution_count": 19,
   "metadata": {},
   "outputs": [
    {
     "data": {
      "text/plain": [
       "False"
      ]
     },
     "execution_count": 19,
     "metadata": {},
     "output_type": "execute_result"
    }
   ],
   "source": [
    "name_1 = \"Ajay\"\n",
    "name_2 = \" Ajay \" # observe the leading and trailing space\n",
    "\n",
    "name_1 == name_2"
   ]
  },
  {
   "cell_type": "markdown",
   "metadata": {},
   "source": [
    "<div class=\"text-center\">\n",
    "    <img src=\"data:image/png;base64,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\"/>\n",
    "</div>    "
   ]
  },
  {
   "cell_type": "code",
   "execution_count": 22,
   "metadata": {},
   "outputs": [],
   "source": [
    "name_2 = name_2.strip()"
   ]
  },
  {
   "cell_type": "code",
   "execution_count": 23,
   "metadata": {},
   "outputs": [
    {
     "data": {
      "text/plain": [
       "True"
      ]
     },
     "execution_count": 23,
     "metadata": {},
     "output_type": "execute_result"
    }
   ],
   "source": [
    "name_1 == name_2"
   ]
  },
  {
   "cell_type": "code",
   "execution_count": 24,
   "metadata": {},
   "outputs": [
    {
     "data": {
      "text/plain": [
       "False"
      ]
     },
     "execution_count": 24,
     "metadata": {},
     "output_type": "execute_result"
    }
   ],
   "source": [
    "name_1 = \"Ajay\"\n",
    "name_2 = \" Ajay \" # observe the leading and trailing space\n",
    "\n",
    "name_2.strip()\n",
    "\n",
    "name_1 == name_2"
   ]
  },
  {
   "cell_type": "markdown",
   "metadata": {},
   "source": [
    "**Question** - What is the output of the code above."
   ]
  },
  {
   "cell_type": "markdown",
   "metadata": {},
   "source": [
    "- True\n",
    "- False"
   ]
  },
  {
   "cell_type": "markdown",
   "metadata": {},
   "source": [
    "#### String is alphanumeric"
   ]
  },
  {
   "cell_type": "markdown",
   "metadata": {},
   "source": [
    "Another useful function with Strings in Python is to check if a string is alphanumeric or not. Most websites restrict the user name to be either alphabetic or numeric and nothing else ( no special characters ). How do you check for it ? Use the **isalnum ( )** function"
   ]
  },
  {
   "cell_type": "code",
   "execution_count": 28,
   "metadata": {},
   "outputs": [
    {
     "data": {
      "text/plain": [
       "False"
      ]
     },
     "execution_count": 28,
     "metadata": {},
     "output_type": "execute_result"
    }
   ],
   "source": [
    "name = \" Ajay Tech !!\" # contains a non-alpha numeric character \"!\"\n",
    "name.isalnum()"
   ]
  },
  {
   "cell_type": "markdown",
   "metadata": {},
   "source": [
    "Another useful function is to check if the string is just alphabetic or not ( No numerics or special characters ). In this case, use the **isalpha ( )** function."
   ]
  },
  {
   "cell_type": "code",
   "execution_count": 34,
   "metadata": {},
   "outputs": [],
   "source": [
    "name = \"ajaytech1\"  # contains a numeric \"1\""
   ]
  },
  {
   "cell_type": "code",
   "execution_count": 33,
   "metadata": {},
   "outputs": [
    {
     "data": {
      "text/plain": [
       "True"
      ]
     },
     "execution_count": 33,
     "metadata": {},
     "output_type": "execute_result"
    }
   ],
   "source": [
    "name.isalpha()"
   ]
  },
  {
   "cell_type": "markdown",
   "metadata": {},
   "source": [
    "#### String Concatenation"
   ]
  },
  {
   "cell_type": "markdown",
   "metadata": {},
   "source": [
    "Concatenating strings is pretty easy. You don't even need an in-built function for this. Just use the operator **+** . When we visit Object Oriented Python later, we will understand exactly why this works (operator overloading). For now, just think of it as a shortcut to join strings together."
   ]
  },
  {
   "cell_type": "code",
   "execution_count": 36,
   "metadata": {},
   "outputs": [
    {
     "name": "stdout",
     "output_type": "stream",
     "text": [
      "AjayTech\n"
     ]
    }
   ],
   "source": [
    "name_1 = \"Ajay\"\n",
    "name_2 = \"Tech\"\n",
    "\n",
    "name = name_1 + name_2\n",
    "print ( name )"
   ]
  },
  {
   "cell_type": "markdown",
   "metadata": {},
   "source": [
    "#### Upper and Lower case"
   ]
  },
  {
   "cell_type": "markdown",
   "metadata": {},
   "source": [
    "Like we discussed earlier, user data is always messy. For example, when a user enters their name, it could be in a variety of ways \n",
    "\n",
    "- Init capitals\n",
    "- leading and trailing spaces\n",
    "- capitals in between etc."
   ]
  },
  {
   "cell_type": "markdown",
   "metadata": {},
   "source": [
    "So, it is common practice to process user data and store it in a standardize way. For example, the name \"Ajay tech\" would probably be needed to be stored internally as \"AJAY TECH\" , so that all future data comparisions could be done easily. "
   ]
  },
  {
   "cell_type": "code",
   "execution_count": 37,
   "metadata": {},
   "outputs": [
    {
     "data": {
      "text/plain": [
       "'AJAY TECH'"
      ]
     },
     "execution_count": 37,
     "metadata": {},
     "output_type": "execute_result"
    }
   ],
   "source": [
    "name = \"Ajay tech\"\n",
    "name.upper()"
   ]
  },
  {
   "cell_type": "markdown",
   "metadata": {},
   "source": [
    "It is OK to store it this way, but that is not how you would want to display it back, right ? You would want to display it with Initial capitals - \"Ajay Tech\" . To do that use the **title ( )** function. "
   ]
  },
  {
   "cell_type": "code",
   "execution_count": 40,
   "metadata": {},
   "outputs": [
    {
     "data": {
      "text/plain": [
       "'AJAY TECH'"
      ]
     },
     "execution_count": 40,
     "metadata": {},
     "output_type": "execute_result"
    }
   ],
   "source": [
    "name_c = name.upper()\n",
    "name_c"
   ]
  },
  {
   "cell_type": "code",
   "execution_count": 41,
   "metadata": {},
   "outputs": [
    {
     "data": {
      "text/plain": [
       "'Ajay Tech'"
      ]
     },
     "execution_count": 41,
     "metadata": {},
     "output_type": "execute_result"
    }
   ],
   "source": [
    "name_c.title()"
   ]
  },
  {
   "cell_type": "markdown",
   "metadata": {},
   "source": [
    "The point we are trying to make here is that there are a variety of in-built string functions that you can use without having to re-invent the wheel everytime you want some piece of functionality like this. Here are some other useful functions\n",
    "\n",
    "- **swapcase ( )** - swaps upper case to lower and vice-versa\n",
    "- **isupper ( )** - checks if all the characters in a string are upper case\n",
    "- **islower ( )** - check if all the characters in the string are lower case\n",
    "- **capitalize ( )** - Capitalize the first letter and make all the other characters lower case."
   ]
  },
  {
   "cell_type": "markdown",
   "metadata": {},
   "source": [
    "**challenge** - Reverse a string. For example, if you are given a string \"Ajay\", you have reverse the characters in the string and return a new string as \"yajA\"."
   ]
  },
  {
   "cell_type": "code",
   "execution_count": 7,
   "metadata": {},
   "outputs": [
    {
     "name": "stdin",
     "output_type": "stream",
     "text": [
      "enter string >  Ajay\n"
     ]
    },
    {
     "name": "stdout",
     "output_type": "stream",
     "text": [
      "yajA\n"
     ]
    }
   ],
   "source": [
    "text = input(\"enter string > \")\n",
    "\n",
    "i = len(text)\n",
    "r_text = \"\"\n",
    "\n",
    "while i > 0  :\n",
    "    r_text = r_text + text[i-1]\n",
    "    i = i - 1\n",
    "\n",
    "print ( r_text)"
   ]
  },
  {
   "cell_type": "markdown",
   "metadata": {},
   "source": [
    "**challenge** - split a user entered string into its words and print each of the word with the initial letter capitalized."
   ]
  },
  {
   "cell_type": "code",
   "execution_count": 11,
   "metadata": {},
   "outputs": [
    {
     "name": "stdin",
     "output_type": "stream",
     "text": [
      "enter string >  ajay tech is an IT learning company\n"
     ]
    },
    {
     "name": "stdout",
     "output_type": "stream",
     "text": [
      "Ajay\n",
      "Tech\n",
      "Is\n",
      "An\n",
      "It\n",
      "Learning\n",
      "Company\n"
     ]
    }
   ],
   "source": [
    "text = input ( \"enter string > \")\n",
    "\n",
    "for word in text.split() :\n",
    "    print ( word.title())"
   ]
  },
  {
   "cell_type": "code",
   "execution_count": null,
   "metadata": {},
   "outputs": [],
   "source": []
  }
 ],
 "metadata": {
  "kernelspec": {
   "display_name": "Python 3",
   "language": "python",
   "name": "python3"
  },
  "language_info": {
   "codemirror_mode": {
    "name": "ipython",
    "version": 3
   },
   "file_extension": ".py",
   "mimetype": "text/x-python",
   "name": "python",
   "nbconvert_exporter": "python",
   "pygments_lexer": "ipython3",
   "version": "3.9.4"
  }
 },
 "nbformat": 4,
 "nbformat_minor": 4
}
