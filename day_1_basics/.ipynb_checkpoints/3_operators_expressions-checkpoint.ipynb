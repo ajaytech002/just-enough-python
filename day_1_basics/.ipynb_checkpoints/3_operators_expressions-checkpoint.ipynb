{
 "cells": [
  {
   "cell_type": "markdown",
   "metadata": {},
   "source": [
    "Notebook is copyright &copy; of <a href=\"https://ajaytech.co\">Ajay Tech </a>."
   ]
  },
  {
   "cell_type": "markdown",
   "metadata": {},
   "source": [
    "<div class=\"jumbotron\">\n",
    "  <h1 class=\"display-4\"> Operators and expressions</h1>\n",
    "  <p class=\"lead\">Variables in Python can be subjected to all kinds of Operations - like addition, substraction etc. There are specific rules in Python to evaluate these operations. We will explore more about these in this chapter.</p>\n",
    "  <hr>\n",
    "  <h3 class=\"display-6\"> Contents </h3>\n",
    "\n",
    "  <ul style=\"list-style-type:none\">\n",
    "    <li> <a href=\"#Operators-and-Expressions\"> &#10070; Arithmetic Operators </a> </li>\n",
    "      <ul style=\"list-style-type:none\">\n",
    "          <li> <a href=\"#Basic-Math\"> &#9656; Basic Math </a> </li>\n",
    "          <li> <a href=\"#Special-Division\"> &#9656; Special Division </a> </li>\n",
    "          <li> <a href=\"#Exponentiation\"> &#9656; Exponentiation </a> </li>\n",
    "      </ul>\n",
    "    <li> <a href=\"#Comparision-Operators\"> &#10070; Comparision Operators </a> </li>\n",
    "    <li> <a href=\"#Logical-Operators\"> &#10070; Logical Operators </a> </li>    \n",
    "    <li> <a href=\"#Operator-Precedence\"> &#10070; Operator Precedence </a> </li>    \n",
    "  </ul>\n",
    "</div>\n",
    "\n"
   ]
  },
  {
   "cell_type": "markdown",
   "metadata": {},
   "source": [
    "<br/>"
   ]
  },
  {
   "cell_type": "markdown",
   "metadata": {},
   "source": [
    "## Contents"
   ]
  },
  {
   "cell_type": "markdown",
   "metadata": {},
   "source": [
    "<hr>"
   ]
  },
  {
   "cell_type": "markdown",
   "metadata": {},
   "source": [
    "<div class=\"alert alert-secondary\" id=\"Arithmetic-Operators\">    \n",
    "    <span class=\"topic\"> &#10070;  Arithmetic Operators</span>   \n",
    "</div>"
   ]
  },
  {
   "cell_type": "markdown",
   "metadata": {},
   "source": [
    "### Basic Math"
   ]
  },
  {
   "cell_type": "markdown",
   "metadata": {},
   "source": [
    "#### Addition "
   ]
  },
  {
   "cell_type": "code",
   "execution_count": 1,
   "metadata": {},
   "outputs": [
    {
     "name": "stdout",
     "output_type": "stream",
     "text": [
      "5\n"
     ]
    }
   ],
   "source": [
    "cats = 3\n",
    "dogs = 2\n",
    "\n",
    "pets = cats + dogs\n",
    "print ( pets )"
   ]
  },
  {
   "cell_type": "markdown",
   "metadata": {},
   "source": [
    "There is another operator __+=__ that can be used for addition as well. For example, you can do, "
   ]
  },
  {
   "cell_type": "code",
   "execution_count": 15,
   "metadata": {},
   "outputs": [
    {
     "name": "stdout",
     "output_type": "stream",
     "text": [
      "5\n"
     ]
    }
   ],
   "source": [
    "cats += dogs\n",
    "\n",
    "print ( cats )"
   ]
  },
  {
   "cell_type": "markdown",
   "metadata": {},
   "source": [
    "#### Substraction"
   ]
  },
  {
   "cell_type": "code",
   "execution_count": 4,
   "metadata": {},
   "outputs": [
    {
     "name": "stdout",
     "output_type": "stream",
     "text": [
      "75\n"
     ]
    }
   ],
   "source": [
    "total_distance  = 100\n",
    "distance_so_far = 25\n",
    "\n",
    "distance_remaining = total_distance - distance_so_far\n",
    "\n",
    "print ( distance_remaining)"
   ]
  },
  {
   "cell_type": "markdown",
   "metadata": {},
   "source": [
    "Similar to how we have used += before, you can use the -= operator for substraction. "
   ]
  },
  {
   "cell_type": "markdown",
   "metadata": {},
   "source": [
    "#### Division"
   ]
  },
  {
   "cell_type": "code",
   "execution_count": 8,
   "metadata": {},
   "outputs": [
    {
     "name": "stdout",
     "output_type": "stream",
     "text": [
      "20.0\n"
     ]
    }
   ],
   "source": [
    "distance  = 100 # miles driven\n",
    "fuel      = 5   # fuel consumed in gallons\n",
    "\n",
    "avg_consumption = distance / fuel\n",
    "print ( avg_consumption )\n"
   ]
  },
  {
   "cell_type": "markdown",
   "metadata": {},
   "source": [
    "Similar to how we have used += before, you can use the /= operator for division. "
   ]
  },
  {
   "cell_type": "markdown",
   "metadata": {},
   "source": [
    "#### Multiplication"
   ]
  },
  {
   "cell_type": "code",
   "execution_count": 9,
   "metadata": {},
   "outputs": [
    {
     "name": "stdout",
     "output_type": "stream",
     "text": [
      "100\n"
     ]
    }
   ],
   "source": [
    "avg  = 20 # average fuel consumption in miles/gallon\n",
    "fuel = 5  # total fuel available in gallons\n",
    "\n",
    "distance = avg * fuel\n",
    "print (distance)"
   ]
  },
  {
   "cell_type": "markdown",
   "metadata": {},
   "source": [
    "Similar to how we have used += before, you can use the *= operator for multiplication. "
   ]
  },
  {
   "cell_type": "markdown",
   "metadata": {},
   "source": [
    "### Special Division"
   ]
  },
  {
   "cell_type": "markdown",
   "metadata": {},
   "source": [
    "#### Modulo Division"
   ]
  },
  {
   "cell_type": "markdown",
   "metadata": {},
   "source": [
    "This provides "
   ]
  },
  {
   "cell_type": "code",
   "execution_count": 17,
   "metadata": {},
   "outputs": [
    {
     "name": "stdout",
     "output_type": "stream",
     "text": [
      "1\n"
     ]
    }
   ],
   "source": [
    "dividend = 21\n",
    "divisor  = 10\n",
    "\n",
    "remainder = dividend % divisor\n",
    "print ( remainder )"
   ]
  },
  {
   "cell_type": "markdown",
   "metadata": {},
   "source": [
    "#### Floor Division "
   ]
  },
  {
   "cell_type": "code",
   "execution_count": 12,
   "metadata": {},
   "outputs": [
    {
     "name": "stdout",
     "output_type": "stream",
     "text": [
      "2\n"
     ]
    }
   ],
   "source": [
    "dividend = 21\n",
    "divisor  = 10\n",
    "\n",
    "quotient = dividend // divisor\n",
    "print ( quotient )"
   ]
  },
  {
   "cell_type": "code",
   "execution_count": 13,
   "metadata": {},
   "outputs": [
    {
     "name": "stdout",
     "output_type": "stream",
     "text": [
      "2\n"
     ]
    }
   ],
   "source": [
    "count = 1\n",
    "\n",
    "count += 1\n",
    "\n",
    "print ( count )"
   ]
  },
  {
   "cell_type": "markdown",
   "metadata": {},
   "source": [
    "#### Exponentiation"
   ]
  },
  {
   "cell_type": "markdown",
   "metadata": {},
   "source": [
    "Also called the power function, you can do exponential multiplication of one variable with another using the ** operator. "
   ]
  },
  {
   "cell_type": "markdown",
   "metadata": {},
   "source": [
    "For example, the square of a number is done in Python as "
   ]
  },
  {
   "cell_type": "code",
   "execution_count": 18,
   "metadata": {},
   "outputs": [
    {
     "data": {
      "text/plain": [
       "100"
      ]
     },
     "execution_count": 18,
     "metadata": {},
     "output_type": "execute_result"
    }
   ],
   "source": [
    "count = 10\n",
    "\n",
    "count ** 2"
   ]
  },
  {
   "cell_type": "markdown",
   "metadata": {},
   "source": [
    "<div class=\"alert alert-info\" role=\"alert\">\n",
    "    <span class=\"topic\"> &#9745;  Quiz </span>\n",
    "</div>"
   ]
  },
  {
   "cell_type": "markdown",
   "metadata": {},
   "source": [
    "<div class=\"jumbotron\">\n",
    "    <pre>var_1 = 4 // 1\n",
    "print ( var_1  )</pre>\n",
    "    <span class=\"topic\">What is the output of the code above</span>\n",
    "    <blockquote class=\"blockquote\">   \n",
    "        <p> 4 </p>\n",
    "    </blockquote>\n",
    "    <blockquote class=\"blockquote\">\n",
    "        <p>4.0</p>\n",
    "    </blockquote> \n",
    "    <blockquote class=\"blockquote\">\n",
    "        <p>0</p>\n",
    "    </blockquote>   \n",
    "</div>"
   ]
  },
  {
   "cell_type": "markdown",
   "metadata": {},
   "source": [
    "<div class=\"jumbotron\">\n",
    "    <pre>var_1 = 2 % 2\n",
    "print ( var_1  )</pre>\n",
    "    <span class=\"topic\">What is the output of the code above</span>\n",
    "    <blockquote class=\"blockquote\">   \n",
    "        <p> 2 </p>\n",
    "    </blockquote>\n",
    "    <blockquote class=\"blockquote\">\n",
    "        <p>0</p>\n",
    "    </blockquote> \n",
    "    <blockquote class=\"blockquote\">\n",
    "        <p>1</p>\n",
    "    </blockquote>   \n",
    "</div>"
   ]
  },
  {
   "cell_type": "markdown",
   "metadata": {},
   "source": [
    "<div class=\"jumbotron\">\n",
    "    <pre>var_1 = 2 / 2\n",
    "print ( var_1  )</pre>\n",
    "    <span class=\"topic\">What is the output of the code above</span>\n",
    "    <blockquote class=\"blockquote\">   \n",
    "        <p> 1.0 </p>\n",
    "    </blockquote>\n",
    "    <blockquote class=\"blockquote\">\n",
    "        <p>1</p>\n",
    "    </blockquote> \n",
    "    <blockquote class=\"blockquote\">\n",
    "        <p>0</p>\n",
    "    </blockquote>   \n",
    "</div>"
   ]
  },
  {
   "cell_type": "markdown",
   "metadata": {},
   "source": [
    "<div class=\"jumbotron\">\n",
    "    <pre>var_1 = 2 ** 2\n",
    "print ( var_1  )</pre>\n",
    "    <span class=\"topic\">What is the output of the code above</span>\n",
    "    <blockquote class=\"blockquote\">   \n",
    "        <p> 4 </p>\n",
    "    </blockquote>\n",
    "    <blockquote class=\"blockquote\">\n",
    "        <p>4.0</p>\n",
    "    </blockquote> \n",
    "    <blockquote class=\"blockquote\">\n",
    "        <p>0</p>\n",
    "    </blockquote>   \n",
    "</div>"
   ]
  },
  {
   "cell_type": "markdown",
   "metadata": {},
   "source": [
    "<div class=\"jumbotron\">\n",
    "    <pre>var_1 = 4 // 1\n",
    "var_2 = var_1 % 2\n",
    "var_3 = var_2 / 2\n",
    "var_4 = var_3 ** 2\n",
    "print ( var_1, var_2, var_3, var_4 )</pre>\n",
    "    <span class=\"topic\">What is the output of the code above</span>\n",
    "    <blockquote class=\"blockquote\">   \n",
    "        <p> 0 - 0 - 0.0 - 0.0</p>\n",
    "    </blockquote>\n",
    "    <blockquote class=\"blockquote\">\n",
    "        <p>8 - 2 - 2.0 - 4.0</p>\n",
    "    </blockquote> \n",
    "    <blockquote class=\"blockquote\">\n",
    "        <p>1 - 0.33 - 0.33 - 0.1089</p>\n",
    "    </blockquote>   \n",
    "</div>"
   ]
  },
  {
   "cell_type": "markdown",
   "metadata": {},
   "source": [
    "<hr>"
   ]
  },
  {
   "cell_type": "markdown",
   "metadata": {},
   "source": [
    "<br>"
   ]
  },
  {
   "cell_type": "markdown",
   "metadata": {},
   "source": [
    "<div class=\"alert alert-secondary\" id=\"Logical-Operators\">    \n",
    "    <span class=\"topic\"> &#10070;  Logical Operators</span>   \n",
    "</div>"
   ]
  },
  {
   "cell_type": "markdown",
   "metadata": {},
   "source": [
    "<span class=\"topic\"> <kbd>==</kbd> Operator </span>"
   ]
  },
  {
   "cell_type": "markdown",
   "metadata": {},
   "source": [
    "While a single **=** assigns a value to a variable, a __==__ is used to check if the value on the left is equal to the value on the right. The output of these type of operators will always be boolean."
   ]
  },
  {
   "cell_type": "code",
   "execution_count": 35,
   "metadata": {},
   "outputs": [],
   "source": [
    "count = 10"
   ]
  },
  {
   "cell_type": "code",
   "execution_count": 36,
   "metadata": {},
   "outputs": [
    {
     "name": "stdout",
     "output_type": "stream",
     "text": [
      "True\n"
     ]
    }
   ],
   "source": [
    "# Now you can use the == operator to do a comparion of one variable to another\n",
    "\n",
    "print ( count % 2 == 0 )"
   ]
  },
  {
   "cell_type": "markdown",
   "metadata": {},
   "source": [
    "<span class=\"topic\"> <kbd>!=</kbd> Operator </span>"
   ]
  },
  {
   "cell_type": "markdown",
   "metadata": {},
   "source": [
    "If we want to compare for inequality, use the **!=** operator. "
   ]
  },
  {
   "cell_type": "code",
   "execution_count": 37,
   "metadata": {},
   "outputs": [
    {
     "name": "stdout",
     "output_type": "stream",
     "text": [
      "False\n"
     ]
    }
   ],
   "source": [
    "count = 9\n",
    "\n",
    "print ( count % 2 == 0 )"
   ]
  },
  {
   "cell_type": "markdown",
   "metadata": {},
   "source": [
    "<br>"
   ]
  },
  {
   "cell_type": "markdown",
   "metadata": {},
   "source": [
    "<span class=\"topic\"> <kbd> &#60; </kbd> and <kbd>&#60;= </kbd> Operator </span> "
   ]
  },
  {
   "cell_type": "markdown",
   "metadata": {},
   "source": [
    "These are used to compare one number with another. Of course, these can't be used for characters with any meaningful effect. "
   ]
  },
  {
   "cell_type": "code",
   "execution_count": 54,
   "metadata": {},
   "outputs": [
    {
     "name": "stdout",
     "output_type": "stream",
     "text": [
      "True\n"
     ]
    }
   ],
   "source": [
    "# Am I a teenager ?\n",
    "age = 19\n",
    "\n",
    "print ( age < 20 )"
   ]
  },
  {
   "cell_type": "markdown",
   "metadata": {},
   "source": [
    "An equivalent for this would be"
   ]
  },
  {
   "cell_type": "code",
   "execution_count": 53,
   "metadata": {},
   "outputs": [
    {
     "name": "stdout",
     "output_type": "stream",
     "text": [
      "True\n"
     ]
    }
   ],
   "source": [
    "print ( age <= 19 )"
   ]
  },
  {
   "cell_type": "markdown",
   "metadata": {},
   "source": [
    "<br>"
   ]
  },
  {
   "cell_type": "markdown",
   "metadata": {},
   "source": [
    "<span class=\"topic\"> <kbd> &gt; </kbd> and <kbd>&gt;= </kbd> Operator </span> "
   ]
  },
  {
   "cell_type": "markdown",
   "metadata": {},
   "source": [
    "These work exactly opposite to the < or <= operators. "
   ]
  },
  {
   "cell_type": "code",
   "execution_count": 51,
   "metadata": {},
   "outputs": [
    {
     "name": "stdout",
     "output_type": "stream",
     "text": [
      "False\n"
     ]
    }
   ],
   "source": [
    "# Did I already pass my teens ? \n",
    "print ( age > 19 )"
   ]
  },
  {
   "cell_type": "code",
   "execution_count": 50,
   "metadata": {},
   "outputs": [
    {
     "name": "stdout",
     "output_type": "stream",
     "text": [
      "False\n"
     ]
    }
   ],
   "source": [
    "print ( age >= 20)"
   ]
  },
  {
   "cell_type": "markdown",
   "metadata": {},
   "source": [
    "<hr>"
   ]
  },
  {
   "cell_type": "markdown",
   "metadata": {},
   "source": [
    "<br>"
   ]
  },
  {
   "cell_type": "markdown",
   "metadata": {},
   "source": [
    "<div class=\"alert alert-info\" role=\"alert\">\n",
    "    <span class=\"topic\"> &#9745;  Quiz </span>\n",
    "</div>"
   ]
  },
  {
   "cell_type": "markdown",
   "metadata": {},
   "source": [
    "<div class=\"jumbotron\">\n",
    "    <pre>print ( 19 > 18 )</pre>\n",
    "    <span class=\"topic\">What is the output of the code above</span>\n",
    "    <blockquote class=\"blockquote\">   \n",
    "        <p> true </p>\n",
    "    </blockquote>\n",
    "    <blockquote class=\"blockquote\">\n",
    "        <p>True</p>\n",
    "    </blockquote> \n",
    "    <blockquote class=\"blockquote\">\n",
    "        <p>False</p>\n",
    "    </blockquote>  \n",
    "    <blockquote class=\"blockquote\">\n",
    "        <p>false</p>\n",
    "    </blockquote>  \n",
    "</div>"
   ]
  },
  {
   "cell_type": "markdown",
   "metadata": {},
   "source": [
    "<div class=\"jumbotron\">\n",
    "    <pre>print ( 0 < 0, 0 < -1 )</pre>\n",
    "    <span class=\"topic\">What is the output of the code above</span>\n",
    "    <blockquote class=\"blockquote\">   \n",
    "        <p> true false </p>\n",
    "    </blockquote>\n",
    "    <blockquote class=\"blockquote\">\n",
    "        <p>False False</p>\n",
    "    </blockquote> \n",
    "    <blockquote class=\"blockquote\">\n",
    "        <p>True False</p>\n",
    "    </blockquote>  \n",
    "    <blockquote class=\"blockquote\">\n",
    "        <p>False True</p>\n",
    "    </blockquote>  \n",
    "</div>"
   ]
  },
  {
   "cell_type": "markdown",
   "metadata": {},
   "source": [
    "<div class=\"jumbotron\">\n",
    "    <pre>print ( 0 &lt;= 0 ) </pre>\n",
    "    <span class=\"topic\">What is the output of the code above</span>\n",
    "    <blockquote class=\"blockquote\">   \n",
    "        <p> true </p>\n",
    "    </blockquote>\n",
    "    <blockquote class=\"blockquote\">\n",
    "        <p>False</p>\n",
    "    </blockquote> \n",
    "    <blockquote class=\"blockquote\">\n",
    "        <p>True</p>\n",
    "    </blockquote>  \n",
    "    <blockquote class=\"blockquote\">\n",
    "        <p>false</p>\n",
    "    </blockquote>  \n",
    "</div>"
   ]
  },
  {
   "cell_type": "markdown",
   "metadata": {},
   "source": [
    "<br>"
   ]
  },
  {
   "cell_type": "markdown",
   "metadata": {},
   "source": [
    "<div class=\"alert alert-secondary\" id=\"Arithmetic-Operators\">    \n",
    "    <span class=\"topic\"> &#10070;  Arithmetic Operators</span>   \n",
    "</div>"
   ]
  },
  {
   "cell_type": "markdown",
   "metadata": {},
   "source": [
    "<span class=\"topic\"> <kbd>and</kbd> operator </span>"
   ]
  },
  {
   "cell_type": "markdown",
   "metadata": {},
   "source": [
    "Sometimes you want to compare the result of two different comparisions and check if either of them are true or neither of them are true or both are True. For example, if the age is between 13 and 19, you can call them as a teenager, right ? How would you combine both these tests into one ?"
   ]
  },
  {
   "cell_type": "code",
   "execution_count": 46,
   "metadata": {},
   "outputs": [
    {
     "name": "stdout",
     "output_type": "stream",
     "text": [
      "True\n"
     ]
    }
   ],
   "source": [
    "# Who is a Teenager ?\n",
    "print ( age >= 13 and age <=19 )"
   ]
  },
  {
   "cell_type": "markdown",
   "metadata": {},
   "source": [
    "How does this work ? Essentially, <code>and</code> compares truth values across either of the expressions. In this case, we are trying to compare if both the conditions are True. "
   ]
  },
  {
   "cell_type": "code",
   "execution_count": 40,
   "metadata": {},
   "outputs": [
    {
     "data": {
      "text/plain": [
       "True"
      ]
     },
     "execution_count": 40,
     "metadata": {},
     "output_type": "execute_result"
    }
   ],
   "source": [
    "age >=13"
   ]
  },
  {
   "cell_type": "code",
   "execution_count": 41,
   "metadata": {},
   "outputs": [
    {
     "data": {
      "text/plain": [
       "True"
      ]
     },
     "execution_count": 41,
     "metadata": {},
     "output_type": "execute_result"
    }
   ],
   "source": [
    "age <=19"
   ]
  },
  {
   "cell_type": "markdown",
   "metadata": {},
   "source": [
    "<br>"
   ]
  },
  {
   "cell_type": "markdown",
   "metadata": {},
   "source": [
    "<div class=\"text-center\">\n",
    "    <img src=\"data:image/png;base64,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\"/>\n",
    "</div>"
   ]
  },
  {
   "cell_type": "markdown",
   "metadata": {},
   "source": [
    "<br>"
   ]
  },
  {
   "cell_type": "markdown",
   "metadata": {},
   "source": [
    "<span class=\"topic\"> <kbd> or</kbd> operator</span>"
   ]
  },
  {
   "cell_type": "markdown",
   "metadata": {},
   "source": [
    "Only if both the expressions are true will the <code>and</code> operator result in True. The <code>or</code> operator on the other hand evaluates to True if either of the expressions are True"
   ]
  },
  {
   "cell_type": "markdown",
   "metadata": {},
   "source": [
    "<div class=\"text-center\">\n",
    "    <img src=\"data:image/png;base64,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\"/>\n",
    "</div>"
   ]
  },
  {
   "cell_type": "code",
   "execution_count": 55,
   "metadata": {},
   "outputs": [
    {
     "name": "stdout",
     "output_type": "stream",
     "text": [
      "True\n"
     ]
    }
   ],
   "source": [
    "qual = \"Bachelors\" # qualification\n",
    "exp  = 6           # experience\n",
    "\n",
    "print ( qual == \"Bachelors\" or exp > 5 )"
   ]
  },
  {
   "cell_type": "markdown",
   "metadata": {},
   "source": [
    "You could even chain these operators and still get the same effect. So, in the following case, if at least one of the 3 conditions are True, the result in a True."
   ]
  },
  {
   "cell_type": "code",
   "execution_count": 56,
   "metadata": {},
   "outputs": [
    {
     "name": "stdout",
     "output_type": "stream",
     "text": [
      "True\n"
     ]
    }
   ],
   "source": [
    "print ( qual == \"Bachelors\" or qual == \"Masters\" or exp > 5 )"
   ]
  },
  {
   "cell_type": "markdown",
   "metadata": {},
   "source": [
    "<br>"
   ]
  },
  {
   "cell_type": "markdown",
   "metadata": {},
   "source": [
    "<span class=\"topic\"> <kbd>not</kbd> operator </span>"
   ]
  },
  {
   "cell_type": "markdown",
   "metadata": {},
   "source": [
    "There is another operator called the **not** operator. It basically negates the truth value. For example, "
   ]
  },
  {
   "cell_type": "code",
   "execution_count": 47,
   "metadata": {},
   "outputs": [
    {
     "data": {
      "text/plain": [
       "True"
      ]
     },
     "execution_count": 47,
     "metadata": {},
     "output_type": "execute_result"
    }
   ],
   "source": [
    "x = 5\n",
    "\n",
    "x > 4"
   ]
  },
  {
   "cell_type": "markdown",
   "metadata": {},
   "source": [
    "<div class=\"text-center\">\n",
    "     <img src=\"data:image/png;base64,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\"/>\n",
    "</div>"
   ]
  },
  {
   "cell_type": "code",
   "execution_count": 48,
   "metadata": {},
   "outputs": [
    {
     "data": {
      "text/plain": [
       "False"
      ]
     },
     "execution_count": 48,
     "metadata": {},
     "output_type": "execute_result"
    }
   ],
   "source": [
    "not x > 4"
   ]
  },
  {
   "cell_type": "markdown",
   "metadata": {},
   "source": [
    "<br>"
   ]
  },
  {
   "cell_type": "markdown",
   "metadata": {},
   "source": [
    "<hr>"
   ]
  },
  {
   "cell_type": "markdown",
   "metadata": {},
   "source": [
    "<div class=\"alert alert-info\" role=\"alert\">\n",
    "    <span class=\"topic\"> &#9745;  Quiz </span>\n",
    "</div>"
   ]
  },
  {
   "cell_type": "code",
   "execution_count": 57,
   "metadata": {},
   "outputs": [
    {
     "name": "stdout",
     "output_type": "stream",
     "text": [
      "False\n"
     ]
    }
   ],
   "source": [
    "x = 10\n",
    "print ( x > 10 and x < 10 )"
   ]
  },
  {
   "cell_type": "markdown",
   "metadata": {},
   "source": [
    "<div class=\"jumbotron\">\n",
    "    <pre>x = 10\n",
    "print ( x &gt; 10 and x &lt; 10 )</pre>\n",
    "    <span class=\"topic\">What is the output of the code above</span>\n",
    "    <blockquote class=\"blockquote\">   \n",
    "    <blockquote class=\"blockquote\">\n",
    "        <p>False</p>\n",
    "    </blockquote>  \n",
    "    <blockquote class=\"blockquote\">\n",
    "        <p>True</p>\n",
    "    </blockquote>  \n",
    "</div>"
   ]
  },
  {
   "cell_type": "markdown",
   "metadata": {},
   "source": [
    "<div class=\"alert alert-secondary\" id=\"Operator-Precedence\">    \n",
    "    <span class=\"topic\"> &#10070;  Operator Precedence</span>   \n",
    "</div>"
   ]
  },
  {
   "cell_type": "markdown",
   "metadata": {},
   "source": [
    "What do you think is the result of the following operation ?"
   ]
  },
  {
   "cell_type": "code",
   "execution_count": 53,
   "metadata": {},
   "outputs": [
    {
     "name": "stdout",
     "output_type": "stream",
     "text": [
      "26.234567901234566\n"
     ]
    }
   ],
   "source": [
    "weight = 85 # kilos\n",
    "height = 1.8 # meters\n",
    "\n",
    "bmi = weight / height**2\n",
    "\n",
    "print (bmi)"
   ]
  },
  {
   "cell_type": "markdown",
   "metadata": {},
   "source": [
    "There are two ways in which this could be done - "
   ]
  },
  {
   "cell_type": "code",
   "execution_count": 56,
   "metadata": {},
   "outputs": [
    {
     "data": {
      "text/plain": [
       "2229.938271604938"
      ]
     },
     "execution_count": 56,
     "metadata": {},
     "output_type": "execute_result"
    }
   ],
   "source": [
    "(weight/height)**2"
   ]
  },
  {
   "cell_type": "code",
   "execution_count": 57,
   "metadata": {},
   "outputs": [
    {
     "data": {
      "text/plain": [
       "26.234567901234566"
      ]
     },
     "execution_count": 57,
     "metadata": {},
     "output_type": "execute_result"
    }
   ],
   "source": [
    "weight / (height ** 2)"
   ]
  },
  {
   "cell_type": "markdown",
   "metadata": {},
   "source": [
    "Why did Python choose the later and not the former ? The reason is **Operator Precedence**. In Python ( as with any other language)  there is a precedence based on which operators are performed. For example, "
   ]
  },
  {
   "cell_type": "code",
   "execution_count": 58,
   "metadata": {},
   "outputs": [
    {
     "data": {
      "text/plain": [
       "2.6"
      ]
     },
     "execution_count": 58,
     "metadata": {},
     "output_type": "execute_result"
    }
   ],
   "source": [
    "2 + 3 / 5"
   ]
  },
  {
   "cell_type": "markdown",
   "metadata": {},
   "source": [
    "Division is done first followed by the addition. What about multiplication vs division ?"
   ]
  },
  {
   "cell_type": "code",
   "execution_count": 59,
   "metadata": {},
   "outputs": [
    {
     "data": {
      "text/plain": [
       "1.2"
      ]
     },
     "execution_count": 59,
     "metadata": {},
     "output_type": "execute_result"
    }
   ],
   "source": [
    "2 * 3 / 5"
   ]
  },
  {
   "cell_type": "markdown",
   "metadata": {},
   "source": [
    "Division is done first followed by multiplication. "
   ]
  },
  {
   "cell_type": "markdown",
   "metadata": {},
   "source": [
    "There is a simple chart in <a href=\"https://docs.python.org/3/reference/expressions.html#operator-precedence\">Operator Predence from Python docs</a> that gives the precedence in increasing order. We don't need to learn these. Nobody remembers these anyway. So, usually, programmers get around knowing this by using paranthesis. For example, to do the same operation as above, instead of relying on Python's operator precedence to take care of the calculation, you can explicitly ask Python to evaluate this a particular way. "
   ]
  },
  {
   "cell_type": "code",
   "execution_count": 62,
   "metadata": {},
   "outputs": [
    {
     "data": {
      "text/plain": [
       "2.6"
      ]
     },
     "execution_count": 62,
     "metadata": {},
     "output_type": "execute_result"
    }
   ],
   "source": [
    "2 + (3 / 5)  # (division is done first followed by addition)"
   ]
  },
  {
   "cell_type": "code",
   "execution_count": 63,
   "metadata": {},
   "outputs": [
    {
     "data": {
      "text/plain": [
       "1.0"
      ]
     },
     "execution_count": 63,
     "metadata": {},
     "output_type": "execute_result"
    }
   ],
   "source": [
    "(2 + 3) / 5 # ( addition is done first followed by division)"
   ]
  },
  {
   "cell_type": "markdown",
   "metadata": {},
   "source": [
    "This way, we control which operation should be done first. "
   ]
  },
  {
   "cell_type": "code",
   "execution_count": null,
   "metadata": {},
   "outputs": [],
   "source": []
  }
 ],
 "metadata": {
  "kernelspec": {
   "display_name": "Python 3",
   "language": "python",
   "name": "python3"
  },
  "language_info": {
   "codemirror_mode": {
    "name": "ipython",
    "version": 3
   },
   "file_extension": ".py",
   "mimetype": "text/x-python",
   "name": "python",
   "nbconvert_exporter": "python",
   "pygments_lexer": "ipython3",
   "version": "3.9.4"
  }
 },
 "nbformat": 4,
 "nbformat_minor": 4
}
