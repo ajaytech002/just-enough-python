{
 "cells": [
  {
   "cell_type": "markdown",
   "metadata": {},
   "source": [
    "Notebook is copyright &copy; of <a href=\"https://ajaytech.co\">Ajay Tech </a>."
   ]
  },
  {
   "cell_type": "markdown",
   "metadata": {},
   "source": [
    "<div class=\"jumbotron\">\n",
    "  <h1 class=\"display-4\"> Operators and expressions</h1>\n",
    "  <p class=\"lead\">Variables in Python can be subjected to all kinds of Operations - like addition, substraction etc. There are specific rules in Python to evaluate these operations. We will explore more about these in this chapter.</p>\n",
    "  <hr>\n",
    "  <h3 class=\"display-6\"> Contents </h3>\n",
    "\n",
    "  <ul style=\"list-style-type:none\">\n",
    "    <li> <a href=\"#Operators-and-Expressions\"> &#10070; Arithmetic Operators </a> </li>\n",
    "    <li> <a href=\"#Comparision-Operators\"> &#10070; Comparision Operators </a> </li>\n",
    "    <li> <a href=\"#Logical-Operators\"> &#10070; Logical Operators </a> </li>    \n",
    "    <li> <a href=\"#Operator-Precedence\"> &#10070; Operator Precedence </a> </li>    \n",
    "  </ul>\n",
    "</div>\n",
    "\n"
   ]
  },
  {
   "cell_type": "markdown",
   "metadata": {},
   "source": [
    "<hr>"
   ]
  },
  {
   "cell_type": "markdown",
   "metadata": {},
   "source": [
    "<div class=\"alert alert-secondary\" id=\"Arithmetic-Operators\">    \n",
    "    <span class=\"topic\"> &#10070;  Arithmetic Operators</span>   \n",
    "</div>"
   ]
  },
  {
   "cell_type": "markdown",
   "metadata": {},
   "source": [
    "<div class=\"alert alert-light\" id=\"Arithmetic-Operators\">    \n",
    "    <span class=\"topic\"> &#9656;  Basic Math</span>   \n",
    "</div>"
   ]
  },
  {
   "cell_type": "markdown",
   "metadata": {},
   "source": [
    "#### Addition "
   ]
  },
  {
   "cell_type": "code",
   "execution_count": 1,
   "metadata": {},
   "outputs": [
    {
     "name": "stdout",
     "output_type": "stream",
     "text": [
      "5\n"
     ]
    }
   ],
   "source": [
    "cats = 3\n",
    "dogs = 2\n",
    "\n",
    "pets = cats + dogs\n",
    "print ( pets )"
   ]
  },
  {
   "cell_type": "markdown",
   "metadata": {},
   "source": [
    "There is another operator __+=__ that can be used for addition as well. For example, you can do, "
   ]
  },
  {
   "cell_type": "code",
   "execution_count": 15,
   "metadata": {},
   "outputs": [
    {
     "name": "stdout",
     "output_type": "stream",
     "text": [
      "5\n"
     ]
    }
   ],
   "source": [
    "cats += dogs\n",
    "\n",
    "print ( cats )"
   ]
  },
  {
   "cell_type": "markdown",
   "metadata": {},
   "source": [
    "#### Substraction"
   ]
  },
  {
   "cell_type": "code",
   "execution_count": 4,
   "metadata": {},
   "outputs": [
    {
     "name": "stdout",
     "output_type": "stream",
     "text": [
      "75\n"
     ]
    }
   ],
   "source": [
    "total_distance  = 100\n",
    "distance_so_far = 25\n",
    "\n",
    "distance_remaining = total_distance - distance_so_far\n",
    "\n",
    "print ( distance_remaining)"
   ]
  },
  {
   "cell_type": "markdown",
   "metadata": {},
   "source": [
    "Similar to how we have used += before, you can use the -= operator for substraction. "
   ]
  },
  {
   "cell_type": "markdown",
   "metadata": {},
   "source": [
    "#### Division"
   ]
  },
  {
   "cell_type": "code",
   "execution_count": 8,
   "metadata": {},
   "outputs": [
    {
     "name": "stdout",
     "output_type": "stream",
     "text": [
      "20.0\n"
     ]
    }
   ],
   "source": [
    "distance  = 100 # miles driven\n",
    "fuel      = 5   # fuel consumed in gallons\n",
    "\n",
    "avg_consumption = distance / fuel\n",
    "print ( avg_consumption )\n"
   ]
  },
  {
   "cell_type": "markdown",
   "metadata": {},
   "source": [
    "Similar to how we have used += before, you can use the /= operator for division. "
   ]
  },
  {
   "cell_type": "markdown",
   "metadata": {},
   "source": [
    "#### Multiplication"
   ]
  },
  {
   "cell_type": "code",
   "execution_count": 9,
   "metadata": {},
   "outputs": [
    {
     "name": "stdout",
     "output_type": "stream",
     "text": [
      "100\n"
     ]
    }
   ],
   "source": [
    "avg  = 20 # average fuel consumption in miles/gallon\n",
    "fuel = 5  # total fuel available in gallons\n",
    "\n",
    "distance = avg * fuel\n",
    "print (distance)"
   ]
  },
  {
   "cell_type": "markdown",
   "metadata": {},
   "source": [
    "Similar to how we have used += before, you can use the *= operator for multiplication. "
   ]
  },
  {
   "cell_type": "markdown",
   "metadata": {},
   "source": [
    "<div class=\"alert alert-light\" id=\"Arithmetic-Operators\">    \n",
    "    <span class=\"topic\"> &#9656;  Special Division</span>   \n",
    "</div>"
   ]
  },
  {
   "cell_type": "markdown",
   "metadata": {},
   "source": [
    "#### Modulo Division"
   ]
  },
  {
   "cell_type": "markdown",
   "metadata": {},
   "source": [
    "This provides "
   ]
  },
  {
   "cell_type": "code",
   "execution_count": 17,
   "metadata": {},
   "outputs": [
    {
     "name": "stdout",
     "output_type": "stream",
     "text": [
      "1\n"
     ]
    }
   ],
   "source": [
    "dividend = 21\n",
    "divisor  = 10\n",
    "\n",
    "remainder = dividend % divisor\n",
    "print ( remainder )"
   ]
  },
  {
   "cell_type": "markdown",
   "metadata": {},
   "source": [
    "#### Floor Division "
   ]
  },
  {
   "cell_type": "code",
   "execution_count": 12,
   "metadata": {},
   "outputs": [
    {
     "name": "stdout",
     "output_type": "stream",
     "text": [
      "2\n"
     ]
    }
   ],
   "source": [
    "dividend = 21\n",
    "divisor  = 10\n",
    "\n",
    "quotient = dividend // divisor\n",
    "print ( quotient )"
   ]
  },
  {
   "cell_type": "code",
   "execution_count": 13,
   "metadata": {},
   "outputs": [
    {
     "name": "stdout",
     "output_type": "stream",
     "text": [
      "2\n"
     ]
    }
   ],
   "source": [
    "count = 1\n",
    "\n",
    "count += 1\n",
    "\n",
    "print ( count )"
   ]
  },
  {
   "cell_type": "markdown",
   "metadata": {},
   "source": [
    "<div class=\"alert alert-light\" id=\"Arithmetic-Operators\">    \n",
    "    <span class=\"topic\"> &#9656;  Exponentiation</span>   \n",
    "</div>"
   ]
  },
  {
   "cell_type": "markdown",
   "metadata": {},
   "source": [
    "Also called the power function, you can do exponential multiplication of one variable with another using the ** operator. "
   ]
  },
  {
   "cell_type": "markdown",
   "metadata": {},
   "source": [
    "For example, the square of a number is done in Python as "
   ]
  },
  {
   "cell_type": "code",
   "execution_count": 18,
   "metadata": {},
   "outputs": [
    {
     "data": {
      "text/plain": [
       "100"
      ]
     },
     "execution_count": 18,
     "metadata": {},
     "output_type": "execute_result"
    }
   ],
   "source": [
    "count = 10\n",
    "\n",
    "count ** 2"
   ]
  },
  {
   "cell_type": "markdown",
   "metadata": {},
   "source": [
    "<div class=\"alert alert-info\" role=\"alert\">\n",
    "    <span class=\"topic\"> &#9745;  Quiz </span>\n",
    "</div>"
   ]
  },
  {
   "cell_type": "markdown",
   "metadata": {},
   "source": [
    "<div class=\"jumbotron\">\n",
    "    <pre>var_1 = 4 // 1\n",
    "print ( var_1  )</pre>\n",
    "    <span class=\"topic\">What is the output of the code above</span>\n",
    "    <blockquote class=\"blockquote\">   \n",
    "        <p> 4 </p>\n",
    "    </blockquote>\n",
    "    <blockquote class=\"blockquote\">\n",
    "        <p>4.0</p>\n",
    "    </blockquote> \n",
    "    <blockquote class=\"blockquote\">\n",
    "        <p>0</p>\n",
    "    </blockquote>   \n",
    "</div>"
   ]
  },
  {
   "cell_type": "markdown",
   "metadata": {},
   "source": [
    "<div class=\"jumbotron\">\n",
    "    <pre>var_1 = 2 % 2\n",
    "print ( var_1  )</pre>\n",
    "    <span class=\"topic\">What is the output of the code above</span>\n",
    "    <blockquote class=\"blockquote\">   \n",
    "        <p> 2 </p>\n",
    "    </blockquote>\n",
    "    <blockquote class=\"blockquote\">\n",
    "        <p>0</p>\n",
    "    </blockquote> \n",
    "    <blockquote class=\"blockquote\">\n",
    "        <p>1</p>\n",
    "    </blockquote>   \n",
    "</div>"
   ]
  },
  {
   "cell_type": "markdown",
   "metadata": {},
   "source": [
    "<div class=\"jumbotron\">\n",
    "    <pre>var_1 = 2 / 2\n",
    "print ( var_1  )</pre>\n",
    "    <span class=\"topic\">What is the output of the code above</span>\n",
    "    <blockquote class=\"blockquote\">   \n",
    "        <p> 1.0 </p>\n",
    "    </blockquote>\n",
    "    <blockquote class=\"blockquote\">\n",
    "        <p>1</p>\n",
    "    </blockquote> \n",
    "    <blockquote class=\"blockquote\">\n",
    "        <p>0</p>\n",
    "    </blockquote>   \n",
    "</div>"
   ]
  },
  {
   "cell_type": "markdown",
   "metadata": {},
   "source": [
    "<div class=\"jumbotron\">\n",
    "    <pre>var_1 = 2 ** 2\n",
    "print ( var_1  )</pre>\n",
    "    <span class=\"topic\">What is the output of the code above</span>\n",
    "    <blockquote class=\"blockquote\">   \n",
    "        <p> 4 </p>\n",
    "    </blockquote>\n",
    "    <blockquote class=\"blockquote\">\n",
    "        <p>4.0</p>\n",
    "    </blockquote> \n",
    "    <blockquote class=\"blockquote\">\n",
    "        <p>0</p>\n",
    "    </blockquote>   \n",
    "</div>"
   ]
  },
  {
   "cell_type": "markdown",
   "metadata": {},
   "source": [
    "<div class=\"jumbotron\">\n",
    "    <pre>var_1 = 4 // 1\n",
    "var_2 = var_1 % 2\n",
    "var_3 = var_2 / 2\n",
    "var_4 = var_3 ** 2\n",
    "print ( var_1, var_2, var_3, var_4 )</pre>\n",
    "    <span class=\"topic\">What is the output of the code above</span>\n",
    "    <blockquote class=\"blockquote\">   \n",
    "        <p> 0 - 0 - 0.0 - 0.0</p>\n",
    "    </blockquote>\n",
    "    <blockquote class=\"blockquote\">\n",
    "        <p>8 - 2 - 2.0 - 4.0</p>\n",
    "    </blockquote> \n",
    "    <blockquote class=\"blockquote\">\n",
    "        <p>1 - 0.33 - 0.33 - 0.1089</p>\n",
    "    </blockquote>   \n",
    "</div>"
   ]
  },
  {
   "cell_type": "markdown",
   "metadata": {},
   "source": [
    "<hr>"
   ]
  },
  {
   "cell_type": "markdown",
   "metadata": {},
   "source": [
    "<br>"
   ]
  },
  {
   "cell_type": "markdown",
   "metadata": {},
   "source": [
    "<div class=\"alert alert-secondary\" id=\"Logical-Operators\">    \n",
    "    <span class=\"topic\"> &#10070;  Logical Operators</span>   \n",
    "</div>"
   ]
  },
  {
   "cell_type": "markdown",
   "metadata": {},
   "source": [
    "<span class=\"topic\"> <kbd>==</kbd> Operator </span>"
   ]
  },
  {
   "cell_type": "markdown",
   "metadata": {},
   "source": [
    "While a single **=** assigns a value to a variable, a __==__ is used to check if the value on the left is equal to the value on the right. The output of these type of operators will always be boolean."
   ]
  },
  {
   "cell_type": "code",
   "execution_count": 35,
   "metadata": {},
   "outputs": [],
   "source": [
    "count = 10"
   ]
  },
  {
   "cell_type": "code",
   "execution_count": 36,
   "metadata": {},
   "outputs": [
    {
     "name": "stdout",
     "output_type": "stream",
     "text": [
      "True\n"
     ]
    }
   ],
   "source": [
    "# Now you can use the == operator to do a comparion of one variable to another\n",
    "\n",
    "print ( count % 2 == 0 )"
   ]
  },
  {
   "cell_type": "markdown",
   "metadata": {},
   "source": [
    "<span class=\"topic\"> <kbd>!=</kbd> Operator </span>"
   ]
  },
  {
   "cell_type": "markdown",
   "metadata": {},
   "source": [
    "If we want to compare for inequality, use the **!=** operator. "
   ]
  },
  {
   "cell_type": "code",
   "execution_count": 37,
   "metadata": {},
   "outputs": [
    {
     "name": "stdout",
     "output_type": "stream",
     "text": [
      "False\n"
     ]
    }
   ],
   "source": [
    "count = 9\n",
    "\n",
    "print ( count % 2 == 0 )"
   ]
  },
  {
   "cell_type": "markdown",
   "metadata": {},
   "source": [
    "<br>"
   ]
  },
  {
   "cell_type": "markdown",
   "metadata": {},
   "source": [
    "<span class=\"topic\"> <kbd> &#60; </kbd> and <kbd>&#60;= </kbd> Operator </span> "
   ]
  },
  {
   "cell_type": "markdown",
   "metadata": {},
   "source": [
    "These are used to compare one number with another. Of course, these can't be used for characters with any meaningful effect. "
   ]
  },
  {
   "cell_type": "code",
   "execution_count": 54,
   "metadata": {},
   "outputs": [
    {
     "name": "stdout",
     "output_type": "stream",
     "text": [
      "True\n"
     ]
    }
   ],
   "source": [
    "# Am I a teenager ?\n",
    "age = 19\n",
    "\n",
    "print ( age < 20 )"
   ]
  },
  {
   "cell_type": "markdown",
   "metadata": {},
   "source": [
    "An equivalent for this would be"
   ]
  },
  {
   "cell_type": "code",
   "execution_count": 53,
   "metadata": {},
   "outputs": [
    {
     "name": "stdout",
     "output_type": "stream",
     "text": [
      "True\n"
     ]
    }
   ],
   "source": [
    "print ( age <= 19 )"
   ]
  },
  {
   "cell_type": "markdown",
   "metadata": {},
   "source": [
    "<br>"
   ]
  },
  {
   "cell_type": "markdown",
   "metadata": {},
   "source": [
    "<span class=\"topic\"> <kbd> &gt; </kbd> and <kbd>&gt;= </kbd> Operator </span> "
   ]
  },
  {
   "cell_type": "markdown",
   "metadata": {},
   "source": [
    "These work exactly opposite to the < or <= operators. "
   ]
  },
  {
   "cell_type": "code",
   "execution_count": 51,
   "metadata": {},
   "outputs": [
    {
     "name": "stdout",
     "output_type": "stream",
     "text": [
      "False\n"
     ]
    }
   ],
   "source": [
    "# Did I already pass my teens ? \n",
    "print ( age > 19 )"
   ]
  },
  {
   "cell_type": "code",
   "execution_count": 50,
   "metadata": {},
   "outputs": [
    {
     "name": "stdout",
     "output_type": "stream",
     "text": [
      "False\n"
     ]
    }
   ],
   "source": [
    "print ( age >= 20)"
   ]
  },
  {
   "cell_type": "markdown",
   "metadata": {},
   "source": [
    "<hr>"
   ]
  },
  {
   "cell_type": "markdown",
   "metadata": {},
   "source": [
    "<br>"
   ]
  },
  {
   "cell_type": "markdown",
   "metadata": {},
   "source": [
    "<div class=\"alert alert-info\" role=\"alert\">\n",
    "    <span class=\"topic\"> &#9745;  Quiz </span>\n",
    "</div>"
   ]
  },
  {
   "cell_type": "markdown",
   "metadata": {},
   "source": [
    "<div class=\"jumbotron\">\n",
    "    <pre>print ( 19 > 18 )</pre>\n",
    "    <span class=\"topic\">What is the output of the code above</span>\n",
    "    <blockquote class=\"blockquote\">   \n",
    "        <p> true </p>\n",
    "    </blockquote>\n",
    "    <blockquote class=\"blockquote\">\n",
    "        <p>True</p>\n",
    "    </blockquote> \n",
    "    <blockquote class=\"blockquote\">\n",
    "        <p>False</p>\n",
    "    </blockquote>  \n",
    "    <blockquote class=\"blockquote\">\n",
    "        <p>false</p>\n",
    "    </blockquote>  \n",
    "</div>"
   ]
  },
  {
   "cell_type": "markdown",
   "metadata": {},
   "source": [
    "<div class=\"jumbotron\">\n",
    "    <pre>print ( 0 < 0, 0 < -1 )</pre>\n",
    "    <span class=\"topic\">What is the output of the code above</span>\n",
    "    <blockquote class=\"blockquote\">   \n",
    "        <p> true false </p>\n",
    "    </blockquote>\n",
    "    <blockquote class=\"blockquote\">\n",
    "        <p>False False</p>\n",
    "    </blockquote> \n",
    "    <blockquote class=\"blockquote\">\n",
    "        <p>True False</p>\n",
    "    </blockquote>  \n",
    "    <blockquote class=\"blockquote\">\n",
    "        <p>False True</p>\n",
    "    </blockquote>  \n",
    "</div>"
   ]
  },
  {
   "cell_type": "markdown",
   "metadata": {},
   "source": [
    "<div class=\"jumbotron\">\n",
    "    <pre>print ( 0 &lt;= 0 ) </pre>\n",
    "    <span class=\"topic\">What is the output of the code above</span>\n",
    "    <blockquote class=\"blockquote\">   \n",
    "        <p> true </p>\n",
    "    </blockquote>\n",
    "    <blockquote class=\"blockquote\">\n",
    "        <p>False</p>\n",
    "    </blockquote> \n",
    "    <blockquote class=\"blockquote\">\n",
    "        <p>True</p>\n",
    "    </blockquote>  \n",
    "    <blockquote class=\"blockquote\">\n",
    "        <p>false</p>\n",
    "    </blockquote>  \n",
    "</div>"
   ]
  },
  {
   "cell_type": "markdown",
   "metadata": {},
   "source": [
    "<br>"
   ]
  },
  {
   "cell_type": "markdown",
   "metadata": {},
   "source": [
    "<div class=\"alert alert-secondary\" id=\"Arithmetic-Operators\">    \n",
    "    <span class=\"topic\"> &#10070;  Arithmetic Operators</span>   \n",
    "</div>"
   ]
  },
  {
   "cell_type": "markdown",
   "metadata": {},
   "source": [
    "<span class=\"topic\"> <kbd>and</kbd> operator </span>"
   ]
  },
  {
   "cell_type": "markdown",
   "metadata": {},
   "source": [
    "Sometimes you want to compare the result of two different comparisions and check if either of them are true or neither of them are true or both are True. For example, if the age is between 13 and 19, you can call them as a teenager, right ? How would you combine both these tests into one ?"
   ]
  },
  {
   "cell_type": "code",
   "execution_count": 46,
   "metadata": {},
   "outputs": [
    {
     "name": "stdout",
     "output_type": "stream",
     "text": [
      "True\n"
     ]
    }
   ],
   "source": [
    "# Who is a Teenager ?\n",
    "print ( age >= 13 and age <=19 )"
   ]
  },
  {
   "cell_type": "markdown",
   "metadata": {},
   "source": [
    "How does this work ? Essentially, <code>and</code> compares truth values across either of the expressions. In this case, we are trying to compare if both the conditions are True. "
   ]
  },
  {
   "cell_type": "code",
   "execution_count": 40,
   "metadata": {},
   "outputs": [
    {
     "data": {
      "text/plain": [
       "True"
      ]
     },
     "execution_count": 40,
     "metadata": {},
     "output_type": "execute_result"
    }
   ],
   "source": [
    "age >=13"
   ]
  },
  {
   "cell_type": "code",
   "execution_count": 41,
   "metadata": {},
   "outputs": [
    {
     "data": {
      "text/plain": [
       "True"
      ]
     },
     "execution_count": 41,
     "metadata": {},
     "output_type": "execute_result"
    }
   ],
   "source": [
    "age <=19"
   ]
  },
  {
   "cell_type": "markdown",
   "metadata": {},
   "source": [
    "<br>"
   ]
  },
  {
   "cell_type": "markdown",
   "metadata": {},
   "source": [
    "<div class=\"text-center\">\n",
    "    <img src=\"data:image/png;base64,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\"/>\n",
    "</div>"
   ]
  },
  {
   "cell_type": "markdown",
   "metadata": {},
   "source": [
    "<br>"
   ]
  },
  {
   "cell_type": "markdown",
   "metadata": {},
   "source": [
    "<span class=\"topic\"> <kbd> or</kbd> operator</span>"
   ]
  },
  {
   "cell_type": "markdown",
   "metadata": {},
   "source": [
    "Only if both the expressions are true will the <code>and</code> operator result in True. The <code>or</code> operator on the other hand evaluates to True if either of the expressions are True"
   ]
  },
  {
   "cell_type": "markdown",
   "metadata": {},
   "source": [
    "<div class=\"text-center\">\n",
    "    <img src=\"data:image/png;base64,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\"/>\n",
    "</div>"
   ]
  },
  {
   "cell_type": "code",
   "execution_count": 55,
   "metadata": {},
   "outputs": [
    {
     "name": "stdout",
     "output_type": "stream",
     "text": [
      "True\n"
     ]
    }
   ],
   "source": [
    "qual = \"Bachelors\" # qualification\n",
    "exp  = 6           # experience\n",
    "\n",
    "print ( qual == \"Bachelors\" or exp > 5 )"
   ]
  },
  {
   "cell_type": "markdown",
   "metadata": {},
   "source": [
    "You could even chain these operators and still get the same effect. So, in the following case, if at least one of the 3 conditions are True, the result in a True."
   ]
  },
  {
   "cell_type": "code",
   "execution_count": 56,
   "metadata": {},
   "outputs": [
    {
     "name": "stdout",
     "output_type": "stream",
     "text": [
      "True\n"
     ]
    }
   ],
   "source": [
    "print ( qual == \"Bachelors\" or qual == \"Masters\" or exp > 5 )"
   ]
  },
  {
   "cell_type": "markdown",
   "metadata": {},
   "source": [
    "<br>"
   ]
  },
  {
   "cell_type": "markdown",
   "metadata": {},
   "source": [
    "<span class=\"topic\"> <kbd>not</kbd> operator </span>"
   ]
  },
  {
   "cell_type": "markdown",
   "metadata": {},
   "source": [
    "There is another operator called the **not** operator. It basically negates the truth value. For example, "
   ]
  },
  {
   "cell_type": "code",
   "execution_count": 47,
   "metadata": {},
   "outputs": [
    {
     "data": {
      "text/plain": [
       "True"
      ]
     },
     "execution_count": 47,
     "metadata": {},
     "output_type": "execute_result"
    }
   ],
   "source": [
    "x = 5\n",
    "\n",
    "x > 4"
   ]
  },
  {
   "cell_type": "markdown",
   "metadata": {},
   "source": [
    "<div class=\"text-center\">\n",
    "     <img src=\"data:image/png;base64,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\"/>\n",
    "</div>"
   ]
  },
  {
   "cell_type": "code",
   "execution_count": 48,
   "metadata": {},
   "outputs": [
    {
     "data": {
      "text/plain": [
       "False"
      ]
     },
     "execution_count": 48,
     "metadata": {},
     "output_type": "execute_result"
    }
   ],
   "source": [
    "not x > 4"
   ]
  },
  {
   "cell_type": "markdown",
   "metadata": {},
   "source": [
    "<br>"
   ]
  },
  {
   "cell_type": "markdown",
   "metadata": {},
   "source": [
    "<hr>"
   ]
  },
  {
   "cell_type": "markdown",
   "metadata": {},
   "source": [
    "<div class=\"alert alert-info\" role=\"alert\">\n",
    "    <span class=\"topic\"> &#9745;  Quiz </span>\n",
    "</div>"
   ]
  },
  {
   "cell_type": "code",
   "execution_count": 57,
   "metadata": {},
   "outputs": [
    {
     "name": "stdout",
     "output_type": "stream",
     "text": [
      "False\n"
     ]
    }
   ],
   "source": [
    "x = 10\n",
    "print ( x > 10 and x < 10 )"
   ]
  },
  {
   "cell_type": "markdown",
   "metadata": {},
   "source": [
    "<div class=\"jumbotron\">\n",
    "    <pre>x = 10\n",
    "print ( x &gt; 10 and x &lt; 10 )</pre>\n",
    "    <span class=\"topic\">What is the output of the code above</span>\n",
    "    <blockquote class=\"blockquote\">\n",
    "        <p>False</p>\n",
    "    </blockquote>  \n",
    "    <blockquote class=\"blockquote\">\n",
    "        <p>True</p>\n",
    "    </blockquote>  \n",
    "</div>"
   ]
  },
  {
   "cell_type": "markdown",
   "metadata": {},
   "source": [
    "<hr>"
   ]
  },
  {
   "cell_type": "markdown",
   "metadata": {},
   "source": [
    "<div class=\"alert alert-secondary\" id=\"Operator-Precedence\">    \n",
    "    <span class=\"topic\"> &#10070;  Operator Precedence</span>   \n",
    "</div>"
   ]
  },
  {
   "cell_type": "markdown",
   "metadata": {},
   "source": [
    "What do you think is the result of the following operation ?"
   ]
  },
  {
   "cell_type": "code",
   "execution_count": 53,
   "metadata": {},
   "outputs": [
    {
     "name": "stdout",
     "output_type": "stream",
     "text": [
      "26.234567901234566\n"
     ]
    }
   ],
   "source": [
    "weight = 85 # kilos\n",
    "height = 1.8 # meters\n",
    "\n",
    "bmi = weight / height**2\n",
    "\n",
    "print (bmi)"
   ]
  },
  {
   "cell_type": "markdown",
   "metadata": {},
   "source": [
    "There are two ways in which this could be done - "
   ]
  },
  {
   "cell_type": "code",
   "execution_count": 56,
   "metadata": {},
   "outputs": [
    {
     "data": {
      "text/plain": [
       "2229.938271604938"
      ]
     },
     "execution_count": 56,
     "metadata": {},
     "output_type": "execute_result"
    }
   ],
   "source": [
    "(weight/height)**2"
   ]
  },
  {
   "cell_type": "code",
   "execution_count": 57,
   "metadata": {},
   "outputs": [
    {
     "data": {
      "text/plain": [
       "26.234567901234566"
      ]
     },
     "execution_count": 57,
     "metadata": {},
     "output_type": "execute_result"
    }
   ],
   "source": [
    "weight / (height ** 2)"
   ]
  },
  {
   "cell_type": "markdown",
   "metadata": {},
   "source": [
    "Why did Python choose the later and not the former ? The reason is **Operator Precedence**. In Python ( as with any other language)  there is a precedence based on which operators are performed. For example, "
   ]
  },
  {
   "cell_type": "code",
   "execution_count": 58,
   "metadata": {},
   "outputs": [
    {
     "data": {
      "text/plain": [
       "2.6"
      ]
     },
     "execution_count": 58,
     "metadata": {},
     "output_type": "execute_result"
    }
   ],
   "source": [
    "2 + 3 / 5"
   ]
  },
  {
   "cell_type": "markdown",
   "metadata": {},
   "source": [
    "Division is done first followed by the addition. What about multiplication vs division ?"
   ]
  },
  {
   "cell_type": "code",
   "execution_count": 59,
   "metadata": {},
   "outputs": [
    {
     "data": {
      "text/plain": [
       "1.2"
      ]
     },
     "execution_count": 59,
     "metadata": {},
     "output_type": "execute_result"
    }
   ],
   "source": [
    "2 * 3 / 5"
   ]
  },
  {
   "cell_type": "markdown",
   "metadata": {},
   "source": [
    "Division is done first followed by multiplication. "
   ]
  },
  {
   "cell_type": "markdown",
   "metadata": {},
   "source": [
    "There is a simple chart in <a href=\"https://docs.python.org/3/reference/expressions.html#operator-precedence\">Operator Predence from Python docs</a> that gives the precedence in increasing order. We don't need to learn these. Nobody remembers these anyway. So, usually, programmers get around knowing this by using paranthesis. For example, to do the same operation as above, instead of relying on Python's operator precedence to take care of the calculation, you can explicitly ask Python to evaluate this a particular way. "
   ]
  },
  {
   "cell_type": "code",
   "execution_count": 62,
   "metadata": {},
   "outputs": [
    {
     "data": {
      "text/plain": [
       "2.6"
      ]
     },
     "execution_count": 62,
     "metadata": {},
     "output_type": "execute_result"
    }
   ],
   "source": [
    "2 + (3 / 5)  # (division is done first followed by addition)"
   ]
  },
  {
   "cell_type": "code",
   "execution_count": 63,
   "metadata": {},
   "outputs": [
    {
     "data": {
      "text/plain": [
       "1.0"
      ]
     },
     "execution_count": 63,
     "metadata": {},
     "output_type": "execute_result"
    }
   ],
   "source": [
    "(2 + 3) / 5 # ( addition is done first followed by division)"
   ]
  },
  {
   "cell_type": "markdown",
   "metadata": {},
   "source": [
    "This way, we control which operation should be done first. "
   ]
  },
  {
   "cell_type": "code",
   "execution_count": 4,
   "metadata": {},
   "outputs": [
    {
     "data": {
      "text/html": [
       "<style>@charset \"UTF-8\";/*!\n",
       " * Bootstrap v5.0.0-beta3 (https://getbootstrap.com/)\n",
       " * Copyright 2011-2021 The Bootstrap Authors\n",
       " * Copyright 2011-2021 Twitter, Inc.\n",
       " * Licensed under MIT (https://github.com/twbs/bootstrap/blob/main/LICENSE)\n",
       " */:root{--bs-blue:#0d6efd;--bs-indigo:#6610f2;--bs-purple:#6f42c1;--bs-pink:#d63384;--bs-red:#dc3545;--bs-orange:#fd7e14;--bs-yellow:#ffc107;--bs-green:#198754;--bs-teal:#20c997;--bs-cyan:#0dcaf0;--bs-white:#fff;--bs-gray:#6c757d;--bs-gray-dark:#343a40;--bs-primary:#0d6efd;--bs-secondary:#6c757d;--bs-success:#198754;--bs-info:#0dcaf0;--bs-warning:#ffc107;--bs-danger:#dc3545;--bs-light:#f8f9fa;--bs-dark:#212529;--bs-font-sans-serif:system-ui,-apple-system,\"Segoe UI\",Roboto,\"Helvetica Neue\",Arial,\"Noto Sans\",\"Liberation Sans\",sans-serif,\"Apple Color Emoji\",\"Segoe UI Emoji\",\"Segoe UI Symbol\",\"Noto Color Emoji\";--bs-font-monospace:SFMono-Regular,Menlo,Monaco,Consolas,\"Liberation Mono\",\"Courier New\",monospace;--bs-gradient:linear-gradient(180deg, rgba(255, 255, 255, 0.15), rgba(255, 255, 255, 0))}*,::after,::before{box-sizing:border-box}@media (prefers-reduced-motion:no-preference){:root{scroll-behavior:smooth}}body{margin:0;font-family:var(--bs-font-sans-serif);font-size:1rem;font-weight:400;line-height:1.5;color:#212529;background-color:#fff;-webkit-text-size-adjust:100%;-webkit-tap-highlight-color:transparent}hr{margin:1rem 0;color:inherit;background-color:currentColor;border:0;opacity:.25}hr:not([size]){height:1px}.h1,.h2,.h3,.h4,.h5,.h6,h1,h2,h3,h4,h5,h6{margin-top:0;margin-bottom:.5rem;font-weight:500;line-height:1.2}.h1,h1{font-size:calc(1.375rem + 1.5vw)}@media (min-width:1200px){.h1,h1{font-size:2.5rem}}.h2,h2{font-size:calc(1.325rem + .9vw)}@media (min-width:1200px){.h2,h2{font-size:2rem}}.h3,h3{font-size:calc(1.3rem + .6vw)}@media (min-width:1200px){.h3,h3{font-size:1.75rem}}.h4,h4{font-size:calc(1.275rem + .3vw)}@media (min-width:1200px){.h4,h4{font-size:1.5rem}}.h5,h5{font-size:1.25rem}.h6,h6{font-size:1rem}p{margin-top:0;margin-bottom:1rem}abbr[data-bs-original-title],abbr[title]{-webkit-text-decoration:underline dotted;text-decoration:underline dotted;cursor:help;-webkit-text-decoration-skip-ink:none;text-decoration-skip-ink:none}address{margin-bottom:1rem;font-style:normal;line-height:inherit}ol,ul{padding-left:2rem}dl,ol,ul{margin-top:0;margin-bottom:1rem}ol ol,ol ul,ul ol,ul ul{margin-bottom:0}dt{font-weight:700}dd{margin-bottom:.5rem;margin-left:0}blockquote{margin:0 0 1rem}b,strong{font-weight:bolder}.small,small{font-size:.875em}.mark,mark{padding:.2em;background-color:#fcf8e3}sub,sup{position:relative;font-size:.75em;line-height:0;vertical-align:baseline}sub{bottom:-.25em}sup{top:-.5em}a{color:#0d6efd;text-decoration:underline}a:hover{color:#0a58ca}a:not([href]):not([class]),a:not([href]):not([class]):hover{color:inherit;text-decoration:none}code,kbd,pre,samp{font-family:var(--bs-font-monospace);font-size:1em;direction:ltr;unicode-bidi:bidi-override}pre{display:block;margin-top:0;margin-bottom:1rem;overflow:auto;font-size:.875em}pre code{font-size:inherit;color:inherit;word-break:normal}code{font-size:.875em;color:#d63384;word-wrap:break-word}a>code{color:inherit}kbd{padding:.2rem .4rem;font-size:.875em;color:#fff;background-color:#212529;border-radius:.2rem}kbd kbd{padding:0;font-size:1em;font-weight:700}figure{margin:0 0 1rem}img,svg{vertical-align:middle}table{caption-side:bottom;border-collapse:collapse}caption{padding-top:.5rem;padding-bottom:.5rem;color:#6c757d;text-align:left}th{text-align:inherit;text-align:-webkit-match-parent}tbody,td,tfoot,th,thead,tr{border-color:inherit;border-style:solid;border-width:0}label{display:inline-block}button{border-radius:0}button:focus:not(:focus-visible){outline:0}button,input,optgroup,select,textarea{margin:0;font-family:inherit;font-size:inherit;line-height:inherit}button,select{text-transform:none}[role=button]{cursor:pointer}select{word-wrap:normal}select:disabled{opacity:1}[list]::-webkit-calendar-picker-indicator{display:none}[type=button],[type=reset],[type=submit],button{-webkit-appearance:button}[type=button]:not(:disabled),[type=reset]:not(:disabled),[type=submit]:not(:disabled),button:not(:disabled){cursor:pointer}::-moz-focus-inner{padding:0;border-style:none}textarea{resize:vertical}fieldset{min-width:0;padding:0;margin:0;border:0}legend{float:left;width:100%;padding:0;margin-bottom:.5rem;font-size:calc(1.275rem + .3vw);line-height:inherit}@media (min-width:1200px){legend{font-size:1.5rem}}legend+*{clear:left}::-webkit-datetime-edit-day-field,::-webkit-datetime-edit-fields-wrapper,::-webkit-datetime-edit-hour-field,::-webkit-datetime-edit-minute,::-webkit-datetime-edit-month-field,::-webkit-datetime-edit-text,::-webkit-datetime-edit-year-field{padding:0}::-webkit-inner-spin-button{height:auto}[type=search]{outline-offset:-2px;-webkit-appearance:textfield}::-webkit-search-decoration{-webkit-appearance:none}::-webkit-color-swatch-wrapper{padding:0}::file-selector-button{font:inherit}::-webkit-file-upload-button{font:inherit;-webkit-appearance:button}output{display:inline-block}iframe{border:0}summary{display:list-item;cursor:pointer}progress{vertical-align:baseline}[hidden]{display:none!important}.lead{font-size:1.25rem;font-weight:300}.display-1{font-size:calc(1.625rem + 4.5vw);font-weight:300;line-height:1.2}@media (min-width:1200px){.display-1{font-size:5rem}}.display-2{font-size:calc(1.575rem + 3.9vw);font-weight:300;line-height:1.2}@media (min-width:1200px){.display-2{font-size:4.5rem}}.display-3{font-size:calc(1.525rem + 3.3vw);font-weight:300;line-height:1.2}@media (min-width:1200px){.display-3{font-size:4rem}}.display-4{font-size:calc(1.475rem + 2.7vw);font-weight:300;line-height:1.2}@media (min-width:1200px){.display-4{font-size:3.5rem}}.display-5{font-size:calc(1.425rem + 2.1vw);font-weight:300;line-height:1.2}@media (min-width:1200px){.display-5{font-size:3rem}}.display-6{font-size:calc(1.375rem + 1.5vw);font-weight:300;line-height:1.2}@media (min-width:1200px){.display-6{font-size:2.5rem}}.list-unstyled{padding-left:0;list-style:none}.list-inline{padding-left:0;list-style:none}.list-inline-item{display:inline-block}.list-inline-item:not(:last-child){margin-right:.5rem}.initialism{font-size:.875em;text-transform:uppercase}.blockquote{margin-bottom:1rem;font-size:1.25rem}.blockquote>:last-child{margin-bottom:0}.blockquote-footer{margin-top:-1rem;margin-bottom:1rem;font-size:.875em;color:#6c757d}.blockquote-footer::before{content:\"— \"}.img-fluid{max-width:100%;height:auto}.img-thumbnail{padding:.25rem;background-color:#fff;border:1px solid #dee2e6;border-radius:.25rem;max-width:100%;height:auto}.figure{display:inline-block}.figure-img{margin-bottom:.5rem;line-height:1}.figure-caption{font-size:.875em;color:#6c757d}.container,.container-fluid,.container-lg,.container-md,.container-sm,.container-xl,.container-xxl{width:100%;padding-right:var(--bs-gutter-x,.75rem);padding-left:var(--bs-gutter-x,.75rem);margin-right:auto;margin-left:auto}@media (min-width:576px){.container,.container-sm{max-width:540px}}@media (min-width:768px){.container,.container-md,.container-sm{max-width:720px}}@media (min-width:992px){.container,.container-lg,.container-md,.container-sm{max-width:960px}}@media (min-width:1200px){.container,.container-lg,.container-md,.container-sm,.container-xl{max-width:1140px}}@media (min-width:1400px){.container,.container-lg,.container-md,.container-sm,.container-xl,.container-xxl{max-width:1320px}}.row{--bs-gutter-x:1.5rem;--bs-gutter-y:0;display:flex;flex-wrap:wrap;margin-top:calc(var(--bs-gutter-y) * -1);margin-right:calc(var(--bs-gutter-x)/ -2);margin-left:calc(var(--bs-gutter-x)/ -2)}.row>*{flex-shrink:0;width:100%;max-width:100%;padding-right:calc(var(--bs-gutter-x)/ 2);padding-left:calc(var(--bs-gutter-x)/ 2);margin-top:var(--bs-gutter-y)}.col{flex:1 0 0%}.row-cols-auto>*{flex:0 0 auto;width:auto}.row-cols-1>*{flex:0 0 auto;width:100%}.row-cols-2>*{flex:0 0 auto;width:50%}.row-cols-3>*{flex:0 0 auto;width:33.3333333333%}.row-cols-4>*{flex:0 0 auto;width:25%}.row-cols-5>*{flex:0 0 auto;width:20%}.row-cols-6>*{flex:0 0 auto;width:16.6666666667%}.col-auto{flex:0 0 auto;width:auto}.col-1{flex:0 0 auto;width:8.3333333333%}.col-2{flex:0 0 auto;width:16.6666666667%}.col-3{flex:0 0 auto;width:25%}.col-4{flex:0 0 auto;width:33.3333333333%}.col-5{flex:0 0 auto;width:41.6666666667%}.col-6{flex:0 0 auto;width:50%}.col-7{flex:0 0 auto;width:58.3333333333%}.col-8{flex:0 0 auto;width:66.6666666667%}.col-9{flex:0 0 auto;width:75%}.col-10{flex:0 0 auto;width:83.3333333333%}.col-11{flex:0 0 auto;width:91.6666666667%}.col-12{flex:0 0 auto;width:100%}.offset-1{margin-left:8.3333333333%}.offset-2{margin-left:16.6666666667%}.offset-3{margin-left:25%}.offset-4{margin-left:33.3333333333%}.offset-5{margin-left:41.6666666667%}.offset-6{margin-left:50%}.offset-7{margin-left:58.3333333333%}.offset-8{margin-left:66.6666666667%}.offset-9{margin-left:75%}.offset-10{margin-left:83.3333333333%}.offset-11{margin-left:91.6666666667%}.g-0,.gx-0{--bs-gutter-x:0}.g-0,.gy-0{--bs-gutter-y:0}.g-1,.gx-1{--bs-gutter-x:0.25rem}.g-1,.gy-1{--bs-gutter-y:0.25rem}.g-2,.gx-2{--bs-gutter-x:0.5rem}.g-2,.gy-2{--bs-gutter-y:0.5rem}.g-3,.gx-3{--bs-gutter-x:1rem}.g-3,.gy-3{--bs-gutter-y:1rem}.g-4,.gx-4{--bs-gutter-x:1.5rem}.g-4,.gy-4{--bs-gutter-y:1.5rem}.g-5,.gx-5{--bs-gutter-x:3rem}.g-5,.gy-5{--bs-gutter-y:3rem}@media (min-width:576px){.col-sm{flex:1 0 0%}.row-cols-sm-auto>*{flex:0 0 auto;width:auto}.row-cols-sm-1>*{flex:0 0 auto;width:100%}.row-cols-sm-2>*{flex:0 0 auto;width:50%}.row-cols-sm-3>*{flex:0 0 auto;width:33.3333333333%}.row-cols-sm-4>*{flex:0 0 auto;width:25%}.row-cols-sm-5>*{flex:0 0 auto;width:20%}.row-cols-sm-6>*{flex:0 0 auto;width:16.6666666667%}.col-sm-auto{flex:0 0 auto;width:auto}.col-sm-1{flex:0 0 auto;width:8.3333333333%}.col-sm-2{flex:0 0 auto;width:16.6666666667%}.col-sm-3{flex:0 0 auto;width:25%}.col-sm-4{flex:0 0 auto;width:33.3333333333%}.col-sm-5{flex:0 0 auto;width:41.6666666667%}.col-sm-6{flex:0 0 auto;width:50%}.col-sm-7{flex:0 0 auto;width:58.3333333333%}.col-sm-8{flex:0 0 auto;width:66.6666666667%}.col-sm-9{flex:0 0 auto;width:75%}.col-sm-10{flex:0 0 auto;width:83.3333333333%}.col-sm-11{flex:0 0 auto;width:91.6666666667%}.col-sm-12{flex:0 0 auto;width:100%}.offset-sm-0{margin-left:0}.offset-sm-1{margin-left:8.3333333333%}.offset-sm-2{margin-left:16.6666666667%}.offset-sm-3{margin-left:25%}.offset-sm-4{margin-left:33.3333333333%}.offset-sm-5{margin-left:41.6666666667%}.offset-sm-6{margin-left:50%}.offset-sm-7{margin-left:58.3333333333%}.offset-sm-8{margin-left:66.6666666667%}.offset-sm-9{margin-left:75%}.offset-sm-10{margin-left:83.3333333333%}.offset-sm-11{margin-left:91.6666666667%}.g-sm-0,.gx-sm-0{--bs-gutter-x:0}.g-sm-0,.gy-sm-0{--bs-gutter-y:0}.g-sm-1,.gx-sm-1{--bs-gutter-x:0.25rem}.g-sm-1,.gy-sm-1{--bs-gutter-y:0.25rem}.g-sm-2,.gx-sm-2{--bs-gutter-x:0.5rem}.g-sm-2,.gy-sm-2{--bs-gutter-y:0.5rem}.g-sm-3,.gx-sm-3{--bs-gutter-x:1rem}.g-sm-3,.gy-sm-3{--bs-gutter-y:1rem}.g-sm-4,.gx-sm-4{--bs-gutter-x:1.5rem}.g-sm-4,.gy-sm-4{--bs-gutter-y:1.5rem}.g-sm-5,.gx-sm-5{--bs-gutter-x:3rem}.g-sm-5,.gy-sm-5{--bs-gutter-y:3rem}}@media (min-width:768px){.col-md{flex:1 0 0%}.row-cols-md-auto>*{flex:0 0 auto;width:auto}.row-cols-md-1>*{flex:0 0 auto;width:100%}.row-cols-md-2>*{flex:0 0 auto;width:50%}.row-cols-md-3>*{flex:0 0 auto;width:33.3333333333%}.row-cols-md-4>*{flex:0 0 auto;width:25%}.row-cols-md-5>*{flex:0 0 auto;width:20%}.row-cols-md-6>*{flex:0 0 auto;width:16.6666666667%}.col-md-auto{flex:0 0 auto;width:auto}.col-md-1{flex:0 0 auto;width:8.3333333333%}.col-md-2{flex:0 0 auto;width:16.6666666667%}.col-md-3{flex:0 0 auto;width:25%}.col-md-4{flex:0 0 auto;width:33.3333333333%}.col-md-5{flex:0 0 auto;width:41.6666666667%}.col-md-6{flex:0 0 auto;width:50%}.col-md-7{flex:0 0 auto;width:58.3333333333%}.col-md-8{flex:0 0 auto;width:66.6666666667%}.col-md-9{flex:0 0 auto;width:75%}.col-md-10{flex:0 0 auto;width:83.3333333333%}.col-md-11{flex:0 0 auto;width:91.6666666667%}.col-md-12{flex:0 0 auto;width:100%}.offset-md-0{margin-left:0}.offset-md-1{margin-left:8.3333333333%}.offset-md-2{margin-left:16.6666666667%}.offset-md-3{margin-left:25%}.offset-md-4{margin-left:33.3333333333%}.offset-md-5{margin-left:41.6666666667%}.offset-md-6{margin-left:50%}.offset-md-7{margin-left:58.3333333333%}.offset-md-8{margin-left:66.6666666667%}.offset-md-9{margin-left:75%}.offset-md-10{margin-left:83.3333333333%}.offset-md-11{margin-left:91.6666666667%}.g-md-0,.gx-md-0{--bs-gutter-x:0}.g-md-0,.gy-md-0{--bs-gutter-y:0}.g-md-1,.gx-md-1{--bs-gutter-x:0.25rem}.g-md-1,.gy-md-1{--bs-gutter-y:0.25rem}.g-md-2,.gx-md-2{--bs-gutter-x:0.5rem}.g-md-2,.gy-md-2{--bs-gutter-y:0.5rem}.g-md-3,.gx-md-3{--bs-gutter-x:1rem}.g-md-3,.gy-md-3{--bs-gutter-y:1rem}.g-md-4,.gx-md-4{--bs-gutter-x:1.5rem}.g-md-4,.gy-md-4{--bs-gutter-y:1.5rem}.g-md-5,.gx-md-5{--bs-gutter-x:3rem}.g-md-5,.gy-md-5{--bs-gutter-y:3rem}}@media (min-width:992px){.col-lg{flex:1 0 0%}.row-cols-lg-auto>*{flex:0 0 auto;width:auto}.row-cols-lg-1>*{flex:0 0 auto;width:100%}.row-cols-lg-2>*{flex:0 0 auto;width:50%}.row-cols-lg-3>*{flex:0 0 auto;width:33.3333333333%}.row-cols-lg-4>*{flex:0 0 auto;width:25%}.row-cols-lg-5>*{flex:0 0 auto;width:20%}.row-cols-lg-6>*{flex:0 0 auto;width:16.6666666667%}.col-lg-auto{flex:0 0 auto;width:auto}.col-lg-1{flex:0 0 auto;width:8.3333333333%}.col-lg-2{flex:0 0 auto;width:16.6666666667%}.col-lg-3{flex:0 0 auto;width:25%}.col-lg-4{flex:0 0 auto;width:33.3333333333%}.col-lg-5{flex:0 0 auto;width:41.6666666667%}.col-lg-6{flex:0 0 auto;width:50%}.col-lg-7{flex:0 0 auto;width:58.3333333333%}.col-lg-8{flex:0 0 auto;width:66.6666666667%}.col-lg-9{flex:0 0 auto;width:75%}.col-lg-10{flex:0 0 auto;width:83.3333333333%}.col-lg-11{flex:0 0 auto;width:91.6666666667%}.col-lg-12{flex:0 0 auto;width:100%}.offset-lg-0{margin-left:0}.offset-lg-1{margin-left:8.3333333333%}.offset-lg-2{margin-left:16.6666666667%}.offset-lg-3{margin-left:25%}.offset-lg-4{margin-left:33.3333333333%}.offset-lg-5{margin-left:41.6666666667%}.offset-lg-6{margin-left:50%}.offset-lg-7{margin-left:58.3333333333%}.offset-lg-8{margin-left:66.6666666667%}.offset-lg-9{margin-left:75%}.offset-lg-10{margin-left:83.3333333333%}.offset-lg-11{margin-left:91.6666666667%}.g-lg-0,.gx-lg-0{--bs-gutter-x:0}.g-lg-0,.gy-lg-0{--bs-gutter-y:0}.g-lg-1,.gx-lg-1{--bs-gutter-x:0.25rem}.g-lg-1,.gy-lg-1{--bs-gutter-y:0.25rem}.g-lg-2,.gx-lg-2{--bs-gutter-x:0.5rem}.g-lg-2,.gy-lg-2{--bs-gutter-y:0.5rem}.g-lg-3,.gx-lg-3{--bs-gutter-x:1rem}.g-lg-3,.gy-lg-3{--bs-gutter-y:1rem}.g-lg-4,.gx-lg-4{--bs-gutter-x:1.5rem}.g-lg-4,.gy-lg-4{--bs-gutter-y:1.5rem}.g-lg-5,.gx-lg-5{--bs-gutter-x:3rem}.g-lg-5,.gy-lg-5{--bs-gutter-y:3rem}}@media (min-width:1200px){.col-xl{flex:1 0 0%}.row-cols-xl-auto>*{flex:0 0 auto;width:auto}.row-cols-xl-1>*{flex:0 0 auto;width:100%}.row-cols-xl-2>*{flex:0 0 auto;width:50%}.row-cols-xl-3>*{flex:0 0 auto;width:33.3333333333%}.row-cols-xl-4>*{flex:0 0 auto;width:25%}.row-cols-xl-5>*{flex:0 0 auto;width:20%}.row-cols-xl-6>*{flex:0 0 auto;width:16.6666666667%}.col-xl-auto{flex:0 0 auto;width:auto}.col-xl-1{flex:0 0 auto;width:8.3333333333%}.col-xl-2{flex:0 0 auto;width:16.6666666667%}.col-xl-3{flex:0 0 auto;width:25%}.col-xl-4{flex:0 0 auto;width:33.3333333333%}.col-xl-5{flex:0 0 auto;width:41.6666666667%}.col-xl-6{flex:0 0 auto;width:50%}.col-xl-7{flex:0 0 auto;width:58.3333333333%}.col-xl-8{flex:0 0 auto;width:66.6666666667%}.col-xl-9{flex:0 0 auto;width:75%}.col-xl-10{flex:0 0 auto;width:83.3333333333%}.col-xl-11{flex:0 0 auto;width:91.6666666667%}.col-xl-12{flex:0 0 auto;width:100%}.offset-xl-0{margin-left:0}.offset-xl-1{margin-left:8.3333333333%}.offset-xl-2{margin-left:16.6666666667%}.offset-xl-3{margin-left:25%}.offset-xl-4{margin-left:33.3333333333%}.offset-xl-5{margin-left:41.6666666667%}.offset-xl-6{margin-left:50%}.offset-xl-7{margin-left:58.3333333333%}.offset-xl-8{margin-left:66.6666666667%}.offset-xl-9{margin-left:75%}.offset-xl-10{margin-left:83.3333333333%}.offset-xl-11{margin-left:91.6666666667%}.g-xl-0,.gx-xl-0{--bs-gutter-x:0}.g-xl-0,.gy-xl-0{--bs-gutter-y:0}.g-xl-1,.gx-xl-1{--bs-gutter-x:0.25rem}.g-xl-1,.gy-xl-1{--bs-gutter-y:0.25rem}.g-xl-2,.gx-xl-2{--bs-gutter-x:0.5rem}.g-xl-2,.gy-xl-2{--bs-gutter-y:0.5rem}.g-xl-3,.gx-xl-3{--bs-gutter-x:1rem}.g-xl-3,.gy-xl-3{--bs-gutter-y:1rem}.g-xl-4,.gx-xl-4{--bs-gutter-x:1.5rem}.g-xl-4,.gy-xl-4{--bs-gutter-y:1.5rem}.g-xl-5,.gx-xl-5{--bs-gutter-x:3rem}.g-xl-5,.gy-xl-5{--bs-gutter-y:3rem}}@media (min-width:1400px){.col-xxl{flex:1 0 0%}.row-cols-xxl-auto>*{flex:0 0 auto;width:auto}.row-cols-xxl-1>*{flex:0 0 auto;width:100%}.row-cols-xxl-2>*{flex:0 0 auto;width:50%}.row-cols-xxl-3>*{flex:0 0 auto;width:33.3333333333%}.row-cols-xxl-4>*{flex:0 0 auto;width:25%}.row-cols-xxl-5>*{flex:0 0 auto;width:20%}.row-cols-xxl-6>*{flex:0 0 auto;width:16.6666666667%}.col-xxl-auto{flex:0 0 auto;width:auto}.col-xxl-1{flex:0 0 auto;width:8.3333333333%}.col-xxl-2{flex:0 0 auto;width:16.6666666667%}.col-xxl-3{flex:0 0 auto;width:25%}.col-xxl-4{flex:0 0 auto;width:33.3333333333%}.col-xxl-5{flex:0 0 auto;width:41.6666666667%}.col-xxl-6{flex:0 0 auto;width:50%}.col-xxl-7{flex:0 0 auto;width:58.3333333333%}.col-xxl-8{flex:0 0 auto;width:66.6666666667%}.col-xxl-9{flex:0 0 auto;width:75%}.col-xxl-10{flex:0 0 auto;width:83.3333333333%}.col-xxl-11{flex:0 0 auto;width:91.6666666667%}.col-xxl-12{flex:0 0 auto;width:100%}.offset-xxl-0{margin-left:0}.offset-xxl-1{margin-left:8.3333333333%}.offset-xxl-2{margin-left:16.6666666667%}.offset-xxl-3{margin-left:25%}.offset-xxl-4{margin-left:33.3333333333%}.offset-xxl-5{margin-left:41.6666666667%}.offset-xxl-6{margin-left:50%}.offset-xxl-7{margin-left:58.3333333333%}.offset-xxl-8{margin-left:66.6666666667%}.offset-xxl-9{margin-left:75%}.offset-xxl-10{margin-left:83.3333333333%}.offset-xxl-11{margin-left:91.6666666667%}.g-xxl-0,.gx-xxl-0{--bs-gutter-x:0}.g-xxl-0,.gy-xxl-0{--bs-gutter-y:0}.g-xxl-1,.gx-xxl-1{--bs-gutter-x:0.25rem}.g-xxl-1,.gy-xxl-1{--bs-gutter-y:0.25rem}.g-xxl-2,.gx-xxl-2{--bs-gutter-x:0.5rem}.g-xxl-2,.gy-xxl-2{--bs-gutter-y:0.5rem}.g-xxl-3,.gx-xxl-3{--bs-gutter-x:1rem}.g-xxl-3,.gy-xxl-3{--bs-gutter-y:1rem}.g-xxl-4,.gx-xxl-4{--bs-gutter-x:1.5rem}.g-xxl-4,.gy-xxl-4{--bs-gutter-y:1.5rem}.g-xxl-5,.gx-xxl-5{--bs-gutter-x:3rem}.g-xxl-5,.gy-xxl-5{--bs-gutter-y:3rem}}.table{--bs-table-bg:transparent;--bs-table-striped-color:#212529;--bs-table-striped-bg:rgba(0, 0, 0, 0.05);--bs-table-active-color:#212529;--bs-table-active-bg:rgba(0, 0, 0, 0.1);--bs-table-hover-color:#212529;--bs-table-hover-bg:rgba(0, 0, 0, 0.075);width:100%;margin-bottom:1rem;color:#212529;vertical-align:top;border-color:#dee2e6}.table>:not(caption)>*>*{padding:.5rem .5rem;background-color:var(--bs-table-bg);border-bottom-width:1px;box-shadow:inset 0 0 0 9999px var(--bs-table-accent-bg)}.table>tbody{vertical-align:inherit}.table>thead{vertical-align:bottom}.table>:not(:last-child)>:last-child>*{border-bottom-color:currentColor}.caption-top{caption-side:top}.table-sm>:not(caption)>*>*{padding:.25rem .25rem}.table-bordered>:not(caption)>*{border-width:1px 0}.table-bordered>:not(caption)>*>*{border-width:0 1px}.table-borderless>:not(caption)>*>*{border-bottom-width:0}.table-striped>tbody>tr:nth-of-type(odd){--bs-table-accent-bg:var(--bs-table-striped-bg);color:var(--bs-table-striped-color)}.table-active{--bs-table-accent-bg:var(--bs-table-active-bg);color:var(--bs-table-active-color)}.table-hover>tbody>tr:hover{--bs-table-accent-bg:var(--bs-table-hover-bg);color:var(--bs-table-hover-color)}.table-primary{--bs-table-bg:#cfe2ff;--bs-table-striped-bg:#c5d7f2;--bs-table-striped-color:#000;--bs-table-active-bg:#bacbe6;--bs-table-active-color:#000;--bs-table-hover-bg:#bfd1ec;--bs-table-hover-color:#000;color:#000;border-color:#bacbe6}.table-secondary{--bs-table-bg:#e2e3e5;--bs-table-striped-bg:#d7d8da;--bs-table-striped-color:#000;--bs-table-active-bg:#cbccce;--bs-table-active-color:#000;--bs-table-hover-bg:#d1d2d4;--bs-table-hover-color:#000;color:#000;border-color:#cbccce}.table-success{--bs-table-bg:#d1e7dd;--bs-table-striped-bg:#c7dbd2;--bs-table-striped-color:#000;--bs-table-active-bg:#bcd0c7;--bs-table-active-color:#000;--bs-table-hover-bg:#c1d6cc;--bs-table-hover-color:#000;color:#000;border-color:#bcd0c7}.table-info{--bs-table-bg:#cff4fc;--bs-table-striped-bg:#c5e8ef;--bs-table-striped-color:#000;--bs-table-active-bg:#badce3;--bs-table-active-color:#000;--bs-table-hover-bg:#bfe2e9;--bs-table-hover-color:#000;color:#000;border-color:#badce3}.table-warning{--bs-table-bg:#fff3cd;--bs-table-striped-bg:#f2e7c3;--bs-table-striped-color:#000;--bs-table-active-bg:#e6dbb9;--bs-table-active-color:#000;--bs-table-hover-bg:#ece1be;--bs-table-hover-color:#000;color:#000;border-color:#e6dbb9}.table-danger{--bs-table-bg:#f8d7da;--bs-table-striped-bg:#eccccf;--bs-table-striped-color:#000;--bs-table-active-bg:#dfc2c4;--bs-table-active-color:#000;--bs-table-hover-bg:#e5c7ca;--bs-table-hover-color:#000;color:#000;border-color:#dfc2c4}.table-light{--bs-table-bg:#f8f9fa;--bs-table-striped-bg:#ecedee;--bs-table-striped-color:#000;--bs-table-active-bg:#dfe0e1;--bs-table-active-color:#000;--bs-table-hover-bg:#e5e6e7;--bs-table-hover-color:#000;color:#000;border-color:#dfe0e1}.table-dark{--bs-table-bg:#212529;--bs-table-striped-bg:#2c3034;--bs-table-striped-color:#fff;--bs-table-active-bg:#373b3e;--bs-table-active-color:#fff;--bs-table-hover-bg:#323539;--bs-table-hover-color:#fff;color:#fff;border-color:#373b3e}.table-responsive{overflow-x:auto;-webkit-overflow-scrolling:touch}@media (max-width:575.98px){.table-responsive-sm{overflow-x:auto;-webkit-overflow-scrolling:touch}}@media (max-width:767.98px){.table-responsive-md{overflow-x:auto;-webkit-overflow-scrolling:touch}}@media (max-width:991.98px){.table-responsive-lg{overflow-x:auto;-webkit-overflow-scrolling:touch}}@media (max-width:1199.98px){.table-responsive-xl{overflow-x:auto;-webkit-overflow-scrolling:touch}}@media (max-width:1399.98px){.table-responsive-xxl{overflow-x:auto;-webkit-overflow-scrolling:touch}}.form-label{margin-bottom:.5rem}.col-form-label{padding-top:calc(.375rem + 1px);padding-bottom:calc(.375rem + 1px);margin-bottom:0;font-size:inherit;line-height:1.5}.col-form-label-lg{padding-top:calc(.5rem + 1px);padding-bottom:calc(.5rem + 1px);font-size:1.25rem}.col-form-label-sm{padding-top:calc(.25rem + 1px);padding-bottom:calc(.25rem + 1px);font-size:.875rem}.form-text{margin-top:.25rem;font-size:.875em;color:#6c757d}.form-control{display:block;width:100%;padding:.375rem .75rem;font-size:1rem;font-weight:400;line-height:1.5;color:#212529;background-color:#fff;background-clip:padding-box;border:1px solid #ced4da;-webkit-appearance:none;-moz-appearance:none;appearance:none;border-radius:.25rem;transition:border-color .15s ease-in-out,box-shadow .15s ease-in-out}@media (prefers-reduced-motion:reduce){.form-control{transition:none}}.form-control[type=file]{overflow:hidden}.form-control[type=file]:not(:disabled):not([readonly]){cursor:pointer}.form-control:focus{color:#212529;background-color:#fff;border-color:#86b7fe;outline:0;box-shadow:0 0 0 .25rem rgba(13,110,253,.25)}.form-control::-webkit-date-and-time-value{height:1.5em}.form-control::-moz-placeholder{color:#6c757d;opacity:1}.form-control::placeholder{color:#6c757d;opacity:1}.form-control:disabled,.form-control[readonly]{background-color:#e9ecef;opacity:1}.form-control::file-selector-button{padding:.375rem .75rem;margin:-.375rem -.75rem;-webkit-margin-end:.75rem;margin-inline-end:.75rem;color:#212529;background-color:#e9ecef;pointer-events:none;border-color:inherit;border-style:solid;border-width:0;border-inline-end-width:1px;border-radius:0;transition:color .15s ease-in-out,background-color .15s ease-in-out,border-color .15s ease-in-out,box-shadow .15s ease-in-out}@media (prefers-reduced-motion:reduce){.form-control::file-selector-button{transition:none}}.form-control:hover:not(:disabled):not([readonly])::file-selector-button{background-color:#dde0e3}.form-control::-webkit-file-upload-button{padding:.375rem .75rem;margin:-.375rem -.75rem;-webkit-margin-end:.75rem;margin-inline-end:.75rem;color:#212529;background-color:#e9ecef;pointer-events:none;border-color:inherit;border-style:solid;border-width:0;border-inline-end-width:1px;border-radius:0;-webkit-transition:color .15s ease-in-out,background-color .15s ease-in-out,border-color .15s ease-in-out,box-shadow .15s ease-in-out;transition:color .15s ease-in-out,background-color .15s ease-in-out,border-color .15s ease-in-out,box-shadow .15s ease-in-out}@media (prefers-reduced-motion:reduce){.form-control::-webkit-file-upload-button{-webkit-transition:none;transition:none}}.form-control:hover:not(:disabled):not([readonly])::-webkit-file-upload-button{background-color:#dde0e3}.form-control-plaintext{display:block;width:100%;padding:.375rem 0;margin-bottom:0;line-height:1.5;color:#212529;background-color:transparent;border:solid transparent;border-width:1px 0}.form-control-plaintext.form-control-lg,.form-control-plaintext.form-control-sm{padding-right:0;padding-left:0}.form-control-sm{min-height:calc(1.5em + .5rem + 2px);padding:.25rem .5rem;font-size:.875rem;border-radius:.2rem}.form-control-sm::file-selector-button{padding:.25rem .5rem;margin:-.25rem -.5rem;-webkit-margin-end:.5rem;margin-inline-end:.5rem}.form-control-sm::-webkit-file-upload-button{padding:.25rem .5rem;margin:-.25rem -.5rem;-webkit-margin-end:.5rem;margin-inline-end:.5rem}.form-control-lg{min-height:calc(1.5em + 1rem + 2px);padding:.5rem 1rem;font-size:1.25rem;border-radius:.3rem}.form-control-lg::file-selector-button{padding:.5rem 1rem;margin:-.5rem -1rem;-webkit-margin-end:1rem;margin-inline-end:1rem}.form-control-lg::-webkit-file-upload-button{padding:.5rem 1rem;margin:-.5rem -1rem;-webkit-margin-end:1rem;margin-inline-end:1rem}textarea.form-control{min-height:calc(1.5em + .75rem + 2px)}textarea.form-control-sm{min-height:calc(1.5em + .5rem + 2px)}textarea.form-control-lg{min-height:calc(1.5em + 1rem + 2px)}.form-control-color{max-width:3rem;height:auto;padding:.375rem}.form-control-color:not(:disabled):not([readonly]){cursor:pointer}.form-control-color::-moz-color-swatch{height:1.5em;border-radius:.25rem}.form-control-color::-webkit-color-swatch{height:1.5em;border-radius:.25rem}.form-select{display:block;width:100%;padding:.375rem 2.25rem .375rem .75rem;font-size:1rem;font-weight:400;line-height:1.5;color:#212529;background-color:#fff;background-image:url(\"data:image/svg+xml,%3csvg xmlns='http://www.w3.org/2000/svg' viewBox='0 0 16 16'%3e%3cpath fill='none' stroke='%23343a40' stroke-linecap='round' stroke-linejoin='round' stroke-width='2' d='M2 5l6 6 6-6'/%3e%3c/svg%3e\");background-repeat:no-repeat;background-position:right .75rem center;background-size:16px 12px;border:1px solid #ced4da;border-radius:.25rem;-webkit-appearance:none;-moz-appearance:none;appearance:none}.form-select:focus{border-color:#86b7fe;outline:0;box-shadow:0 0 0 .25rem rgba(13,110,253,.25)}.form-select[multiple],.form-select[size]:not([size=\"1\"]){padding-right:.75rem;background-image:none}.form-select:disabled{background-color:#e9ecef}.form-select:-moz-focusring{color:transparent;text-shadow:0 0 0 #212529}.form-select-sm{padding-top:.25rem;padding-bottom:.25rem;padding-left:.5rem;font-size:.875rem}.form-select-lg{padding-top:.5rem;padding-bottom:.5rem;padding-left:1rem;font-size:1.25rem}.form-check{display:block;min-height:1.5rem;padding-left:1.5em;margin-bottom:.125rem}.form-check .form-check-input{float:left;margin-left:-1.5em}.form-check-input{width:1em;height:1em;margin-top:.25em;vertical-align:top;background-color:#fff;background-repeat:no-repeat;background-position:center;background-size:contain;border:1px solid rgba(0,0,0,.25);-webkit-appearance:none;-moz-appearance:none;appearance:none;-webkit-print-color-adjust:exact;color-adjust:exact}.form-check-input[type=checkbox]{border-radius:.25em}.form-check-input[type=radio]{border-radius:50%}.form-check-input:active{filter:brightness(90%)}.form-check-input:focus{border-color:#86b7fe;outline:0;box-shadow:0 0 0 .25rem rgba(13,110,253,.25)}.form-check-input:checked{background-color:#0d6efd;border-color:#0d6efd}.form-check-input:checked[type=checkbox]{background-image:url(\"data:image/svg+xml,%3csvg xmlns='http://www.w3.org/2000/svg' viewBox='0 0 20 20'%3e%3cpath fill='none' stroke='%23fff' stroke-linecap='round' stroke-linejoin='round' stroke-width='3' d='M6 10l3 3l6-6'/%3e%3c/svg%3e\")}.form-check-input:checked[type=radio]{background-image:url(\"data:image/svg+xml,%3csvg xmlns='http://www.w3.org/2000/svg' viewBox='-4 -4 8 8'%3e%3ccircle r='2' fill='%23fff'/%3e%3c/svg%3e\")}.form-check-input[type=checkbox]:indeterminate{background-color:#0d6efd;border-color:#0d6efd;background-image:url(\"data:image/svg+xml,%3csvg xmlns='http://www.w3.org/2000/svg' viewBox='0 0 20 20'%3e%3cpath fill='none' stroke='%23fff' stroke-linecap='round' stroke-linejoin='round' stroke-width='3' d='M6 10h8'/%3e%3c/svg%3e\")}.form-check-input:disabled{pointer-events:none;filter:none;opacity:.5}.form-check-input:disabled~.form-check-label,.form-check-input[disabled]~.form-check-label{opacity:.5}.form-switch{padding-left:2.5em}.form-switch .form-check-input{width:2em;margin-left:-2.5em;background-image:url(\"data:image/svg+xml,%3csvg xmlns='http://www.w3.org/2000/svg' viewBox='-4 -4 8 8'%3e%3ccircle r='3' fill='rgba%280, 0, 0, 0.25%29'/%3e%3c/svg%3e\");background-position:left center;border-radius:2em;transition:background-position .15s ease-in-out}@media (prefers-reduced-motion:reduce){.form-switch .form-check-input{transition:none}}.form-switch .form-check-input:focus{background-image:url(\"data:image/svg+xml,%3csvg xmlns='http://www.w3.org/2000/svg' viewBox='-4 -4 8 8'%3e%3ccircle r='3' fill='%2386b7fe'/%3e%3c/svg%3e\")}.form-switch .form-check-input:checked{background-position:right center;background-image:url(\"data:image/svg+xml,%3csvg xmlns='http://www.w3.org/2000/svg' viewBox='-4 -4 8 8'%3e%3ccircle r='3' fill='%23fff'/%3e%3c/svg%3e\")}.form-check-inline{display:inline-block;margin-right:1rem}.btn-check{position:absolute;clip:rect(0,0,0,0);pointer-events:none}.btn-check:disabled+.btn,.btn-check[disabled]+.btn{pointer-events:none;filter:none;opacity:.65}.form-range{width:100%;height:1.5rem;padding:0;background-color:transparent;-webkit-appearance:none;-moz-appearance:none;appearance:none}.form-range:focus{outline:0}.form-range:focus::-webkit-slider-thumb{box-shadow:0 0 0 1px #fff,0 0 0 .25rem rgba(13,110,253,.25)}.form-range:focus::-moz-range-thumb{box-shadow:0 0 0 1px #fff,0 0 0 .25rem rgba(13,110,253,.25)}.form-range::-moz-focus-outer{border:0}.form-range::-webkit-slider-thumb{width:1rem;height:1rem;margin-top:-.25rem;background-color:#0d6efd;border:0;border-radius:1rem;-webkit-transition:background-color .15s ease-in-out,border-color .15s ease-in-out,box-shadow .15s ease-in-out;transition:background-color .15s ease-in-out,border-color .15s ease-in-out,box-shadow .15s ease-in-out;-webkit-appearance:none;appearance:none}@media (prefers-reduced-motion:reduce){.form-range::-webkit-slider-thumb{-webkit-transition:none;transition:none}}.form-range::-webkit-slider-thumb:active{background-color:#b6d4fe}.form-range::-webkit-slider-runnable-track{width:100%;height:.5rem;color:transparent;cursor:pointer;background-color:#dee2e6;border-color:transparent;border-radius:1rem}.form-range::-moz-range-thumb{width:1rem;height:1rem;background-color:#0d6efd;border:0;border-radius:1rem;-moz-transition:background-color .15s ease-in-out,border-color .15s ease-in-out,box-shadow .15s ease-in-out;transition:background-color .15s ease-in-out,border-color .15s ease-in-out,box-shadow .15s ease-in-out;-moz-appearance:none;appearance:none}@media (prefers-reduced-motion:reduce){.form-range::-moz-range-thumb{-moz-transition:none;transition:none}}.form-range::-moz-range-thumb:active{background-color:#b6d4fe}.form-range::-moz-range-track{width:100%;height:.5rem;color:transparent;cursor:pointer;background-color:#dee2e6;border-color:transparent;border-radius:1rem}.form-range:disabled{pointer-events:none}.form-range:disabled::-webkit-slider-thumb{background-color:#adb5bd}.form-range:disabled::-moz-range-thumb{background-color:#adb5bd}.form-floating{position:relative}.form-floating>.form-control,.form-floating>.form-select{height:calc(3.5rem + 2px);padding:1rem .75rem}.form-floating>label{position:absolute;top:0;left:0;height:100%;padding:1rem .75rem;pointer-events:none;border:1px solid transparent;transform-origin:0 0;transition:opacity .1s ease-in-out,transform .1s ease-in-out}@media (prefers-reduced-motion:reduce){.form-floating>label{transition:none}}.form-floating>.form-control::-moz-placeholder{color:transparent}.form-floating>.form-control::placeholder{color:transparent}.form-floating>.form-control:not(:-moz-placeholder-shown){padding-top:1.625rem;padding-bottom:.625rem}.form-floating>.form-control:focus,.form-floating>.form-control:not(:placeholder-shown){padding-top:1.625rem;padding-bottom:.625rem}.form-floating>.form-control:-webkit-autofill{padding-top:1.625rem;padding-bottom:.625rem}.form-floating>.form-select{padding-top:1.625rem;padding-bottom:.625rem}.form-floating>.form-control:not(:-moz-placeholder-shown)~label{opacity:.65;transform:scale(.85) translateY(-.5rem) translateX(.15rem)}.form-floating>.form-control:focus~label,.form-floating>.form-control:not(:placeholder-shown)~label,.form-floating>.form-select~label{opacity:.65;transform:scale(.85) translateY(-.5rem) translateX(.15rem)}.form-floating>.form-control:-webkit-autofill~label{opacity:.65;transform:scale(.85) translateY(-.5rem) translateX(.15rem)}.input-group{position:relative;display:flex;flex-wrap:wrap;align-items:stretch;width:100%}.input-group>.form-control,.input-group>.form-select{position:relative;flex:1 1 auto;width:1%;min-width:0}.input-group>.form-control:focus,.input-group>.form-select:focus{z-index:3}.input-group .btn{position:relative;z-index:2}.input-group .btn:focus{z-index:3}.input-group-text{display:flex;align-items:center;padding:.375rem .75rem;font-size:1rem;font-weight:400;line-height:1.5;color:#212529;text-align:center;white-space:nowrap;background-color:#e9ecef;border:1px solid #ced4da;border-radius:.25rem}.input-group-lg>.btn,.input-group-lg>.form-control,.input-group-lg>.form-select,.input-group-lg>.input-group-text{padding:.5rem 1rem;font-size:1.25rem;border-radius:.3rem}.input-group-sm>.btn,.input-group-sm>.form-control,.input-group-sm>.form-select,.input-group-sm>.input-group-text{padding:.25rem .5rem;font-size:.875rem;border-radius:.2rem}.input-group-lg>.form-select,.input-group-sm>.form-select{padding-right:3rem}.input-group:not(.has-validation)>.dropdown-toggle:nth-last-child(n+3),.input-group:not(.has-validation)>:not(:last-child):not(.dropdown-toggle):not(.dropdown-menu){border-top-right-radius:0;border-bottom-right-radius:0}.input-group.has-validation>.dropdown-toggle:nth-last-child(n+4),.input-group.has-validation>:nth-last-child(n+3):not(.dropdown-toggle):not(.dropdown-menu){border-top-right-radius:0;border-bottom-right-radius:0}.input-group>:not(:first-child):not(.dropdown-menu):not(.valid-tooltip):not(.valid-feedback):not(.invalid-tooltip):not(.invalid-feedback){margin-left:-1px;border-top-left-radius:0;border-bottom-left-radius:0}.valid-feedback{display:none;width:100%;margin-top:.25rem;font-size:.875em;color:#198754}.valid-tooltip{position:absolute;top:100%;z-index:5;display:none;max-width:100%;padding:.25rem .5rem;margin-top:.1rem;font-size:.875rem;color:#fff;background-color:rgba(25,135,84,.9);border-radius:.25rem}.is-valid~.valid-feedback,.is-valid~.valid-tooltip,.was-validated :valid~.valid-feedback,.was-validated :valid~.valid-tooltip{display:block}.form-control.is-valid,.was-validated .form-control:valid{border-color:#198754;padding-right:calc(1.5em + .75rem);background-image:url(\"data:image/svg+xml,%3csvg xmlns='http://www.w3.org/2000/svg' viewBox='0 0 8 8'%3e%3cpath fill='%23198754' d='M2.3 6.73L.6 4.53c-.4-1.04.46-1.4 1.1-.8l1.1 1.4 3.4-3.8c.6-.63 1.6-.27 1.2.7l-4 4.6c-.43.5-.8.4-1.1.1z'/%3e%3c/svg%3e\");background-repeat:no-repeat;background-position:right calc(.375em + .1875rem) center;background-size:calc(.75em + .375rem) calc(.75em + .375rem)}.form-control.is-valid:focus,.was-validated .form-control:valid:focus{border-color:#198754;box-shadow:0 0 0 .25rem rgba(25,135,84,.25)}.was-validated textarea.form-control:valid,textarea.form-control.is-valid{padding-right:calc(1.5em + .75rem);background-position:top calc(.375em + .1875rem) right calc(.375em + .1875rem)}.form-select.is-valid,.was-validated .form-select:valid{border-color:#198754;padding-right:4.125rem;background-image:url(\"data:image/svg+xml,%3csvg xmlns='http://www.w3.org/2000/svg' viewBox='0 0 16 16'%3e%3cpath fill='none' stroke='%23343a40' stroke-linecap='round' stroke-linejoin='round' stroke-width='2' d='M2 5l6 6 6-6'/%3e%3c/svg%3e\"),url(\"data:image/svg+xml,%3csvg xmlns='http://www.w3.org/2000/svg' viewBox='0 0 8 8'%3e%3cpath fill='%23198754' d='M2.3 6.73L.6 4.53c-.4-1.04.46-1.4 1.1-.8l1.1 1.4 3.4-3.8c.6-.63 1.6-.27 1.2.7l-4 4.6c-.43.5-.8.4-1.1.1z'/%3e%3c/svg%3e\");background-position:right .75rem center,center right 2.25rem;background-size:16px 12px,calc(.75em + .375rem) calc(.75em + .375rem)}.form-select.is-valid:focus,.was-validated .form-select:valid:focus{border-color:#198754;box-shadow:0 0 0 .25rem rgba(25,135,84,.25)}.form-check-input.is-valid,.was-validated .form-check-input:valid{border-color:#198754}.form-check-input.is-valid:checked,.was-validated .form-check-input:valid:checked{background-color:#198754}.form-check-input.is-valid:focus,.was-validated .form-check-input:valid:focus{box-shadow:0 0 0 .25rem rgba(25,135,84,.25)}.form-check-input.is-valid~.form-check-label,.was-validated .form-check-input:valid~.form-check-label{color:#198754}.form-check-inline .form-check-input~.valid-feedback{margin-left:.5em}.input-group .form-control.is-valid,.input-group .form-select.is-valid,.was-validated .input-group .form-control:valid,.was-validated .input-group .form-select:valid{z-index:3}.invalid-feedback{display:none;width:100%;margin-top:.25rem;font-size:.875em;color:#dc3545}.invalid-tooltip{position:absolute;top:100%;z-index:5;display:none;max-width:100%;padding:.25rem .5rem;margin-top:.1rem;font-size:.875rem;color:#fff;background-color:rgba(220,53,69,.9);border-radius:.25rem}.is-invalid~.invalid-feedback,.is-invalid~.invalid-tooltip,.was-validated :invalid~.invalid-feedback,.was-validated :invalid~.invalid-tooltip{display:block}.form-control.is-invalid,.was-validated .form-control:invalid{border-color:#dc3545;padding-right:calc(1.5em + .75rem);background-image:url(\"data:image/svg+xml,%3csvg xmlns='http://www.w3.org/2000/svg' viewBox='0 0 12 12' width='12' height='12' fill='none' stroke='%23dc3545'%3e%3ccircle cx='6' cy='6' r='4.5'/%3e%3cpath stroke-linejoin='round' d='M5.8 3.6h.4L6 6.5z'/%3e%3ccircle cx='6' cy='8.2' r='.6' fill='%23dc3545' stroke='none'/%3e%3c/svg%3e\");background-repeat:no-repeat;background-position:right calc(.375em + .1875rem) center;background-size:calc(.75em + .375rem) calc(.75em + .375rem)}.form-control.is-invalid:focus,.was-validated .form-control:invalid:focus{border-color:#dc3545;box-shadow:0 0 0 .25rem rgba(220,53,69,.25)}.was-validated textarea.form-control:invalid,textarea.form-control.is-invalid{padding-right:calc(1.5em + .75rem);background-position:top calc(.375em + .1875rem) right calc(.375em + .1875rem)}.form-select.is-invalid,.was-validated .form-select:invalid{border-color:#dc3545;padding-right:4.125rem;background-image:url(\"data:image/svg+xml,%3csvg xmlns='http://www.w3.org/2000/svg' viewBox='0 0 16 16'%3e%3cpath fill='none' stroke='%23343a40' stroke-linecap='round' stroke-linejoin='round' stroke-width='2' d='M2 5l6 6 6-6'/%3e%3c/svg%3e\"),url(\"data:image/svg+xml,%3csvg xmlns='http://www.w3.org/2000/svg' viewBox='0 0 12 12' width='12' height='12' fill='none' stroke='%23dc3545'%3e%3ccircle cx='6' cy='6' r='4.5'/%3e%3cpath stroke-linejoin='round' d='M5.8 3.6h.4L6 6.5z'/%3e%3ccircle cx='6' cy='8.2' r='.6' fill='%23dc3545' stroke='none'/%3e%3c/svg%3e\");background-position:right .75rem center,center right 2.25rem;background-size:16px 12px,calc(.75em + .375rem) calc(.75em + .375rem)}.form-select.is-invalid:focus,.was-validated .form-select:invalid:focus{border-color:#dc3545;box-shadow:0 0 0 .25rem rgba(220,53,69,.25)}.form-check-input.is-invalid,.was-validated .form-check-input:invalid{border-color:#dc3545}.form-check-input.is-invalid:checked,.was-validated .form-check-input:invalid:checked{background-color:#dc3545}.form-check-input.is-invalid:focus,.was-validated .form-check-input:invalid:focus{box-shadow:0 0 0 .25rem rgba(220,53,69,.25)}.form-check-input.is-invalid~.form-check-label,.was-validated .form-check-input:invalid~.form-check-label{color:#dc3545}.form-check-inline .form-check-input~.invalid-feedback{margin-left:.5em}.input-group .form-control.is-invalid,.input-group .form-select.is-invalid,.was-validated .input-group .form-control:invalid,.was-validated .input-group .form-select:invalid{z-index:3}.btn{display:inline-block;font-weight:400;line-height:1.5;color:#212529;text-align:center;text-decoration:none;vertical-align:middle;cursor:pointer;-webkit-user-select:none;-moz-user-select:none;user-select:none;background-color:transparent;border:1px solid transparent;padding:.375rem .75rem;font-size:1rem;border-radius:.25rem;transition:color .15s ease-in-out,background-color .15s ease-in-out,border-color .15s ease-in-out,box-shadow .15s ease-in-out}@media (prefers-reduced-motion:reduce){.btn{transition:none}}.btn:hover{color:#212529}.btn-check:focus+.btn,.btn:focus{outline:0;box-shadow:0 0 0 .25rem rgba(13,110,253,.25)}.btn.disabled,.btn:disabled,fieldset:disabled .btn{pointer-events:none;opacity:.65}.btn-primary{color:#fff;background-color:#0d6efd;border-color:#0d6efd}.btn-primary:hover{color:#fff;background-color:#0b5ed7;border-color:#0a58ca}.btn-check:focus+.btn-primary,.btn-primary:focus{color:#fff;background-color:#0b5ed7;border-color:#0a58ca;box-shadow:0 0 0 .25rem rgba(49,132,253,.5)}.btn-check:active+.btn-primary,.btn-check:checked+.btn-primary,.btn-primary.active,.btn-primary:active,.show>.btn-primary.dropdown-toggle{color:#fff;background-color:#0a58ca;border-color:#0a53be}.btn-check:active+.btn-primary:focus,.btn-check:checked+.btn-primary:focus,.btn-primary.active:focus,.btn-primary:active:focus,.show>.btn-primary.dropdown-toggle:focus{box-shadow:0 0 0 .25rem rgba(49,132,253,.5)}.btn-primary.disabled,.btn-primary:disabled{color:#fff;background-color:#0d6efd;border-color:#0d6efd}.btn-secondary{color:#fff;background-color:#6c757d;border-color:#6c757d}.btn-secondary:hover{color:#fff;background-color:#5c636a;border-color:#565e64}.btn-check:focus+.btn-secondary,.btn-secondary:focus{color:#fff;background-color:#5c636a;border-color:#565e64;box-shadow:0 0 0 .25rem rgba(130,138,145,.5)}.btn-check:active+.btn-secondary,.btn-check:checked+.btn-secondary,.btn-secondary.active,.btn-secondary:active,.show>.btn-secondary.dropdown-toggle{color:#fff;background-color:#565e64;border-color:#51585e}.btn-check:active+.btn-secondary:focus,.btn-check:checked+.btn-secondary:focus,.btn-secondary.active:focus,.btn-secondary:active:focus,.show>.btn-secondary.dropdown-toggle:focus{box-shadow:0 0 0 .25rem rgba(130,138,145,.5)}.btn-secondary.disabled,.btn-secondary:disabled{color:#fff;background-color:#6c757d;border-color:#6c757d}.btn-success{color:#fff;background-color:#198754;border-color:#198754}.btn-success:hover{color:#fff;background-color:#157347;border-color:#146c43}.btn-check:focus+.btn-success,.btn-success:focus{color:#fff;background-color:#157347;border-color:#146c43;box-shadow:0 0 0 .25rem rgba(60,153,110,.5)}.btn-check:active+.btn-success,.btn-check:checked+.btn-success,.btn-success.active,.btn-success:active,.show>.btn-success.dropdown-toggle{color:#fff;background-color:#146c43;border-color:#13653f}.btn-check:active+.btn-success:focus,.btn-check:checked+.btn-success:focus,.btn-success.active:focus,.btn-success:active:focus,.show>.btn-success.dropdown-toggle:focus{box-shadow:0 0 0 .25rem rgba(60,153,110,.5)}.btn-success.disabled,.btn-success:disabled{color:#fff;background-color:#198754;border-color:#198754}.btn-info{color:#000;background-color:#0dcaf0;border-color:#0dcaf0}.btn-info:hover{color:#000;background-color:#31d2f2;border-color:#25cff2}.btn-check:focus+.btn-info,.btn-info:focus{color:#000;background-color:#31d2f2;border-color:#25cff2;box-shadow:0 0 0 .25rem rgba(11,172,204,.5)}.btn-check:active+.btn-info,.btn-check:checked+.btn-info,.btn-info.active,.btn-info:active,.show>.btn-info.dropdown-toggle{color:#000;background-color:#3dd5f3;border-color:#25cff2}.btn-check:active+.btn-info:focus,.btn-check:checked+.btn-info:focus,.btn-info.active:focus,.btn-info:active:focus,.show>.btn-info.dropdown-toggle:focus{box-shadow:0 0 0 .25rem rgba(11,172,204,.5)}.btn-info.disabled,.btn-info:disabled{color:#000;background-color:#0dcaf0;border-color:#0dcaf0}.btn-warning{color:#000;background-color:#ffc107;border-color:#ffc107}.btn-warning:hover{color:#000;background-color:#ffca2c;border-color:#ffc720}.btn-check:focus+.btn-warning,.btn-warning:focus{color:#000;background-color:#ffca2c;border-color:#ffc720;box-shadow:0 0 0 .25rem rgba(217,164,6,.5)}.btn-check:active+.btn-warning,.btn-check:checked+.btn-warning,.btn-warning.active,.btn-warning:active,.show>.btn-warning.dropdown-toggle{color:#000;background-color:#ffcd39;border-color:#ffc720}.btn-check:active+.btn-warning:focus,.btn-check:checked+.btn-warning:focus,.btn-warning.active:focus,.btn-warning:active:focus,.show>.btn-warning.dropdown-toggle:focus{box-shadow:0 0 0 .25rem rgba(217,164,6,.5)}.btn-warning.disabled,.btn-warning:disabled{color:#000;background-color:#ffc107;border-color:#ffc107}.btn-danger{color:#fff;background-color:#dc3545;border-color:#dc3545}.btn-danger:hover{color:#fff;background-color:#bb2d3b;border-color:#b02a37}.btn-check:focus+.btn-danger,.btn-danger:focus{color:#fff;background-color:#bb2d3b;border-color:#b02a37;box-shadow:0 0 0 .25rem rgba(225,83,97,.5)}.btn-check:active+.btn-danger,.btn-check:checked+.btn-danger,.btn-danger.active,.btn-danger:active,.show>.btn-danger.dropdown-toggle{color:#fff;background-color:#b02a37;border-color:#a52834}.btn-check:active+.btn-danger:focus,.btn-check:checked+.btn-danger:focus,.btn-danger.active:focus,.btn-danger:active:focus,.show>.btn-danger.dropdown-toggle:focus{box-shadow:0 0 0 .25rem rgba(225,83,97,.5)}.btn-danger.disabled,.btn-danger:disabled{color:#fff;background-color:#dc3545;border-color:#dc3545}.btn-light{color:#000;background-color:#f8f9fa;border-color:#f8f9fa}.btn-light:hover{color:#000;background-color:#f9fafb;border-color:#f9fafb}.btn-check:focus+.btn-light,.btn-light:focus{color:#000;background-color:#f9fafb;border-color:#f9fafb;box-shadow:0 0 0 .25rem rgba(211,212,213,.5)}.btn-check:active+.btn-light,.btn-check:checked+.btn-light,.btn-light.active,.btn-light:active,.show>.btn-light.dropdown-toggle{color:#000;background-color:#f9fafb;border-color:#f9fafb}.btn-check:active+.btn-light:focus,.btn-check:checked+.btn-light:focus,.btn-light.active:focus,.btn-light:active:focus,.show>.btn-light.dropdown-toggle:focus{box-shadow:0 0 0 .25rem rgba(211,212,213,.5)}.btn-light.disabled,.btn-light:disabled{color:#000;background-color:#f8f9fa;border-color:#f8f9fa}.btn-dark{color:#fff;background-color:#212529;border-color:#212529}.btn-dark:hover{color:#fff;background-color:#1c1f23;border-color:#1a1e21}.btn-check:focus+.btn-dark,.btn-dark:focus{color:#fff;background-color:#1c1f23;border-color:#1a1e21;box-shadow:0 0 0 .25rem rgba(66,70,73,.5)}.btn-check:active+.btn-dark,.btn-check:checked+.btn-dark,.btn-dark.active,.btn-dark:active,.show>.btn-dark.dropdown-toggle{color:#fff;background-color:#1a1e21;border-color:#191c1f}.btn-check:active+.btn-dark:focus,.btn-check:checked+.btn-dark:focus,.btn-dark.active:focus,.btn-dark:active:focus,.show>.btn-dark.dropdown-toggle:focus{box-shadow:0 0 0 .25rem rgba(66,70,73,.5)}.btn-dark.disabled,.btn-dark:disabled{color:#fff;background-color:#212529;border-color:#212529}.btn-outline-primary{color:#0d6efd;border-color:#0d6efd}.btn-outline-primary:hover{color:#fff;background-color:#0d6efd;border-color:#0d6efd}.btn-check:focus+.btn-outline-primary,.btn-outline-primary:focus{box-shadow:0 0 0 .25rem rgba(13,110,253,.5)}.btn-check:active+.btn-outline-primary,.btn-check:checked+.btn-outline-primary,.btn-outline-primary.active,.btn-outline-primary.dropdown-toggle.show,.btn-outline-primary:active{color:#fff;background-color:#0d6efd;border-color:#0d6efd}.btn-check:active+.btn-outline-primary:focus,.btn-check:checked+.btn-outline-primary:focus,.btn-outline-primary.active:focus,.btn-outline-primary.dropdown-toggle.show:focus,.btn-outline-primary:active:focus{box-shadow:0 0 0 .25rem rgba(13,110,253,.5)}.btn-outline-primary.disabled,.btn-outline-primary:disabled{color:#0d6efd;background-color:transparent}.btn-outline-secondary{color:#6c757d;border-color:#6c757d}.btn-outline-secondary:hover{color:#fff;background-color:#6c757d;border-color:#6c757d}.btn-check:focus+.btn-outline-secondary,.btn-outline-secondary:focus{box-shadow:0 0 0 .25rem rgba(108,117,125,.5)}.btn-check:active+.btn-outline-secondary,.btn-check:checked+.btn-outline-secondary,.btn-outline-secondary.active,.btn-outline-secondary.dropdown-toggle.show,.btn-outline-secondary:active{color:#fff;background-color:#6c757d;border-color:#6c757d}.btn-check:active+.btn-outline-secondary:focus,.btn-check:checked+.btn-outline-secondary:focus,.btn-outline-secondary.active:focus,.btn-outline-secondary.dropdown-toggle.show:focus,.btn-outline-secondary:active:focus{box-shadow:0 0 0 .25rem rgba(108,117,125,.5)}.btn-outline-secondary.disabled,.btn-outline-secondary:disabled{color:#6c757d;background-color:transparent}.btn-outline-success{color:#198754;border-color:#198754}.btn-outline-success:hover{color:#fff;background-color:#198754;border-color:#198754}.btn-check:focus+.btn-outline-success,.btn-outline-success:focus{box-shadow:0 0 0 .25rem rgba(25,135,84,.5)}.btn-check:active+.btn-outline-success,.btn-check:checked+.btn-outline-success,.btn-outline-success.active,.btn-outline-success.dropdown-toggle.show,.btn-outline-success:active{color:#fff;background-color:#198754;border-color:#198754}.btn-check:active+.btn-outline-success:focus,.btn-check:checked+.btn-outline-success:focus,.btn-outline-success.active:focus,.btn-outline-success.dropdown-toggle.show:focus,.btn-outline-success:active:focus{box-shadow:0 0 0 .25rem rgba(25,135,84,.5)}.btn-outline-success.disabled,.btn-outline-success:disabled{color:#198754;background-color:transparent}.btn-outline-info{color:#0dcaf0;border-color:#0dcaf0}.btn-outline-info:hover{color:#000;background-color:#0dcaf0;border-color:#0dcaf0}.btn-check:focus+.btn-outline-info,.btn-outline-info:focus{box-shadow:0 0 0 .25rem rgba(13,202,240,.5)}.btn-check:active+.btn-outline-info,.btn-check:checked+.btn-outline-info,.btn-outline-info.active,.btn-outline-info.dropdown-toggle.show,.btn-outline-info:active{color:#000;background-color:#0dcaf0;border-color:#0dcaf0}.btn-check:active+.btn-outline-info:focus,.btn-check:checked+.btn-outline-info:focus,.btn-outline-info.active:focus,.btn-outline-info.dropdown-toggle.show:focus,.btn-outline-info:active:focus{box-shadow:0 0 0 .25rem rgba(13,202,240,.5)}.btn-outline-info.disabled,.btn-outline-info:disabled{color:#0dcaf0;background-color:transparent}.btn-outline-warning{color:#ffc107;border-color:#ffc107}.btn-outline-warning:hover{color:#000;background-color:#ffc107;border-color:#ffc107}.btn-check:focus+.btn-outline-warning,.btn-outline-warning:focus{box-shadow:0 0 0 .25rem rgba(255,193,7,.5)}.btn-check:active+.btn-outline-warning,.btn-check:checked+.btn-outline-warning,.btn-outline-warning.active,.btn-outline-warning.dropdown-toggle.show,.btn-outline-warning:active{color:#000;background-color:#ffc107;border-color:#ffc107}.btn-check:active+.btn-outline-warning:focus,.btn-check:checked+.btn-outline-warning:focus,.btn-outline-warning.active:focus,.btn-outline-warning.dropdown-toggle.show:focus,.btn-outline-warning:active:focus{box-shadow:0 0 0 .25rem rgba(255,193,7,.5)}.btn-outline-warning.disabled,.btn-outline-warning:disabled{color:#ffc107;background-color:transparent}.btn-outline-danger{color:#dc3545;border-color:#dc3545}.btn-outline-danger:hover{color:#fff;background-color:#dc3545;border-color:#dc3545}.btn-check:focus+.btn-outline-danger,.btn-outline-danger:focus{box-shadow:0 0 0 .25rem rgba(220,53,69,.5)}.btn-check:active+.btn-outline-danger,.btn-check:checked+.btn-outline-danger,.btn-outline-danger.active,.btn-outline-danger.dropdown-toggle.show,.btn-outline-danger:active{color:#fff;background-color:#dc3545;border-color:#dc3545}.btn-check:active+.btn-outline-danger:focus,.btn-check:checked+.btn-outline-danger:focus,.btn-outline-danger.active:focus,.btn-outline-danger.dropdown-toggle.show:focus,.btn-outline-danger:active:focus{box-shadow:0 0 0 .25rem rgba(220,53,69,.5)}.btn-outline-danger.disabled,.btn-outline-danger:disabled{color:#dc3545;background-color:transparent}.btn-outline-light{color:#f8f9fa;border-color:#f8f9fa}.btn-outline-light:hover{color:#000;background-color:#f8f9fa;border-color:#f8f9fa}.btn-check:focus+.btn-outline-light,.btn-outline-light:focus{box-shadow:0 0 0 .25rem rgba(248,249,250,.5)}.btn-check:active+.btn-outline-light,.btn-check:checked+.btn-outline-light,.btn-outline-light.active,.btn-outline-light.dropdown-toggle.show,.btn-outline-light:active{color:#000;background-color:#f8f9fa;border-color:#f8f9fa}.btn-check:active+.btn-outline-light:focus,.btn-check:checked+.btn-outline-light:focus,.btn-outline-light.active:focus,.btn-outline-light.dropdown-toggle.show:focus,.btn-outline-light:active:focus{box-shadow:0 0 0 .25rem rgba(248,249,250,.5)}.btn-outline-light.disabled,.btn-outline-light:disabled{color:#f8f9fa;background-color:transparent}.btn-outline-dark{color:#212529;border-color:#212529}.btn-outline-dark:hover{color:#fff;background-color:#212529;border-color:#212529}.btn-check:focus+.btn-outline-dark,.btn-outline-dark:focus{box-shadow:0 0 0 .25rem rgba(33,37,41,.5)}.btn-check:active+.btn-outline-dark,.btn-check:checked+.btn-outline-dark,.btn-outline-dark.active,.btn-outline-dark.dropdown-toggle.show,.btn-outline-dark:active{color:#fff;background-color:#212529;border-color:#212529}.btn-check:active+.btn-outline-dark:focus,.btn-check:checked+.btn-outline-dark:focus,.btn-outline-dark.active:focus,.btn-outline-dark.dropdown-toggle.show:focus,.btn-outline-dark:active:focus{box-shadow:0 0 0 .25rem rgba(33,37,41,.5)}.btn-outline-dark.disabled,.btn-outline-dark:disabled{color:#212529;background-color:transparent}.btn-link{font-weight:400;color:#0d6efd;text-decoration:underline}.btn-link:hover{color:#0a58ca}.btn-link.disabled,.btn-link:disabled{color:#6c757d}.btn-group-lg>.btn,.btn-lg{padding:.5rem 1rem;font-size:1.25rem;border-radius:.3rem}.btn-group-sm>.btn,.btn-sm{padding:.25rem .5rem;font-size:.875rem;border-radius:.2rem}.fade{transition:opacity .15s linear}@media (prefers-reduced-motion:reduce){.fade{transition:none}}.fade:not(.show){opacity:0}.collapse:not(.show){display:none}.collapsing{height:0;overflow:hidden;transition:height .35s ease}@media (prefers-reduced-motion:reduce){.collapsing{transition:none}}.dropdown,.dropend,.dropstart,.dropup{position:relative}.dropdown-toggle{white-space:nowrap}.dropdown-toggle::after{display:inline-block;margin-left:.255em;vertical-align:.255em;content:\"\";border-top:.3em solid;border-right:.3em solid transparent;border-bottom:0;border-left:.3em solid transparent}.dropdown-toggle:empty::after{margin-left:0}.dropdown-menu{position:absolute;top:100%;z-index:1000;display:none;min-width:10rem;padding:.5rem 0;margin:0;font-size:1rem;color:#212529;text-align:left;list-style:none;background-color:#fff;background-clip:padding-box;border:1px solid rgba(0,0,0,.15);border-radius:.25rem}.dropdown-menu[data-bs-popper]{left:0;margin-top:.125rem}.dropdown-menu-start{--bs-position:start}.dropdown-menu-start[data-bs-popper]{right:auto;left:0}.dropdown-menu-end{--bs-position:end}.dropdown-menu-end[data-bs-popper]{right:0;left:auto}@media (min-width:576px){.dropdown-menu-sm-start{--bs-position:start}.dropdown-menu-sm-start[data-bs-popper]{right:auto;left:0}.dropdown-menu-sm-end{--bs-position:end}.dropdown-menu-sm-end[data-bs-popper]{right:0;left:auto}}@media (min-width:768px){.dropdown-menu-md-start{--bs-position:start}.dropdown-menu-md-start[data-bs-popper]{right:auto;left:0}.dropdown-menu-md-end{--bs-position:end}.dropdown-menu-md-end[data-bs-popper]{right:0;left:auto}}@media (min-width:992px){.dropdown-menu-lg-start{--bs-position:start}.dropdown-menu-lg-start[data-bs-popper]{right:auto;left:0}.dropdown-menu-lg-end{--bs-position:end}.dropdown-menu-lg-end[data-bs-popper]{right:0;left:auto}}@media (min-width:1200px){.dropdown-menu-xl-start{--bs-position:start}.dropdown-menu-xl-start[data-bs-popper]{right:auto;left:0}.dropdown-menu-xl-end{--bs-position:end}.dropdown-menu-xl-end[data-bs-popper]{right:0;left:auto}}@media (min-width:1400px){.dropdown-menu-xxl-start{--bs-position:start}.dropdown-menu-xxl-start[data-bs-popper]{right:auto;left:0}.dropdown-menu-xxl-end{--bs-position:end}.dropdown-menu-xxl-end[data-bs-popper]{right:0;left:auto}}.dropup .dropdown-menu[data-bs-popper]{top:auto;bottom:100%;margin-top:0;margin-bottom:.125rem}.dropup .dropdown-toggle::after{display:inline-block;margin-left:.255em;vertical-align:.255em;content:\"\";border-top:0;border-right:.3em solid transparent;border-bottom:.3em solid;border-left:.3em solid transparent}.dropup .dropdown-toggle:empty::after{margin-left:0}.dropend .dropdown-menu{top:0;right:auto;left:100%}.dropend .dropdown-menu[data-bs-popper]{margin-top:0;margin-left:.125rem}.dropend .dropdown-toggle::after{display:inline-block;margin-left:.255em;vertical-align:.255em;content:\"\";border-top:.3em solid transparent;border-right:0;border-bottom:.3em solid transparent;border-left:.3em solid}.dropend .dropdown-toggle:empty::after{margin-left:0}.dropend .dropdown-toggle::after{vertical-align:0}.dropstart .dropdown-menu{top:0;right:100%;left:auto}.dropstart .dropdown-menu[data-bs-popper]{margin-top:0;margin-right:.125rem}.dropstart .dropdown-toggle::after{display:inline-block;margin-left:.255em;vertical-align:.255em;content:\"\"}.dropstart .dropdown-toggle::after{display:none}.dropstart .dropdown-toggle::before{display:inline-block;margin-right:.255em;vertical-align:.255em;content:\"\";border-top:.3em solid transparent;border-right:.3em solid;border-bottom:.3em solid transparent}.dropstart .dropdown-toggle:empty::after{margin-left:0}.dropstart .dropdown-toggle::before{vertical-align:0}.dropdown-divider{height:0;margin:.5rem 0;overflow:hidden;border-top:1px solid rgba(0,0,0,.15)}.dropdown-item{display:block;width:100%;padding:.25rem 1rem;clear:both;font-weight:400;color:#212529;text-align:inherit;text-decoration:none;white-space:nowrap;background-color:transparent;border:0}.dropdown-item:focus,.dropdown-item:hover{color:#1e2125;background-color:#e9ecef}.dropdown-item.active,.dropdown-item:active{color:#fff;text-decoration:none;background-color:#0d6efd}.dropdown-item.disabled,.dropdown-item:disabled{color:#adb5bd;pointer-events:none;background-color:transparent}.dropdown-menu.show{display:block}.dropdown-header{display:block;padding:.5rem 1rem;margin-bottom:0;font-size:.875rem;color:#6c757d;white-space:nowrap}.dropdown-item-text{display:block;padding:.25rem 1rem;color:#212529}.dropdown-menu-dark{color:#dee2e6;background-color:#343a40;border-color:rgba(0,0,0,.15)}.dropdown-menu-dark .dropdown-item{color:#dee2e6}.dropdown-menu-dark .dropdown-item:focus,.dropdown-menu-dark .dropdown-item:hover{color:#fff;background-color:rgba(255,255,255,.15)}.dropdown-menu-dark .dropdown-item.active,.dropdown-menu-dark .dropdown-item:active{color:#fff;background-color:#0d6efd}.dropdown-menu-dark .dropdown-item.disabled,.dropdown-menu-dark .dropdown-item:disabled{color:#adb5bd}.dropdown-menu-dark .dropdown-divider{border-color:rgba(0,0,0,.15)}.dropdown-menu-dark .dropdown-item-text{color:#dee2e6}.dropdown-menu-dark .dropdown-header{color:#adb5bd}.btn-group,.btn-group-vertical{position:relative;display:inline-flex;vertical-align:middle}.btn-group-vertical>.btn,.btn-group>.btn{position:relative;flex:1 1 auto}.btn-group-vertical>.btn-check:checked+.btn,.btn-group-vertical>.btn-check:focus+.btn,.btn-group-vertical>.btn.active,.btn-group-vertical>.btn:active,.btn-group-vertical>.btn:focus,.btn-group-vertical>.btn:hover,.btn-group>.btn-check:checked+.btn,.btn-group>.btn-check:focus+.btn,.btn-group>.btn.active,.btn-group>.btn:active,.btn-group>.btn:focus,.btn-group>.btn:hover{z-index:1}.btn-toolbar{display:flex;flex-wrap:wrap;justify-content:flex-start}.btn-toolbar .input-group{width:auto}.btn-group>.btn-group:not(:first-child),.btn-group>.btn:not(:first-child){margin-left:-1px}.btn-group>.btn-group:not(:last-child)>.btn,.btn-group>.btn:not(:last-child):not(.dropdown-toggle){border-top-right-radius:0;border-bottom-right-radius:0}.btn-group>.btn-group:not(:first-child)>.btn,.btn-group>.btn:nth-child(n+3),.btn-group>:not(.btn-check)+.btn{border-top-left-radius:0;border-bottom-left-radius:0}.dropdown-toggle-split{padding-right:.5625rem;padding-left:.5625rem}.dropdown-toggle-split::after,.dropend .dropdown-toggle-split::after,.dropup .dropdown-toggle-split::after{margin-left:0}.dropstart .dropdown-toggle-split::before{margin-right:0}.btn-group-sm>.btn+.dropdown-toggle-split,.btn-sm+.dropdown-toggle-split{padding-right:.375rem;padding-left:.375rem}.btn-group-lg>.btn+.dropdown-toggle-split,.btn-lg+.dropdown-toggle-split{padding-right:.75rem;padding-left:.75rem}.btn-group-vertical{flex-direction:column;align-items:flex-start;justify-content:center}.btn-group-vertical>.btn,.btn-group-vertical>.btn-group{width:100%}.btn-group-vertical>.btn-group:not(:first-child),.btn-group-vertical>.btn:not(:first-child){margin-top:-1px}.btn-group-vertical>.btn-group:not(:last-child)>.btn,.btn-group-vertical>.btn:not(:last-child):not(.dropdown-toggle){border-bottom-right-radius:0;border-bottom-left-radius:0}.btn-group-vertical>.btn-group:not(:first-child)>.btn,.btn-group-vertical>.btn~.btn{border-top-left-radius:0;border-top-right-radius:0}.nav{display:flex;flex-wrap:wrap;padding-left:0;margin-bottom:0;list-style:none}.nav-link{display:block;padding:.5rem 1rem;text-decoration:none;transition:color .15s ease-in-out,background-color .15s ease-in-out,border-color .15s ease-in-out}@media (prefers-reduced-motion:reduce){.nav-link{transition:none}}.nav-link.disabled{color:#6c757d;pointer-events:none;cursor:default}.nav-tabs{border-bottom:1px solid #dee2e6}.nav-tabs .nav-link{margin-bottom:-1px;background:0 0;border:1px solid transparent;border-top-left-radius:.25rem;border-top-right-radius:.25rem}.nav-tabs .nav-link:focus,.nav-tabs .nav-link:hover{border-color:#e9ecef #e9ecef #dee2e6;isolation:isolate}.nav-tabs .nav-link.disabled{color:#6c757d;background-color:transparent;border-color:transparent}.nav-tabs .nav-item.show .nav-link,.nav-tabs .nav-link.active{color:#495057;background-color:#fff;border-color:#dee2e6 #dee2e6 #fff}.nav-tabs .dropdown-menu{margin-top:-1px;border-top-left-radius:0;border-top-right-radius:0}.nav-pills .nav-link{background:0 0;border:0;border-radius:.25rem}.nav-pills .nav-link.active,.nav-pills .show>.nav-link{color:#fff;background-color:#0d6efd}.nav-fill .nav-item,.nav-fill>.nav-link{flex:1 1 auto;text-align:center}.nav-justified .nav-item,.nav-justified>.nav-link{flex-basis:0;flex-grow:1;text-align:center}.nav-fill .nav-item .nav-link,.nav-justified .nav-item .nav-link{width:100%}.tab-content>.tab-pane{display:none}.tab-content>.active{display:block}.navbar{position:relative;display:flex;flex-wrap:wrap;align-items:center;justify-content:space-between;padding-top:.5rem;padding-bottom:.5rem}.navbar>.container,.navbar>.container-fluid,.navbar>.container-lg,.navbar>.container-md,.navbar>.container-sm,.navbar>.container-xl,.navbar>.container-xxl{display:flex;flex-wrap:inherit;align-items:center;justify-content:space-between}.navbar-brand{padding-top:.3125rem;padding-bottom:.3125rem;margin-right:1rem;font-size:1.25rem;text-decoration:none;white-space:nowrap}.navbar-nav{display:flex;flex-direction:column;padding-left:0;margin-bottom:0;list-style:none}.navbar-nav .nav-link{padding-right:0;padding-left:0}.navbar-nav .dropdown-menu{position:static}.navbar-text{padding-top:.5rem;padding-bottom:.5rem}.navbar-collapse{flex-basis:100%;flex-grow:1;align-items:center}.navbar-toggler{padding:.25rem .75rem;font-size:1.25rem;line-height:1;background-color:transparent;border:1px solid transparent;border-radius:.25rem;transition:box-shadow .15s ease-in-out}@media (prefers-reduced-motion:reduce){.navbar-toggler{transition:none}}.navbar-toggler:hover{text-decoration:none}.navbar-toggler:focus{text-decoration:none;outline:0;box-shadow:0 0 0 .25rem}.navbar-toggler-icon{display:inline-block;width:1.5em;height:1.5em;vertical-align:middle;background-repeat:no-repeat;background-position:center;background-size:100%}.navbar-nav-scroll{max-height:var(--bs-scroll-height,75vh);overflow-y:auto}@media (min-width:576px){.navbar-expand-sm{flex-wrap:nowrap;justify-content:flex-start}.navbar-expand-sm .navbar-nav{flex-direction:row}.navbar-expand-sm .navbar-nav .dropdown-menu{position:absolute}.navbar-expand-sm .navbar-nav .nav-link{padding-right:.5rem;padding-left:.5rem}.navbar-expand-sm .navbar-nav-scroll{overflow:visible}.navbar-expand-sm .navbar-collapse{display:flex!important;flex-basis:auto}.navbar-expand-sm .navbar-toggler{display:none}}@media (min-width:768px){.navbar-expand-md{flex-wrap:nowrap;justify-content:flex-start}.navbar-expand-md .navbar-nav{flex-direction:row}.navbar-expand-md .navbar-nav .dropdown-menu{position:absolute}.navbar-expand-md .navbar-nav .nav-link{padding-right:.5rem;padding-left:.5rem}.navbar-expand-md .navbar-nav-scroll{overflow:visible}.navbar-expand-md .navbar-collapse{display:flex!important;flex-basis:auto}.navbar-expand-md .navbar-toggler{display:none}}@media (min-width:992px){.navbar-expand-lg{flex-wrap:nowrap;justify-content:flex-start}.navbar-expand-lg .navbar-nav{flex-direction:row}.navbar-expand-lg .navbar-nav .dropdown-menu{position:absolute}.navbar-expand-lg .navbar-nav .nav-link{padding-right:.5rem;padding-left:.5rem}.navbar-expand-lg .navbar-nav-scroll{overflow:visible}.navbar-expand-lg .navbar-collapse{display:flex!important;flex-basis:auto}.navbar-expand-lg .navbar-toggler{display:none}}@media (min-width:1200px){.navbar-expand-xl{flex-wrap:nowrap;justify-content:flex-start}.navbar-expand-xl .navbar-nav{flex-direction:row}.navbar-expand-xl .navbar-nav .dropdown-menu{position:absolute}.navbar-expand-xl .navbar-nav .nav-link{padding-right:.5rem;padding-left:.5rem}.navbar-expand-xl .navbar-nav-scroll{overflow:visible}.navbar-expand-xl .navbar-collapse{display:flex!important;flex-basis:auto}.navbar-expand-xl .navbar-toggler{display:none}}@media (min-width:1400px){.navbar-expand-xxl{flex-wrap:nowrap;justify-content:flex-start}.navbar-expand-xxl .navbar-nav{flex-direction:row}.navbar-expand-xxl .navbar-nav .dropdown-menu{position:absolute}.navbar-expand-xxl .navbar-nav .nav-link{padding-right:.5rem;padding-left:.5rem}.navbar-expand-xxl .navbar-nav-scroll{overflow:visible}.navbar-expand-xxl .navbar-collapse{display:flex!important;flex-basis:auto}.navbar-expand-xxl .navbar-toggler{display:none}}.navbar-expand{flex-wrap:nowrap;justify-content:flex-start}.navbar-expand .navbar-nav{flex-direction:row}.navbar-expand .navbar-nav .dropdown-menu{position:absolute}.navbar-expand .navbar-nav .nav-link{padding-right:.5rem;padding-left:.5rem}.navbar-expand .navbar-nav-scroll{overflow:visible}.navbar-expand .navbar-collapse{display:flex!important;flex-basis:auto}.navbar-expand .navbar-toggler{display:none}.navbar-light .navbar-brand{color:rgba(0,0,0,.9)}.navbar-light .navbar-brand:focus,.navbar-light .navbar-brand:hover{color:rgba(0,0,0,.9)}.navbar-light .navbar-nav .nav-link{color:rgba(0,0,0,.55)}.navbar-light .navbar-nav .nav-link:focus,.navbar-light .navbar-nav .nav-link:hover{color:rgba(0,0,0,.7)}.navbar-light .navbar-nav .nav-link.disabled{color:rgba(0,0,0,.3)}.navbar-light .navbar-nav .nav-link.active,.navbar-light .navbar-nav .show>.nav-link{color:rgba(0,0,0,.9)}.navbar-light .navbar-toggler{color:rgba(0,0,0,.55);border-color:rgba(0,0,0,.1)}.navbar-light .navbar-toggler-icon{background-image:url(\"data:image/svg+xml,%3csvg xmlns='http://www.w3.org/2000/svg' viewBox='0 0 30 30'%3e%3cpath stroke='rgba%280, 0, 0, 0.55%29' stroke-linecap='round' stroke-miterlimit='10' stroke-width='2' d='M4 7h22M4 15h22M4 23h22'/%3e%3c/svg%3e\")}.navbar-light .navbar-text{color:rgba(0,0,0,.55)}.navbar-light .navbar-text a,.navbar-light .navbar-text a:focus,.navbar-light .navbar-text a:hover{color:rgba(0,0,0,.9)}.navbar-dark .navbar-brand{color:#fff}.navbar-dark .navbar-brand:focus,.navbar-dark .navbar-brand:hover{color:#fff}.navbar-dark .navbar-nav .nav-link{color:rgba(255,255,255,.55)}.navbar-dark .navbar-nav .nav-link:focus,.navbar-dark .navbar-nav .nav-link:hover{color:rgba(255,255,255,.75)}.navbar-dark .navbar-nav .nav-link.disabled{color:rgba(255,255,255,.25)}.navbar-dark .navbar-nav .nav-link.active,.navbar-dark .navbar-nav .show>.nav-link{color:#fff}.navbar-dark .navbar-toggler{color:rgba(255,255,255,.55);border-color:rgba(255,255,255,.1)}.navbar-dark .navbar-toggler-icon{background-image:url(\"data:image/svg+xml,%3csvg xmlns='http://www.w3.org/2000/svg' viewBox='0 0 30 30'%3e%3cpath stroke='rgba%28255, 255, 255, 0.55%29' stroke-linecap='round' stroke-miterlimit='10' stroke-width='2' d='M4 7h22M4 15h22M4 23h22'/%3e%3c/svg%3e\")}.navbar-dark .navbar-text{color:rgba(255,255,255,.55)}.navbar-dark .navbar-text a,.navbar-dark .navbar-text a:focus,.navbar-dark .navbar-text a:hover{color:#fff}.card{position:relative;display:flex;flex-direction:column;min-width:0;word-wrap:break-word;background-color:#fff;background-clip:border-box;border:1px solid rgba(0,0,0,.125);border-radius:.25rem}.card>hr{margin-right:0;margin-left:0}.card>.list-group{border-top:inherit;border-bottom:inherit}.card>.list-group:first-child{border-top-width:0;border-top-left-radius:calc(.25rem - 1px);border-top-right-radius:calc(.25rem - 1px)}.card>.list-group:last-child{border-bottom-width:0;border-bottom-right-radius:calc(.25rem - 1px);border-bottom-left-radius:calc(.25rem - 1px)}.card>.card-header+.list-group,.card>.list-group+.card-footer{border-top:0}.card-body{flex:1 1 auto;padding:1rem 1rem}.card-title{margin-bottom:.5rem}.card-subtitle{margin-top:-.25rem;margin-bottom:0}.card-text:last-child{margin-bottom:0}.card-link:hover{text-decoration:none}.card-link+.card-link{margin-left:1rem}.card-header{padding:.5rem 1rem;margin-bottom:0;background-color:rgba(0,0,0,.03);border-bottom:1px solid rgba(0,0,0,.125)}.card-header:first-child{border-radius:calc(.25rem - 1px) calc(.25rem - 1px) 0 0}.card-footer{padding:.5rem 1rem;background-color:rgba(0,0,0,.03);border-top:1px solid rgba(0,0,0,.125)}.card-footer:last-child{border-radius:0 0 calc(.25rem - 1px) calc(.25rem - 1px)}.card-header-tabs{margin-right:-.5rem;margin-bottom:-.5rem;margin-left:-.5rem;border-bottom:0}.card-header-pills{margin-right:-.5rem;margin-left:-.5rem}.card-img-overlay{position:absolute;top:0;right:0;bottom:0;left:0;padding:1rem;border-radius:calc(.25rem - 1px)}.card-img,.card-img-bottom,.card-img-top{width:100%}.card-img,.card-img-top{border-top-left-radius:calc(.25rem - 1px);border-top-right-radius:calc(.25rem - 1px)}.card-img,.card-img-bottom{border-bottom-right-radius:calc(.25rem - 1px);border-bottom-left-radius:calc(.25rem - 1px)}.card-group>.card{margin-bottom:.75rem}@media (min-width:576px){.card-group{display:flex;flex-flow:row wrap}.card-group>.card{flex:1 0 0%;margin-bottom:0}.card-group>.card+.card{margin-left:0;border-left:0}.card-group>.card:not(:last-child){border-top-right-radius:0;border-bottom-right-radius:0}.card-group>.card:not(:last-child) .card-header,.card-group>.card:not(:last-child) .card-img-top{border-top-right-radius:0}.card-group>.card:not(:last-child) .card-footer,.card-group>.card:not(:last-child) .card-img-bottom{border-bottom-right-radius:0}.card-group>.card:not(:first-child){border-top-left-radius:0;border-bottom-left-radius:0}.card-group>.card:not(:first-child) .card-header,.card-group>.card:not(:first-child) .card-img-top{border-top-left-radius:0}.card-group>.card:not(:first-child) .card-footer,.card-group>.card:not(:first-child) .card-img-bottom{border-bottom-left-radius:0}}.accordion-button{position:relative;display:flex;align-items:center;width:100%;padding:1rem 1.25rem;font-size:1rem;color:#212529;text-align:left;background-color:#fff;border:0;border-radius:0;overflow-anchor:none;transition:color .15s ease-in-out,background-color .15s ease-in-out,border-color .15s ease-in-out,box-shadow .15s ease-in-out,border-radius .15s ease}@media (prefers-reduced-motion:reduce){.accordion-button{transition:none}}.accordion-button:not(.collapsed){color:#0c63e4;background-color:#e7f1ff;box-shadow:inset 0 -1px 0 rgba(0,0,0,.125)}.accordion-button:not(.collapsed)::after{background-image:url(\"data:image/svg+xml,%3csvg xmlns='http://www.w3.org/2000/svg' viewBox='0 0 16 16' fill='%230c63e4'%3e%3cpath fill-rule='evenodd' d='M1.646 4.646a.5.5 0 0 1 .708 0L8 10.293l5.646-5.647a.5.5 0 0 1 .708.708l-6 6a.5.5 0 0 1-.708 0l-6-6a.5.5 0 0 1 0-.708z'/%3e%3c/svg%3e\");transform:rotate(180deg)}.accordion-button::after{flex-shrink:0;width:1.25rem;height:1.25rem;margin-left:auto;content:\"\";background-image:url(\"data:image/svg+xml,%3csvg xmlns='http://www.w3.org/2000/svg' viewBox='0 0 16 16' fill='%23212529'%3e%3cpath fill-rule='evenodd' d='M1.646 4.646a.5.5 0 0 1 .708 0L8 10.293l5.646-5.647a.5.5 0 0 1 .708.708l-6 6a.5.5 0 0 1-.708 0l-6-6a.5.5 0 0 1 0-.708z'/%3e%3c/svg%3e\");background-repeat:no-repeat;background-size:1.25rem;transition:transform .2s ease-in-out}@media (prefers-reduced-motion:reduce){.accordion-button::after{transition:none}}.accordion-button:hover{z-index:2}.accordion-button:focus{z-index:3;border-color:#86b7fe;outline:0;box-shadow:0 0 0 .25rem rgba(13,110,253,.25)}.accordion-header{margin-bottom:0}.accordion-item{margin-bottom:-1px;background-color:#fff;border:1px solid rgba(0,0,0,.125)}.accordion-item:first-of-type{border-top-left-radius:.25rem;border-top-right-radius:.25rem}.accordion-item:first-of-type .accordion-button{border-top-left-radius:calc(.25rem - 1px);border-top-right-radius:calc(.25rem - 1px)}.accordion-item:last-of-type{margin-bottom:0;border-bottom-right-radius:.25rem;border-bottom-left-radius:.25rem}.accordion-item:last-of-type .accordion-button.collapsed{border-bottom-right-radius:calc(.25rem - 1px);border-bottom-left-radius:calc(.25rem - 1px)}.accordion-item:last-of-type .accordion-collapse{border-bottom-right-radius:.25rem;border-bottom-left-radius:.25rem}.accordion-body{padding:1rem 1.25rem}.accordion-flush .accordion-collapse{border-width:0}.accordion-flush .accordion-item{border-right:0;border-left:0;border-radius:0}.accordion-flush .accordion-item:first-child{border-top:0}.accordion-flush .accordion-item:last-child{border-bottom:0}.accordion-flush .accordion-item .accordion-button{border-radius:0}.breadcrumb{display:flex;flex-wrap:wrap;padding:0 0;margin-bottom:1rem;list-style:none}.breadcrumb-item+.breadcrumb-item{padding-left:.5rem}.breadcrumb-item+.breadcrumb-item::before{float:left;padding-right:.5rem;color:#6c757d;content:var(--bs-breadcrumb-divider, \"/\")}.breadcrumb-item.active{color:#6c757d}.pagination{display:flex;padding-left:0;list-style:none}.page-link{position:relative;display:block;color:#0d6efd;text-decoration:none;background-color:#fff;border:1px solid #dee2e6;transition:color .15s ease-in-out,background-color .15s ease-in-out,border-color .15s ease-in-out,box-shadow .15s ease-in-out}@media (prefers-reduced-motion:reduce){.page-link{transition:none}}.page-link:hover{z-index:2;color:#0a58ca;background-color:#e9ecef;border-color:#dee2e6}.page-link:focus{z-index:3;color:#0a58ca;background-color:#e9ecef;outline:0;box-shadow:0 0 0 .25rem rgba(13,110,253,.25)}.page-item:not(:first-child) .page-link{margin-left:-1px}.page-item.active .page-link{z-index:3;color:#fff;background-color:#0d6efd;border-color:#0d6efd}.page-item.disabled .page-link{color:#6c757d;pointer-events:none;background-color:#fff;border-color:#dee2e6}.page-link{padding:.375rem .75rem}.page-item:first-child .page-link{border-top-left-radius:.25rem;border-bottom-left-radius:.25rem}.page-item:last-child .page-link{border-top-right-radius:.25rem;border-bottom-right-radius:.25rem}.pagination-lg .page-link{padding:.75rem 1.5rem;font-size:1.25rem}.pagination-lg .page-item:first-child .page-link{border-top-left-radius:.3rem;border-bottom-left-radius:.3rem}.pagination-lg .page-item:last-child .page-link{border-top-right-radius:.3rem;border-bottom-right-radius:.3rem}.pagination-sm .page-link{padding:.25rem .5rem;font-size:.875rem}.pagination-sm .page-item:first-child .page-link{border-top-left-radius:.2rem;border-bottom-left-radius:.2rem}.pagination-sm .page-item:last-child .page-link{border-top-right-radius:.2rem;border-bottom-right-radius:.2rem}.badge{display:inline-block;padding:.35em .65em;font-size:.75em;font-weight:700;line-height:1;color:#fff;text-align:center;white-space:nowrap;vertical-align:baseline;border-radius:.25rem}.badge:empty{display:none}.btn .badge{position:relative;top:-1px}.alert{position:relative;padding:1rem 1rem;margin-bottom:1rem;border:1px solid transparent;border-radius:.25rem}.alert-heading{color:inherit}.alert-link{font-weight:700}.alert-dismissible{padding-right:3rem}.alert-dismissible .btn-close{position:absolute;top:0;right:0;z-index:2;padding:1.25rem 1rem}.alert-primary{color:#084298;background-color:#cfe2ff;border-color:#b6d4fe}.alert-primary .alert-link{color:#06357a}.alert-secondary{color:#41464b;background-color:#e2e3e5;border-color:#d3d6d8}.alert-secondary .alert-link{color:#34383c}.alert-success{color:#0f5132;background-color:#d1e7dd;border-color:#badbcc}.alert-success .alert-link{color:#0c4128}.alert-info{color:#055160;background-color:#cff4fc;border-color:#b6effb}.alert-info .alert-link{color:#04414d}.alert-warning{color:#664d03;background-color:#fff3cd;border-color:#ffecb5}.alert-warning .alert-link{color:#523e02}.alert-danger{color:#842029;background-color:#f8d7da;border-color:#f5c2c7}.alert-danger .alert-link{color:#6a1a21}.alert-light{color:#636464;background-color:#fefefe;border-color:#fdfdfe}.alert-light .alert-link{color:#4f5050}.alert-dark{color:#141619;background-color:#d3d3d4;border-color:#bcbebf}.alert-dark .alert-link{color:#101214}@-webkit-keyframes progress-bar-stripes{0%{background-position-x:1rem}}@keyframes progress-bar-stripes{0%{background-position-x:1rem}}.progress{display:flex;height:1rem;overflow:hidden;font-size:.75rem;background-color:#e9ecef;border-radius:.25rem}.progress-bar{display:flex;flex-direction:column;justify-content:center;overflow:hidden;color:#fff;text-align:center;white-space:nowrap;background-color:#0d6efd;transition:width .6s ease}@media (prefers-reduced-motion:reduce){.progress-bar{transition:none}}.progress-bar-striped{background-image:linear-gradient(45deg,rgba(255,255,255,.15) 25%,transparent 25%,transparent 50%,rgba(255,255,255,.15) 50%,rgba(255,255,255,.15) 75%,transparent 75%,transparent);background-size:1rem 1rem}.progress-bar-animated{-webkit-animation:1s linear infinite progress-bar-stripes;animation:1s linear infinite progress-bar-stripes}@media (prefers-reduced-motion:reduce){.progress-bar-animated{-webkit-animation:none;animation:none}}.list-group{display:flex;flex-direction:column;padding-left:0;margin-bottom:0;border-radius:.25rem}.list-group-numbered{list-style-type:none;counter-reset:section}.list-group-numbered>li::before{content:counters(section, \".\") \". \";counter-increment:section}.list-group-item-action{width:100%;color:#495057;text-align:inherit}.list-group-item-action:focus,.list-group-item-action:hover{z-index:1;color:#495057;text-decoration:none;background-color:#f8f9fa}.list-group-item-action:active{color:#212529;background-color:#e9ecef}.list-group-item{position:relative;display:block;padding:.5rem 1rem;color:#212529;text-decoration:none;background-color:#fff;border:1px solid rgba(0,0,0,.125)}.list-group-item:first-child{border-top-left-radius:inherit;border-top-right-radius:inherit}.list-group-item:last-child{border-bottom-right-radius:inherit;border-bottom-left-radius:inherit}.list-group-item.disabled,.list-group-item:disabled{color:#6c757d;pointer-events:none;background-color:#fff}.list-group-item.active{z-index:2;color:#fff;background-color:#0d6efd;border-color:#0d6efd}.list-group-item+.list-group-item{border-top-width:0}.list-group-item+.list-group-item.active{margin-top:-1px;border-top-width:1px}.list-group-horizontal{flex-direction:row}.list-group-horizontal>.list-group-item:first-child{border-bottom-left-radius:.25rem;border-top-right-radius:0}.list-group-horizontal>.list-group-item:last-child{border-top-right-radius:.25rem;border-bottom-left-radius:0}.list-group-horizontal>.list-group-item.active{margin-top:0}.list-group-horizontal>.list-group-item+.list-group-item{border-top-width:1px;border-left-width:0}.list-group-horizontal>.list-group-item+.list-group-item.active{margin-left:-1px;border-left-width:1px}@media (min-width:576px){.list-group-horizontal-sm{flex-direction:row}.list-group-horizontal-sm>.list-group-item:first-child{border-bottom-left-radius:.25rem;border-top-right-radius:0}.list-group-horizontal-sm>.list-group-item:last-child{border-top-right-radius:.25rem;border-bottom-left-radius:0}.list-group-horizontal-sm>.list-group-item.active{margin-top:0}.list-group-horizontal-sm>.list-group-item+.list-group-item{border-top-width:1px;border-left-width:0}.list-group-horizontal-sm>.list-group-item+.list-group-item.active{margin-left:-1px;border-left-width:1px}}@media (min-width:768px){.list-group-horizontal-md{flex-direction:row}.list-group-horizontal-md>.list-group-item:first-child{border-bottom-left-radius:.25rem;border-top-right-radius:0}.list-group-horizontal-md>.list-group-item:last-child{border-top-right-radius:.25rem;border-bottom-left-radius:0}.list-group-horizontal-md>.list-group-item.active{margin-top:0}.list-group-horizontal-md>.list-group-item+.list-group-item{border-top-width:1px;border-left-width:0}.list-group-horizontal-md>.list-group-item+.list-group-item.active{margin-left:-1px;border-left-width:1px}}@media (min-width:992px){.list-group-horizontal-lg{flex-direction:row}.list-group-horizontal-lg>.list-group-item:first-child{border-bottom-left-radius:.25rem;border-top-right-radius:0}.list-group-horizontal-lg>.list-group-item:last-child{border-top-right-radius:.25rem;border-bottom-left-radius:0}.list-group-horizontal-lg>.list-group-item.active{margin-top:0}.list-group-horizontal-lg>.list-group-item+.list-group-item{border-top-width:1px;border-left-width:0}.list-group-horizontal-lg>.list-group-item+.list-group-item.active{margin-left:-1px;border-left-width:1px}}@media (min-width:1200px){.list-group-horizontal-xl{flex-direction:row}.list-group-horizontal-xl>.list-group-item:first-child{border-bottom-left-radius:.25rem;border-top-right-radius:0}.list-group-horizontal-xl>.list-group-item:last-child{border-top-right-radius:.25rem;border-bottom-left-radius:0}.list-group-horizontal-xl>.list-group-item.active{margin-top:0}.list-group-horizontal-xl>.list-group-item+.list-group-item{border-top-width:1px;border-left-width:0}.list-group-horizontal-xl>.list-group-item+.list-group-item.active{margin-left:-1px;border-left-width:1px}}@media (min-width:1400px){.list-group-horizontal-xxl{flex-direction:row}.list-group-horizontal-xxl>.list-group-item:first-child{border-bottom-left-radius:.25rem;border-top-right-radius:0}.list-group-horizontal-xxl>.list-group-item:last-child{border-top-right-radius:.25rem;border-bottom-left-radius:0}.list-group-horizontal-xxl>.list-group-item.active{margin-top:0}.list-group-horizontal-xxl>.list-group-item+.list-group-item{border-top-width:1px;border-left-width:0}.list-group-horizontal-xxl>.list-group-item+.list-group-item.active{margin-left:-1px;border-left-width:1px}}.list-group-flush{border-radius:0}.list-group-flush>.list-group-item{border-width:0 0 1px}.list-group-flush>.list-group-item:last-child{border-bottom-width:0}.list-group-item-primary{color:#084298;background-color:#cfe2ff}.list-group-item-primary.list-group-item-action:focus,.list-group-item-primary.list-group-item-action:hover{color:#084298;background-color:#bacbe6}.list-group-item-primary.list-group-item-action.active{color:#fff;background-color:#084298;border-color:#084298}.list-group-item-secondary{color:#41464b;background-color:#e2e3e5}.list-group-item-secondary.list-group-item-action:focus,.list-group-item-secondary.list-group-item-action:hover{color:#41464b;background-color:#cbccce}.list-group-item-secondary.list-group-item-action.active{color:#fff;background-color:#41464b;border-color:#41464b}.list-group-item-success{color:#0f5132;background-color:#d1e7dd}.list-group-item-success.list-group-item-action:focus,.list-group-item-success.list-group-item-action:hover{color:#0f5132;background-color:#bcd0c7}.list-group-item-success.list-group-item-action.active{color:#fff;background-color:#0f5132;border-color:#0f5132}.list-group-item-info{color:#055160;background-color:#cff4fc}.list-group-item-info.list-group-item-action:focus,.list-group-item-info.list-group-item-action:hover{color:#055160;background-color:#badce3}.list-group-item-info.list-group-item-action.active{color:#fff;background-color:#055160;border-color:#055160}.list-group-item-warning{color:#664d03;background-color:#fff3cd}.list-group-item-warning.list-group-item-action:focus,.list-group-item-warning.list-group-item-action:hover{color:#664d03;background-color:#e6dbb9}.list-group-item-warning.list-group-item-action.active{color:#fff;background-color:#664d03;border-color:#664d03}.list-group-item-danger{color:#842029;background-color:#f8d7da}.list-group-item-danger.list-group-item-action:focus,.list-group-item-danger.list-group-item-action:hover{color:#842029;background-color:#dfc2c4}.list-group-item-danger.list-group-item-action.active{color:#fff;background-color:#842029;border-color:#842029}.list-group-item-light{color:#636464;background-color:#fefefe}.list-group-item-light.list-group-item-action:focus,.list-group-item-light.list-group-item-action:hover{color:#636464;background-color:#e5e5e5}.list-group-item-light.list-group-item-action.active{color:#fff;background-color:#636464;border-color:#636464}.list-group-item-dark{color:#141619;background-color:#d3d3d4}.list-group-item-dark.list-group-item-action:focus,.list-group-item-dark.list-group-item-action:hover{color:#141619;background-color:#bebebf}.list-group-item-dark.list-group-item-action.active{color:#fff;background-color:#141619;border-color:#141619}.btn-close{box-sizing:content-box;width:1em;height:1em;padding:.25em .25em;color:#000;background:transparent url(\"data:image/svg+xml,%3csvg xmlns='http://www.w3.org/2000/svg' viewBox='0 0 16 16' fill='%23000'%3e%3cpath d='M.293.293a1 1 0 011.414 0L8 6.586 14.293.293a1 1 0 111.414 1.414L9.414 8l6.293 6.293a1 1 0 01-1.414 1.414L8 9.414l-6.293 6.293a1 1 0 01-1.414-1.414L6.586 8 .293 1.707a1 1 0 010-1.414z'/%3e%3c/svg%3e\") center/1em auto no-repeat;border:0;border-radius:.25rem;opacity:.5}.btn-close:hover{color:#000;text-decoration:none;opacity:.75}.btn-close:focus{outline:0;box-shadow:0 0 0 .25rem rgba(13,110,253,.25);opacity:1}.btn-close.disabled,.btn-close:disabled{pointer-events:none;-webkit-user-select:none;-moz-user-select:none;user-select:none;opacity:.25}.btn-close-white{filter:invert(1) grayscale(100%) brightness(200%)}.toast{width:350px;max-width:100%;font-size:.875rem;pointer-events:auto;background-color:rgba(255,255,255,.85);background-clip:padding-box;border:1px solid rgba(0,0,0,.1);box-shadow:0 .5rem 1rem rgba(0,0,0,.15);border-radius:.25rem}.toast:not(.showing):not(.show){opacity:0}.toast.hide{display:none}.toast-container{width:-webkit-max-content;width:-moz-max-content;width:max-content;max-width:100%;pointer-events:none}.toast-container>:not(:last-child){margin-bottom:.75rem}.toast-header{display:flex;align-items:center;padding:.5rem .75rem;color:#6c757d;background-color:rgba(255,255,255,.85);background-clip:padding-box;border-bottom:1px solid rgba(0,0,0,.05);border-top-left-radius:calc(.25rem - 1px);border-top-right-radius:calc(.25rem - 1px)}.toast-header .btn-close{margin-right:-.375rem;margin-left:.75rem}.toast-body{padding:.75rem;word-wrap:break-word}.modal-open{overflow:hidden}.modal-open .modal{overflow-x:hidden;overflow-y:auto}.modal{position:fixed;top:0;left:0;z-index:1060;display:none;width:100%;height:100%;overflow:hidden;outline:0}.modal-dialog{position:relative;width:auto;margin:.5rem;pointer-events:none}.modal.fade .modal-dialog{transition:transform .3s ease-out;transform:translate(0,-50px)}@media (prefers-reduced-motion:reduce){.modal.fade .modal-dialog{transition:none}}.modal.show .modal-dialog{transform:none}.modal.modal-static .modal-dialog{transform:scale(1.02)}.modal-dialog-scrollable{height:calc(100% - 1rem)}.modal-dialog-scrollable .modal-content{max-height:100%;overflow:hidden}.modal-dialog-scrollable .modal-body{overflow-y:auto}.modal-dialog-centered{display:flex;align-items:center;min-height:calc(100% - 1rem)}.modal-content{position:relative;display:flex;flex-direction:column;width:100%;pointer-events:auto;background-color:#fff;background-clip:padding-box;border:1px solid rgba(0,0,0,.2);border-radius:.3rem;outline:0}.modal-backdrop{position:fixed;top:0;left:0;z-index:1050;width:100vw;height:100vh;background-color:#000}.modal-backdrop.fade{opacity:0}.modal-backdrop.show{opacity:.5}.modal-header{display:flex;flex-shrink:0;align-items:center;justify-content:space-between;padding:1rem 1rem;border-bottom:1px solid #dee2e6;border-top-left-radius:calc(.3rem - 1px);border-top-right-radius:calc(.3rem - 1px)}.modal-header .btn-close{padding:.5rem .5rem;margin:-.5rem -.5rem -.5rem auto}.modal-title{margin-bottom:0;line-height:1.5}.modal-body{position:relative;flex:1 1 auto;padding:1rem}.modal-footer{display:flex;flex-wrap:wrap;flex-shrink:0;align-items:center;justify-content:flex-end;padding:.75rem;border-top:1px solid #dee2e6;border-bottom-right-radius:calc(.3rem - 1px);border-bottom-left-radius:calc(.3rem - 1px)}.modal-footer>*{margin:.25rem}.modal-scrollbar-measure{position:absolute;top:-9999px;width:50px;height:50px;overflow:scroll}@media (min-width:576px){.modal-dialog{max-width:500px;margin:1.75rem auto}.modal-dialog-scrollable{height:calc(100% - 3.5rem)}.modal-dialog-centered{min-height:calc(100% - 3.5rem)}.modal-sm{max-width:300px}}@media (min-width:992px){.modal-lg,.modal-xl{max-width:800px}}@media (min-width:1200px){.modal-xl{max-width:1140px}}.modal-fullscreen{width:100vw;max-width:none;height:100%;margin:0}.modal-fullscreen .modal-content{height:100%;border:0;border-radius:0}.modal-fullscreen .modal-header{border-radius:0}.modal-fullscreen .modal-body{overflow-y:auto}.modal-fullscreen .modal-footer{border-radius:0}@media (max-width:575.98px){.modal-fullscreen-sm-down{width:100vw;max-width:none;height:100%;margin:0}.modal-fullscreen-sm-down .modal-content{height:100%;border:0;border-radius:0}.modal-fullscreen-sm-down .modal-header{border-radius:0}.modal-fullscreen-sm-down .modal-body{overflow-y:auto}.modal-fullscreen-sm-down .modal-footer{border-radius:0}}@media (max-width:767.98px){.modal-fullscreen-md-down{width:100vw;max-width:none;height:100%;margin:0}.modal-fullscreen-md-down .modal-content{height:100%;border:0;border-radius:0}.modal-fullscreen-md-down .modal-header{border-radius:0}.modal-fullscreen-md-down .modal-body{overflow-y:auto}.modal-fullscreen-md-down .modal-footer{border-radius:0}}@media (max-width:991.98px){.modal-fullscreen-lg-down{width:100vw;max-width:none;height:100%;margin:0}.modal-fullscreen-lg-down .modal-content{height:100%;border:0;border-radius:0}.modal-fullscreen-lg-down .modal-header{border-radius:0}.modal-fullscreen-lg-down .modal-body{overflow-y:auto}.modal-fullscreen-lg-down .modal-footer{border-radius:0}}@media (max-width:1199.98px){.modal-fullscreen-xl-down{width:100vw;max-width:none;height:100%;margin:0}.modal-fullscreen-xl-down .modal-content{height:100%;border:0;border-radius:0}.modal-fullscreen-xl-down .modal-header{border-radius:0}.modal-fullscreen-xl-down .modal-body{overflow-y:auto}.modal-fullscreen-xl-down .modal-footer{border-radius:0}}@media (max-width:1399.98px){.modal-fullscreen-xxl-down{width:100vw;max-width:none;height:100%;margin:0}.modal-fullscreen-xxl-down .modal-content{height:100%;border:0;border-radius:0}.modal-fullscreen-xxl-down .modal-header{border-radius:0}.modal-fullscreen-xxl-down .modal-body{overflow-y:auto}.modal-fullscreen-xxl-down .modal-footer{border-radius:0}}.tooltip{position:absolute;z-index:1080;display:block;margin:0;font-family:var(--bs-font-sans-serif);font-style:normal;font-weight:400;line-height:1.5;text-align:left;text-align:start;text-decoration:none;text-shadow:none;text-transform:none;letter-spacing:normal;word-break:normal;word-spacing:normal;white-space:normal;line-break:auto;font-size:.875rem;word-wrap:break-word;opacity:0}.tooltip.show{opacity:.9}.tooltip .tooltip-arrow{position:absolute;display:block;width:.8rem;height:.4rem}.tooltip .tooltip-arrow::before{position:absolute;content:\"\";border-color:transparent;border-style:solid}.bs-tooltip-auto[data-popper-placement^=top],.bs-tooltip-top{padding:.4rem 0}.bs-tooltip-auto[data-popper-placement^=top] .tooltip-arrow,.bs-tooltip-top .tooltip-arrow{bottom:0}.bs-tooltip-auto[data-popper-placement^=top] .tooltip-arrow::before,.bs-tooltip-top .tooltip-arrow::before{top:-1px;border-width:.4rem .4rem 0;border-top-color:#000}.bs-tooltip-auto[data-popper-placement^=right],.bs-tooltip-end{padding:0 .4rem}.bs-tooltip-auto[data-popper-placement^=right] .tooltip-arrow,.bs-tooltip-end .tooltip-arrow{left:0;width:.4rem;height:.8rem}.bs-tooltip-auto[data-popper-placement^=right] .tooltip-arrow::before,.bs-tooltip-end .tooltip-arrow::before{right:-1px;border-width:.4rem .4rem .4rem 0;border-right-color:#000}.bs-tooltip-auto[data-popper-placement^=bottom],.bs-tooltip-bottom{padding:.4rem 0}.bs-tooltip-auto[data-popper-placement^=bottom] .tooltip-arrow,.bs-tooltip-bottom .tooltip-arrow{top:0}.bs-tooltip-auto[data-popper-placement^=bottom] .tooltip-arrow::before,.bs-tooltip-bottom .tooltip-arrow::before{bottom:-1px;border-width:0 .4rem .4rem;border-bottom-color:#000}.bs-tooltip-auto[data-popper-placement^=left],.bs-tooltip-start{padding:0 .4rem}.bs-tooltip-auto[data-popper-placement^=left] .tooltip-arrow,.bs-tooltip-start .tooltip-arrow{right:0;width:.4rem;height:.8rem}.bs-tooltip-auto[data-popper-placement^=left] .tooltip-arrow::before,.bs-tooltip-start .tooltip-arrow::before{left:-1px;border-width:.4rem 0 .4rem .4rem;border-left-color:#000}.tooltip-inner{max-width:200px;padding:.25rem .5rem;color:#fff;text-align:center;background-color:#000;border-radius:.25rem}.popover{position:absolute;top:0;left:0;z-index:1070;display:block;max-width:276px;font-family:var(--bs-font-sans-serif);font-style:normal;font-weight:400;line-height:1.5;text-align:left;text-align:start;text-decoration:none;text-shadow:none;text-transform:none;letter-spacing:normal;word-break:normal;word-spacing:normal;white-space:normal;line-break:auto;font-size:.875rem;word-wrap:break-word;background-color:#fff;background-clip:padding-box;border:1px solid rgba(0,0,0,.2);border-radius:.3rem}.popover .popover-arrow{position:absolute;display:block;width:1rem;height:.5rem}.popover .popover-arrow::after,.popover .popover-arrow::before{position:absolute;display:block;content:\"\";border-color:transparent;border-style:solid}.bs-popover-auto[data-popper-placement^=top]>.popover-arrow,.bs-popover-top>.popover-arrow{bottom:calc(-.5rem - 1px)}.bs-popover-auto[data-popper-placement^=top]>.popover-arrow::before,.bs-popover-top>.popover-arrow::before{bottom:0;border-width:.5rem .5rem 0;border-top-color:rgba(0,0,0,.25)}.bs-popover-auto[data-popper-placement^=top]>.popover-arrow::after,.bs-popover-top>.popover-arrow::after{bottom:1px;border-width:.5rem .5rem 0;border-top-color:#fff}.bs-popover-auto[data-popper-placement^=right]>.popover-arrow,.bs-popover-end>.popover-arrow{left:calc(-.5rem - 1px);width:.5rem;height:1rem}.bs-popover-auto[data-popper-placement^=right]>.popover-arrow::before,.bs-popover-end>.popover-arrow::before{left:0;border-width:.5rem .5rem .5rem 0;border-right-color:rgba(0,0,0,.25)}.bs-popover-auto[data-popper-placement^=right]>.popover-arrow::after,.bs-popover-end>.popover-arrow::after{left:1px;border-width:.5rem .5rem .5rem 0;border-right-color:#fff}.bs-popover-auto[data-popper-placement^=bottom]>.popover-arrow,.bs-popover-bottom>.popover-arrow{top:calc(-.5rem - 1px)}.bs-popover-auto[data-popper-placement^=bottom]>.popover-arrow::before,.bs-popover-bottom>.popover-arrow::before{top:0;border-width:0 .5rem .5rem .5rem;border-bottom-color:rgba(0,0,0,.25)}.bs-popover-auto[data-popper-placement^=bottom]>.popover-arrow::after,.bs-popover-bottom>.popover-arrow::after{top:1px;border-width:0 .5rem .5rem .5rem;border-bottom-color:#fff}.bs-popover-auto[data-popper-placement^=bottom] .popover-header::before,.bs-popover-bottom .popover-header::before{position:absolute;top:0;left:50%;display:block;width:1rem;margin-left:-.5rem;content:\"\";border-bottom:1px solid #f0f0f0}.bs-popover-auto[data-popper-placement^=left]>.popover-arrow,.bs-popover-start>.popover-arrow{right:calc(-.5rem - 1px);width:.5rem;height:1rem}.bs-popover-auto[data-popper-placement^=left]>.popover-arrow::before,.bs-popover-start>.popover-arrow::before{right:0;border-width:.5rem 0 .5rem .5rem;border-left-color:rgba(0,0,0,.25)}.bs-popover-auto[data-popper-placement^=left]>.popover-arrow::after,.bs-popover-start>.popover-arrow::after{right:1px;border-width:.5rem 0 .5rem .5rem;border-left-color:#fff}.popover-header{padding:.5rem 1rem;margin-bottom:0;font-size:1rem;background-color:#f0f0f0;border-bottom:1px solid #d8d8d8;border-top-left-radius:calc(.3rem - 1px);border-top-right-radius:calc(.3rem - 1px)}.popover-header:empty{display:none}.popover-body{padding:1rem 1rem;color:#212529}.carousel{position:relative}.carousel.pointer-event{touch-action:pan-y}.carousel-inner{position:relative;width:100%;overflow:hidden}.carousel-inner::after{display:block;clear:both;content:\"\"}.carousel-item{position:relative;display:none;float:left;width:100%;margin-right:-100%;-webkit-backface-visibility:hidden;backface-visibility:hidden;transition:transform .6s ease-in-out}@media (prefers-reduced-motion:reduce){.carousel-item{transition:none}}.carousel-item-next,.carousel-item-prev,.carousel-item.active{display:block}.active.carousel-item-end,.carousel-item-next:not(.carousel-item-start){transform:translateX(100%)}.active.carousel-item-start,.carousel-item-prev:not(.carousel-item-end){transform:translateX(-100%)}.carousel-fade .carousel-item{opacity:0;transition-property:opacity;transform:none}.carousel-fade .carousel-item-next.carousel-item-start,.carousel-fade .carousel-item-prev.carousel-item-end,.carousel-fade .carousel-item.active{z-index:1;opacity:1}.carousel-fade .active.carousel-item-end,.carousel-fade .active.carousel-item-start{z-index:0;opacity:0;transition:opacity 0s .6s}@media (prefers-reduced-motion:reduce){.carousel-fade .active.carousel-item-end,.carousel-fade .active.carousel-item-start{transition:none}}.carousel-control-next,.carousel-control-prev{position:absolute;top:0;bottom:0;z-index:1;display:flex;align-items:center;justify-content:center;width:15%;padding:0;color:#fff;text-align:center;background:0 0;border:0;opacity:.5;transition:opacity .15s ease}@media (prefers-reduced-motion:reduce){.carousel-control-next,.carousel-control-prev{transition:none}}.carousel-control-next:focus,.carousel-control-next:hover,.carousel-control-prev:focus,.carousel-control-prev:hover{color:#fff;text-decoration:none;outline:0;opacity:.9}.carousel-control-prev{left:0}.carousel-control-next{right:0}.carousel-control-next-icon,.carousel-control-prev-icon{display:inline-block;width:2rem;height:2rem;background-repeat:no-repeat;background-position:50%;background-size:100% 100%}.carousel-control-prev-icon{background-image:url(\"data:image/svg+xml,%3csvg xmlns='http://www.w3.org/2000/svg' viewBox='0 0 16 16' fill='%23fff'%3e%3cpath d='M11.354 1.646a.5.5 0 0 1 0 .708L5.707 8l5.647 5.646a.5.5 0 0 1-.708.708l-6-6a.5.5 0 0 1 0-.708l6-6a.5.5 0 0 1 .708 0z'/%3e%3c/svg%3e\")}.carousel-control-next-icon{background-image:url(\"data:image/svg+xml,%3csvg xmlns='http://www.w3.org/2000/svg' viewBox='0 0 16 16' fill='%23fff'%3e%3cpath d='M4.646 1.646a.5.5 0 0 1 .708 0l6 6a.5.5 0 0 1 0 .708l-6 6a.5.5 0 0 1-.708-.708L10.293 8 4.646 2.354a.5.5 0 0 1 0-.708z'/%3e%3c/svg%3e\")}.carousel-indicators{position:absolute;right:0;bottom:0;left:0;z-index:2;display:flex;justify-content:center;padding:0;margin-right:15%;margin-bottom:1rem;margin-left:15%;list-style:none}.carousel-indicators [data-bs-target]{box-sizing:content-box;flex:0 1 auto;width:30px;height:3px;padding:0;margin-right:3px;margin-left:3px;text-indent:-999px;cursor:pointer;background-color:#fff;background-clip:padding-box;border:0;border-top:10px solid transparent;border-bottom:10px solid transparent;opacity:.5;transition:opacity .6s ease}@media (prefers-reduced-motion:reduce){.carousel-indicators [data-bs-target]{transition:none}}.carousel-indicators .active{opacity:1}.carousel-caption{position:absolute;right:15%;bottom:1.25rem;left:15%;padding-top:1.25rem;padding-bottom:1.25rem;color:#fff;text-align:center}.carousel-dark .carousel-control-next-icon,.carousel-dark .carousel-control-prev-icon{filter:invert(1) grayscale(100)}.carousel-dark .carousel-indicators [data-bs-target]{background-color:#000}.carousel-dark .carousel-caption{color:#000}@-webkit-keyframes spinner-border{to{transform:rotate(360deg)}}@keyframes spinner-border{to{transform:rotate(360deg)}}.spinner-border{display:inline-block;width:2rem;height:2rem;vertical-align:text-bottom;border:.25em solid currentColor;border-right-color:transparent;border-radius:50%;-webkit-animation:.75s linear infinite spinner-border;animation:.75s linear infinite spinner-border}.spinner-border-sm{width:1rem;height:1rem;border-width:.2em}@-webkit-keyframes spinner-grow{0%{transform:scale(0)}50%{opacity:1;transform:none}}@keyframes spinner-grow{0%{transform:scale(0)}50%{opacity:1;transform:none}}.spinner-grow{display:inline-block;width:2rem;height:2rem;vertical-align:text-bottom;background-color:currentColor;border-radius:50%;opacity:0;-webkit-animation:.75s linear infinite spinner-grow;animation:.75s linear infinite spinner-grow}.spinner-grow-sm{width:1rem;height:1rem}@media (prefers-reduced-motion:reduce){.spinner-border,.spinner-grow{-webkit-animation-duration:1.5s;animation-duration:1.5s}}.offcanvas{position:fixed;bottom:0;z-index:1040;display:flex;flex-direction:column;max-width:100%;visibility:hidden;background-color:#fff;background-clip:padding-box;outline:0;transition:transform .3s ease-in-out}@media (prefers-reduced-motion:reduce){.offcanvas{transition:none}}.offcanvas-header{display:flex;justify-content:space-between;padding:1rem 1rem}.offcanvas-header .btn-close{padding:.5rem .5rem;margin:-.5rem -.5rem -.5rem auto}.offcanvas-title{margin-bottom:0;line-height:1.5}.offcanvas-body{flex-grow:1;padding:1rem 1rem;overflow-y:auto}.offcanvas-start{top:0;left:0;width:400px;border-right:1px solid rgba(0,0,0,.2);transform:translateX(-100%)}.offcanvas-end{top:0;right:0;width:400px;border-left:1px solid rgba(0,0,0,.2);transform:translateX(100%)}.offcanvas-bottom{right:0;left:0;height:30vh;max-height:100%;border-top:1px solid rgba(0,0,0,.2);transform:translateY(100%)}.offcanvas.show{transform:none}.offcanvas-backdrop::before{position:fixed;top:0;left:0;z-index:1039;width:100vw;height:100vh;content:\"\";background-color:rgba(0,0,0,.5)}.clearfix::after{display:block;clear:both;content:\"\"}.link-primary{color:#0d6efd}.link-primary:focus,.link-primary:hover{color:#0a58ca}.link-secondary{color:#6c757d}.link-secondary:focus,.link-secondary:hover{color:#565e64}.link-success{color:#198754}.link-success:focus,.link-success:hover{color:#146c43}.link-info{color:#0dcaf0}.link-info:focus,.link-info:hover{color:#3dd5f3}.link-warning{color:#ffc107}.link-warning:focus,.link-warning:hover{color:#ffcd39}.link-danger{color:#dc3545}.link-danger:focus,.link-danger:hover{color:#b02a37}.link-light{color:#f8f9fa}.link-light:focus,.link-light:hover{color:#f9fafb}.link-dark{color:#212529}.link-dark:focus,.link-dark:hover{color:#1a1e21}.ratio{position:relative;width:100%}.ratio::before{display:block;padding-top:var(--bs-aspect-ratio);content:\"\"}.ratio>*{position:absolute;top:0;left:0;width:100%;height:100%}.ratio-1x1{--bs-aspect-ratio:100%}.ratio-4x3{--bs-aspect-ratio:calc(3 / 4 * 100%)}.ratio-16x9{--bs-aspect-ratio:calc(9 / 16 * 100%)}.ratio-21x9{--bs-aspect-ratio:calc(9 / 21 * 100%)}.fixed-top{position:fixed;top:0;right:0;left:0;z-index:1030}.fixed-bottom{position:fixed;right:0;bottom:0;left:0;z-index:1030}.sticky-top{position:-webkit-sticky;position:sticky;top:0;z-index:1020}@media (min-width:576px){.sticky-sm-top{position:-webkit-sticky;position:sticky;top:0;z-index:1020}}@media (min-width:768px){.sticky-md-top{position:-webkit-sticky;position:sticky;top:0;z-index:1020}}@media (min-width:992px){.sticky-lg-top{position:-webkit-sticky;position:sticky;top:0;z-index:1020}}@media (min-width:1200px){.sticky-xl-top{position:-webkit-sticky;position:sticky;top:0;z-index:1020}}@media (min-width:1400px){.sticky-xxl-top{position:-webkit-sticky;position:sticky;top:0;z-index:1020}}.visually-hidden,.visually-hidden-focusable:not(:focus):not(:focus-within){position:absolute!important;width:1px!important;height:1px!important;padding:0!important;margin:-1px!important;overflow:hidden!important;clip:rect(0,0,0,0)!important;white-space:nowrap!important;border:0!important}.stretched-link::after{position:absolute;top:0;right:0;bottom:0;left:0;z-index:1;content:\"\"}.text-truncate{overflow:hidden;text-overflow:ellipsis;white-space:nowrap}.align-baseline{vertical-align:baseline!important}.align-top{vertical-align:top!important}.align-middle{vertical-align:middle!important}.align-bottom{vertical-align:bottom!important}.align-text-bottom{vertical-align:text-bottom!important}.align-text-top{vertical-align:text-top!important}.float-start{float:left!important}.float-end{float:right!important}.float-none{float:none!important}.overflow-auto{overflow:auto!important}.overflow-hidden{overflow:hidden!important}.overflow-visible{overflow:visible!important}.overflow-scroll{overflow:scroll!important}.d-inline{display:inline!important}.d-inline-block{display:inline-block!important}.d-block{display:block!important}.d-grid{display:grid!important}.d-table{display:table!important}.d-table-row{display:table-row!important}.d-table-cell{display:table-cell!important}.d-flex{display:flex!important}.d-inline-flex{display:inline-flex!important}.d-none{display:none!important}.shadow{box-shadow:0 .5rem 1rem rgba(0,0,0,.15)!important}.shadow-sm{box-shadow:0 .125rem .25rem rgba(0,0,0,.075)!important}.shadow-lg{box-shadow:0 1rem 3rem rgba(0,0,0,.175)!important}.shadow-none{box-shadow:none!important}.position-static{position:static!important}.position-relative{position:relative!important}.position-absolute{position:absolute!important}.position-fixed{position:fixed!important}.position-sticky{position:-webkit-sticky!important;position:sticky!important}.top-0{top:0!important}.top-50{top:50%!important}.top-100{top:100%!important}.bottom-0{bottom:0!important}.bottom-50{bottom:50%!important}.bottom-100{bottom:100%!important}.start-0{left:0!important}.start-50{left:50%!important}.start-100{left:100%!important}.end-0{right:0!important}.end-50{right:50%!important}.end-100{right:100%!important}.translate-middle{transform:translate(-50%,-50%)!important}.translate-middle-x{transform:translateX(-50%)!important}.translate-middle-y{transform:translateY(-50%)!important}.border{border:1px solid #dee2e6!important}.border-0{border:0!important}.border-top{border-top:1px solid #dee2e6!important}.border-top-0{border-top:0!important}.border-end{border-right:1px solid #dee2e6!important}.border-end-0{border-right:0!important}.border-bottom{border-bottom:1px solid #dee2e6!important}.border-bottom-0{border-bottom:0!important}.border-start{border-left:1px solid #dee2e6!important}.border-start-0{border-left:0!important}.border-primary{border-color:#0d6efd!important}.border-secondary{border-color:#6c757d!important}.border-success{border-color:#198754!important}.border-info{border-color:#0dcaf0!important}.border-warning{border-color:#ffc107!important}.border-danger{border-color:#dc3545!important}.border-light{border-color:#f8f9fa!important}.border-dark{border-color:#212529!important}.border-white{border-color:#fff!important}.border-1{border-width:1px!important}.border-2{border-width:2px!important}.border-3{border-width:3px!important}.border-4{border-width:4px!important}.border-5{border-width:5px!important}.w-25{width:25%!important}.w-50{width:50%!important}.w-75{width:75%!important}.w-100{width:100%!important}.w-auto{width:auto!important}.mw-100{max-width:100%!important}.vw-100{width:100vw!important}.min-vw-100{min-width:100vw!important}.h-25{height:25%!important}.h-50{height:50%!important}.h-75{height:75%!important}.h-100{height:100%!important}.h-auto{height:auto!important}.mh-100{max-height:100%!important}.vh-100{height:100vh!important}.min-vh-100{min-height:100vh!important}.flex-fill{flex:1 1 auto!important}.flex-row{flex-direction:row!important}.flex-column{flex-direction:column!important}.flex-row-reverse{flex-direction:row-reverse!important}.flex-column-reverse{flex-direction:column-reverse!important}.flex-grow-0{flex-grow:0!important}.flex-grow-1{flex-grow:1!important}.flex-shrink-0{flex-shrink:0!important}.flex-shrink-1{flex-shrink:1!important}.flex-wrap{flex-wrap:wrap!important}.flex-nowrap{flex-wrap:nowrap!important}.flex-wrap-reverse{flex-wrap:wrap-reverse!important}.gap-0{gap:0!important}.gap-1{gap:.25rem!important}.gap-2{gap:.5rem!important}.gap-3{gap:1rem!important}.gap-4{gap:1.5rem!important}.gap-5{gap:3rem!important}.justify-content-start{justify-content:flex-start!important}.justify-content-end{justify-content:flex-end!important}.justify-content-center{justify-content:center!important}.justify-content-between{justify-content:space-between!important}.justify-content-around{justify-content:space-around!important}.justify-content-evenly{justify-content:space-evenly!important}.align-items-start{align-items:flex-start!important}.align-items-end{align-items:flex-end!important}.align-items-center{align-items:center!important}.align-items-baseline{align-items:baseline!important}.align-items-stretch{align-items:stretch!important}.align-content-start{align-content:flex-start!important}.align-content-end{align-content:flex-end!important}.align-content-center{align-content:center!important}.align-content-between{align-content:space-between!important}.align-content-around{align-content:space-around!important}.align-content-stretch{align-content:stretch!important}.align-self-auto{align-self:auto!important}.align-self-start{align-self:flex-start!important}.align-self-end{align-self:flex-end!important}.align-self-center{align-self:center!important}.align-self-baseline{align-self:baseline!important}.align-self-stretch{align-self:stretch!important}.order-first{order:-1!important}.order-0{order:0!important}.order-1{order:1!important}.order-2{order:2!important}.order-3{order:3!important}.order-4{order:4!important}.order-5{order:5!important}.order-last{order:6!important}.m-0{margin:0!important}.m-1{margin:.25rem!important}.m-2{margin:.5rem!important}.m-3{margin:1rem!important}.m-4{margin:1.5rem!important}.m-5{margin:3rem!important}.m-auto{margin:auto!important}.mx-0{margin-right:0!important;margin-left:0!important}.mx-1{margin-right:.25rem!important;margin-left:.25rem!important}.mx-2{margin-right:.5rem!important;margin-left:.5rem!important}.mx-3{margin-right:1rem!important;margin-left:1rem!important}.mx-4{margin-right:1.5rem!important;margin-left:1.5rem!important}.mx-5{margin-right:3rem!important;margin-left:3rem!important}.mx-auto{margin-right:auto!important;margin-left:auto!important}.my-0{margin-top:0!important;margin-bottom:0!important}.my-1{margin-top:.25rem!important;margin-bottom:.25rem!important}.my-2{margin-top:.5rem!important;margin-bottom:.5rem!important}.my-3{margin-top:1rem!important;margin-bottom:1rem!important}.my-4{margin-top:1.5rem!important;margin-bottom:1.5rem!important}.my-5{margin-top:3rem!important;margin-bottom:3rem!important}.my-auto{margin-top:auto!important;margin-bottom:auto!important}.mt-0{margin-top:0!important}.mt-1{margin-top:.25rem!important}.mt-2{margin-top:.5rem!important}.mt-3{margin-top:1rem!important}.mt-4{margin-top:1.5rem!important}.mt-5{margin-top:3rem!important}.mt-auto{margin-top:auto!important}.me-0{margin-right:0!important}.me-1{margin-right:.25rem!important}.me-2{margin-right:.5rem!important}.me-3{margin-right:1rem!important}.me-4{margin-right:1.5rem!important}.me-5{margin-right:3rem!important}.me-auto{margin-right:auto!important}.mb-0{margin-bottom:0!important}.mb-1{margin-bottom:.25rem!important}.mb-2{margin-bottom:.5rem!important}.mb-3{margin-bottom:1rem!important}.mb-4{margin-bottom:1.5rem!important}.mb-5{margin-bottom:3rem!important}.mb-auto{margin-bottom:auto!important}.ms-0{margin-left:0!important}.ms-1{margin-left:.25rem!important}.ms-2{margin-left:.5rem!important}.ms-3{margin-left:1rem!important}.ms-4{margin-left:1.5rem!important}.ms-5{margin-left:3rem!important}.ms-auto{margin-left:auto!important}.p-0{padding:0!important}.p-1{padding:.25rem!important}.p-2{padding:.5rem!important}.p-3{padding:1rem!important}.p-4{padding:1.5rem!important}.p-5{padding:3rem!important}.px-0{padding-right:0!important;padding-left:0!important}.px-1{padding-right:.25rem!important;padding-left:.25rem!important}.px-2{padding-right:.5rem!important;padding-left:.5rem!important}.px-3{padding-right:1rem!important;padding-left:1rem!important}.px-4{padding-right:1.5rem!important;padding-left:1.5rem!important}.px-5{padding-right:3rem!important;padding-left:3rem!important}.py-0{padding-top:0!important;padding-bottom:0!important}.py-1{padding-top:.25rem!important;padding-bottom:.25rem!important}.py-2{padding-top:.5rem!important;padding-bottom:.5rem!important}.py-3{padding-top:1rem!important;padding-bottom:1rem!important}.py-4{padding-top:1.5rem!important;padding-bottom:1.5rem!important}.py-5{padding-top:3rem!important;padding-bottom:3rem!important}.pt-0{padding-top:0!important}.pt-1{padding-top:.25rem!important}.pt-2{padding-top:.5rem!important}.pt-3{padding-top:1rem!important}.pt-4{padding-top:1.5rem!important}.pt-5{padding-top:3rem!important}.pe-0{padding-right:0!important}.pe-1{padding-right:.25rem!important}.pe-2{padding-right:.5rem!important}.pe-3{padding-right:1rem!important}.pe-4{padding-right:1.5rem!important}.pe-5{padding-right:3rem!important}.pb-0{padding-bottom:0!important}.pb-1{padding-bottom:.25rem!important}.pb-2{padding-bottom:.5rem!important}.pb-3{padding-bottom:1rem!important}.pb-4{padding-bottom:1.5rem!important}.pb-5{padding-bottom:3rem!important}.ps-0{padding-left:0!important}.ps-1{padding-left:.25rem!important}.ps-2{padding-left:.5rem!important}.ps-3{padding-left:1rem!important}.ps-4{padding-left:1.5rem!important}.ps-5{padding-left:3rem!important}.font-monospace{font-family:var(--bs-font-monospace)!important}.fs-1{font-size:calc(1.375rem + 1.5vw)!important}.fs-2{font-size:calc(1.325rem + .9vw)!important}.fs-3{font-size:calc(1.3rem + .6vw)!important}.fs-4{font-size:calc(1.275rem + .3vw)!important}.fs-5{font-size:1.25rem!important}.fs-6{font-size:1rem!important}.fst-italic{font-style:italic!important}.fst-normal{font-style:normal!important}.fw-light{font-weight:300!important}.fw-lighter{font-weight:lighter!important}.fw-normal{font-weight:400!important}.fw-bold{font-weight:700!important}.fw-bolder{font-weight:bolder!important}.lh-1{line-height:1!important}.lh-sm{line-height:1.25!important}.lh-base{line-height:1.5!important}.lh-lg{line-height:2!important}.text-start{text-align:left!important}.text-end{text-align:right!important}.text-center{text-align:center!important}.text-decoration-none{text-decoration:none!important}.text-decoration-underline{text-decoration:underline!important}.text-decoration-line-through{text-decoration:line-through!important}.text-lowercase{text-transform:lowercase!important}.text-uppercase{text-transform:uppercase!important}.text-capitalize{text-transform:capitalize!important}.text-wrap{white-space:normal!important}.text-nowrap{white-space:nowrap!important}.text-break{word-wrap:break-word!important;word-break:break-word!important}.text-primary{color:#0d6efd!important}.text-secondary{color:#6c757d!important}.text-success{color:#198754!important}.text-info{color:#0dcaf0!important}.text-warning{color:#ffc107!important}.text-danger{color:#dc3545!important}.text-light{color:#f8f9fa!important}.text-dark{color:#212529!important}.text-white{color:#fff!important}.text-body{color:#212529!important}.text-muted{color:#6c757d!important}.text-black-50{color:rgba(0,0,0,.5)!important}.text-white-50{color:rgba(255,255,255,.5)!important}.text-reset{color:inherit!important}.bg-primary{background-color:#0d6efd!important}.bg-secondary{background-color:#6c757d!important}.bg-success{background-color:#198754!important}.bg-info{background-color:#0dcaf0!important}.bg-warning{background-color:#ffc107!important}.bg-danger{background-color:#dc3545!important}.bg-light{background-color:#f8f9fa!important}.bg-dark{background-color:#212529!important}.bg-body{background-color:#fff!important}.bg-white{background-color:#fff!important}.bg-transparent{background-color:transparent!important}.bg-gradient{background-image:var(--bs-gradient)!important}.user-select-all{-webkit-user-select:all!important;-moz-user-select:all!important;user-select:all!important}.user-select-auto{-webkit-user-select:auto!important;-moz-user-select:auto!important;user-select:auto!important}.user-select-none{-webkit-user-select:none!important;-moz-user-select:none!important;user-select:none!important}.pe-none{pointer-events:none!important}.pe-auto{pointer-events:auto!important}.rounded{border-radius:.25rem!important}.rounded-0{border-radius:0!important}.rounded-1{border-radius:.2rem!important}.rounded-2{border-radius:.25rem!important}.rounded-3{border-radius:.3rem!important}.rounded-circle{border-radius:50%!important}.rounded-pill{border-radius:50rem!important}.rounded-top{border-top-left-radius:.25rem!important;border-top-right-radius:.25rem!important}.rounded-end{border-top-right-radius:.25rem!important;border-bottom-right-radius:.25rem!important}.rounded-bottom{border-bottom-right-radius:.25rem!important;border-bottom-left-radius:.25rem!important}.rounded-start{border-bottom-left-radius:.25rem!important;border-top-left-radius:.25rem!important}.visible{visibility:visible!important}.invisible{visibility:hidden!important}@media (min-width:576px){.float-sm-start{float:left!important}.float-sm-end{float:right!important}.float-sm-none{float:none!important}.d-sm-inline{display:inline!important}.d-sm-inline-block{display:inline-block!important}.d-sm-block{display:block!important}.d-sm-grid{display:grid!important}.d-sm-table{display:table!important}.d-sm-table-row{display:table-row!important}.d-sm-table-cell{display:table-cell!important}.d-sm-flex{display:flex!important}.d-sm-inline-flex{display:inline-flex!important}.d-sm-none{display:none!important}.flex-sm-fill{flex:1 1 auto!important}.flex-sm-row{flex-direction:row!important}.flex-sm-column{flex-direction:column!important}.flex-sm-row-reverse{flex-direction:row-reverse!important}.flex-sm-column-reverse{flex-direction:column-reverse!important}.flex-sm-grow-0{flex-grow:0!important}.flex-sm-grow-1{flex-grow:1!important}.flex-sm-shrink-0{flex-shrink:0!important}.flex-sm-shrink-1{flex-shrink:1!important}.flex-sm-wrap{flex-wrap:wrap!important}.flex-sm-nowrap{flex-wrap:nowrap!important}.flex-sm-wrap-reverse{flex-wrap:wrap-reverse!important}.gap-sm-0{gap:0!important}.gap-sm-1{gap:.25rem!important}.gap-sm-2{gap:.5rem!important}.gap-sm-3{gap:1rem!important}.gap-sm-4{gap:1.5rem!important}.gap-sm-5{gap:3rem!important}.justify-content-sm-start{justify-content:flex-start!important}.justify-content-sm-end{justify-content:flex-end!important}.justify-content-sm-center{justify-content:center!important}.justify-content-sm-between{justify-content:space-between!important}.justify-content-sm-around{justify-content:space-around!important}.justify-content-sm-evenly{justify-content:space-evenly!important}.align-items-sm-start{align-items:flex-start!important}.align-items-sm-end{align-items:flex-end!important}.align-items-sm-center{align-items:center!important}.align-items-sm-baseline{align-items:baseline!important}.align-items-sm-stretch{align-items:stretch!important}.align-content-sm-start{align-content:flex-start!important}.align-content-sm-end{align-content:flex-end!important}.align-content-sm-center{align-content:center!important}.align-content-sm-between{align-content:space-between!important}.align-content-sm-around{align-content:space-around!important}.align-content-sm-stretch{align-content:stretch!important}.align-self-sm-auto{align-self:auto!important}.align-self-sm-start{align-self:flex-start!important}.align-self-sm-end{align-self:flex-end!important}.align-self-sm-center{align-self:center!important}.align-self-sm-baseline{align-self:baseline!important}.align-self-sm-stretch{align-self:stretch!important}.order-sm-first{order:-1!important}.order-sm-0{order:0!important}.order-sm-1{order:1!important}.order-sm-2{order:2!important}.order-sm-3{order:3!important}.order-sm-4{order:4!important}.order-sm-5{order:5!important}.order-sm-last{order:6!important}.m-sm-0{margin:0!important}.m-sm-1{margin:.25rem!important}.m-sm-2{margin:.5rem!important}.m-sm-3{margin:1rem!important}.m-sm-4{margin:1.5rem!important}.m-sm-5{margin:3rem!important}.m-sm-auto{margin:auto!important}.mx-sm-0{margin-right:0!important;margin-left:0!important}.mx-sm-1{margin-right:.25rem!important;margin-left:.25rem!important}.mx-sm-2{margin-right:.5rem!important;margin-left:.5rem!important}.mx-sm-3{margin-right:1rem!important;margin-left:1rem!important}.mx-sm-4{margin-right:1.5rem!important;margin-left:1.5rem!important}.mx-sm-5{margin-right:3rem!important;margin-left:3rem!important}.mx-sm-auto{margin-right:auto!important;margin-left:auto!important}.my-sm-0{margin-top:0!important;margin-bottom:0!important}.my-sm-1{margin-top:.25rem!important;margin-bottom:.25rem!important}.my-sm-2{margin-top:.5rem!important;margin-bottom:.5rem!important}.my-sm-3{margin-top:1rem!important;margin-bottom:1rem!important}.my-sm-4{margin-top:1.5rem!important;margin-bottom:1.5rem!important}.my-sm-5{margin-top:3rem!important;margin-bottom:3rem!important}.my-sm-auto{margin-top:auto!important;margin-bottom:auto!important}.mt-sm-0{margin-top:0!important}.mt-sm-1{margin-top:.25rem!important}.mt-sm-2{margin-top:.5rem!important}.mt-sm-3{margin-top:1rem!important}.mt-sm-4{margin-top:1.5rem!important}.mt-sm-5{margin-top:3rem!important}.mt-sm-auto{margin-top:auto!important}.me-sm-0{margin-right:0!important}.me-sm-1{margin-right:.25rem!important}.me-sm-2{margin-right:.5rem!important}.me-sm-3{margin-right:1rem!important}.me-sm-4{margin-right:1.5rem!important}.me-sm-5{margin-right:3rem!important}.me-sm-auto{margin-right:auto!important}.mb-sm-0{margin-bottom:0!important}.mb-sm-1{margin-bottom:.25rem!important}.mb-sm-2{margin-bottom:.5rem!important}.mb-sm-3{margin-bottom:1rem!important}.mb-sm-4{margin-bottom:1.5rem!important}.mb-sm-5{margin-bottom:3rem!important}.mb-sm-auto{margin-bottom:auto!important}.ms-sm-0{margin-left:0!important}.ms-sm-1{margin-left:.25rem!important}.ms-sm-2{margin-left:.5rem!important}.ms-sm-3{margin-left:1rem!important}.ms-sm-4{margin-left:1.5rem!important}.ms-sm-5{margin-left:3rem!important}.ms-sm-auto{margin-left:auto!important}.p-sm-0{padding:0!important}.p-sm-1{padding:.25rem!important}.p-sm-2{padding:.5rem!important}.p-sm-3{padding:1rem!important}.p-sm-4{padding:1.5rem!important}.p-sm-5{padding:3rem!important}.px-sm-0{padding-right:0!important;padding-left:0!important}.px-sm-1{padding-right:.25rem!important;padding-left:.25rem!important}.px-sm-2{padding-right:.5rem!important;padding-left:.5rem!important}.px-sm-3{padding-right:1rem!important;padding-left:1rem!important}.px-sm-4{padding-right:1.5rem!important;padding-left:1.5rem!important}.px-sm-5{padding-right:3rem!important;padding-left:3rem!important}.py-sm-0{padding-top:0!important;padding-bottom:0!important}.py-sm-1{padding-top:.25rem!important;padding-bottom:.25rem!important}.py-sm-2{padding-top:.5rem!important;padding-bottom:.5rem!important}.py-sm-3{padding-top:1rem!important;padding-bottom:1rem!important}.py-sm-4{padding-top:1.5rem!important;padding-bottom:1.5rem!important}.py-sm-5{padding-top:3rem!important;padding-bottom:3rem!important}.pt-sm-0{padding-top:0!important}.pt-sm-1{padding-top:.25rem!important}.pt-sm-2{padding-top:.5rem!important}.pt-sm-3{padding-top:1rem!important}.pt-sm-4{padding-top:1.5rem!important}.pt-sm-5{padding-top:3rem!important}.pe-sm-0{padding-right:0!important}.pe-sm-1{padding-right:.25rem!important}.pe-sm-2{padding-right:.5rem!important}.pe-sm-3{padding-right:1rem!important}.pe-sm-4{padding-right:1.5rem!important}.pe-sm-5{padding-right:3rem!important}.pb-sm-0{padding-bottom:0!important}.pb-sm-1{padding-bottom:.25rem!important}.pb-sm-2{padding-bottom:.5rem!important}.pb-sm-3{padding-bottom:1rem!important}.pb-sm-4{padding-bottom:1.5rem!important}.pb-sm-5{padding-bottom:3rem!important}.ps-sm-0{padding-left:0!important}.ps-sm-1{padding-left:.25rem!important}.ps-sm-2{padding-left:.5rem!important}.ps-sm-3{padding-left:1rem!important}.ps-sm-4{padding-left:1.5rem!important}.ps-sm-5{padding-left:3rem!important}.text-sm-start{text-align:left!important}.text-sm-end{text-align:right!important}.text-sm-center{text-align:center!important}}@media (min-width:768px){.float-md-start{float:left!important}.float-md-end{float:right!important}.float-md-none{float:none!important}.d-md-inline{display:inline!important}.d-md-inline-block{display:inline-block!important}.d-md-block{display:block!important}.d-md-grid{display:grid!important}.d-md-table{display:table!important}.d-md-table-row{display:table-row!important}.d-md-table-cell{display:table-cell!important}.d-md-flex{display:flex!important}.d-md-inline-flex{display:inline-flex!important}.d-md-none{display:none!important}.flex-md-fill{flex:1 1 auto!important}.flex-md-row{flex-direction:row!important}.flex-md-column{flex-direction:column!important}.flex-md-row-reverse{flex-direction:row-reverse!important}.flex-md-column-reverse{flex-direction:column-reverse!important}.flex-md-grow-0{flex-grow:0!important}.flex-md-grow-1{flex-grow:1!important}.flex-md-shrink-0{flex-shrink:0!important}.flex-md-shrink-1{flex-shrink:1!important}.flex-md-wrap{flex-wrap:wrap!important}.flex-md-nowrap{flex-wrap:nowrap!important}.flex-md-wrap-reverse{flex-wrap:wrap-reverse!important}.gap-md-0{gap:0!important}.gap-md-1{gap:.25rem!important}.gap-md-2{gap:.5rem!important}.gap-md-3{gap:1rem!important}.gap-md-4{gap:1.5rem!important}.gap-md-5{gap:3rem!important}.justify-content-md-start{justify-content:flex-start!important}.justify-content-md-end{justify-content:flex-end!important}.justify-content-md-center{justify-content:center!important}.justify-content-md-between{justify-content:space-between!important}.justify-content-md-around{justify-content:space-around!important}.justify-content-md-evenly{justify-content:space-evenly!important}.align-items-md-start{align-items:flex-start!important}.align-items-md-end{align-items:flex-end!important}.align-items-md-center{align-items:center!important}.align-items-md-baseline{align-items:baseline!important}.align-items-md-stretch{align-items:stretch!important}.align-content-md-start{align-content:flex-start!important}.align-content-md-end{align-content:flex-end!important}.align-content-md-center{align-content:center!important}.align-content-md-between{align-content:space-between!important}.align-content-md-around{align-content:space-around!important}.align-content-md-stretch{align-content:stretch!important}.align-self-md-auto{align-self:auto!important}.align-self-md-start{align-self:flex-start!important}.align-self-md-end{align-self:flex-end!important}.align-self-md-center{align-self:center!important}.align-self-md-baseline{align-self:baseline!important}.align-self-md-stretch{align-self:stretch!important}.order-md-first{order:-1!important}.order-md-0{order:0!important}.order-md-1{order:1!important}.order-md-2{order:2!important}.order-md-3{order:3!important}.order-md-4{order:4!important}.order-md-5{order:5!important}.order-md-last{order:6!important}.m-md-0{margin:0!important}.m-md-1{margin:.25rem!important}.m-md-2{margin:.5rem!important}.m-md-3{margin:1rem!important}.m-md-4{margin:1.5rem!important}.m-md-5{margin:3rem!important}.m-md-auto{margin:auto!important}.mx-md-0{margin-right:0!important;margin-left:0!important}.mx-md-1{margin-right:.25rem!important;margin-left:.25rem!important}.mx-md-2{margin-right:.5rem!important;margin-left:.5rem!important}.mx-md-3{margin-right:1rem!important;margin-left:1rem!important}.mx-md-4{margin-right:1.5rem!important;margin-left:1.5rem!important}.mx-md-5{margin-right:3rem!important;margin-left:3rem!important}.mx-md-auto{margin-right:auto!important;margin-left:auto!important}.my-md-0{margin-top:0!important;margin-bottom:0!important}.my-md-1{margin-top:.25rem!important;margin-bottom:.25rem!important}.my-md-2{margin-top:.5rem!important;margin-bottom:.5rem!important}.my-md-3{margin-top:1rem!important;margin-bottom:1rem!important}.my-md-4{margin-top:1.5rem!important;margin-bottom:1.5rem!important}.my-md-5{margin-top:3rem!important;margin-bottom:3rem!important}.my-md-auto{margin-top:auto!important;margin-bottom:auto!important}.mt-md-0{margin-top:0!important}.mt-md-1{margin-top:.25rem!important}.mt-md-2{margin-top:.5rem!important}.mt-md-3{margin-top:1rem!important}.mt-md-4{margin-top:1.5rem!important}.mt-md-5{margin-top:3rem!important}.mt-md-auto{margin-top:auto!important}.me-md-0{margin-right:0!important}.me-md-1{margin-right:.25rem!important}.me-md-2{margin-right:.5rem!important}.me-md-3{margin-right:1rem!important}.me-md-4{margin-right:1.5rem!important}.me-md-5{margin-right:3rem!important}.me-md-auto{margin-right:auto!important}.mb-md-0{margin-bottom:0!important}.mb-md-1{margin-bottom:.25rem!important}.mb-md-2{margin-bottom:.5rem!important}.mb-md-3{margin-bottom:1rem!important}.mb-md-4{margin-bottom:1.5rem!important}.mb-md-5{margin-bottom:3rem!important}.mb-md-auto{margin-bottom:auto!important}.ms-md-0{margin-left:0!important}.ms-md-1{margin-left:.25rem!important}.ms-md-2{margin-left:.5rem!important}.ms-md-3{margin-left:1rem!important}.ms-md-4{margin-left:1.5rem!important}.ms-md-5{margin-left:3rem!important}.ms-md-auto{margin-left:auto!important}.p-md-0{padding:0!important}.p-md-1{padding:.25rem!important}.p-md-2{padding:.5rem!important}.p-md-3{padding:1rem!important}.p-md-4{padding:1.5rem!important}.p-md-5{padding:3rem!important}.px-md-0{padding-right:0!important;padding-left:0!important}.px-md-1{padding-right:.25rem!important;padding-left:.25rem!important}.px-md-2{padding-right:.5rem!important;padding-left:.5rem!important}.px-md-3{padding-right:1rem!important;padding-left:1rem!important}.px-md-4{padding-right:1.5rem!important;padding-left:1.5rem!important}.px-md-5{padding-right:3rem!important;padding-left:3rem!important}.py-md-0{padding-top:0!important;padding-bottom:0!important}.py-md-1{padding-top:.25rem!important;padding-bottom:.25rem!important}.py-md-2{padding-top:.5rem!important;padding-bottom:.5rem!important}.py-md-3{padding-top:1rem!important;padding-bottom:1rem!important}.py-md-4{padding-top:1.5rem!important;padding-bottom:1.5rem!important}.py-md-5{padding-top:3rem!important;padding-bottom:3rem!important}.pt-md-0{padding-top:0!important}.pt-md-1{padding-top:.25rem!important}.pt-md-2{padding-top:.5rem!important}.pt-md-3{padding-top:1rem!important}.pt-md-4{padding-top:1.5rem!important}.pt-md-5{padding-top:3rem!important}.pe-md-0{padding-right:0!important}.pe-md-1{padding-right:.25rem!important}.pe-md-2{padding-right:.5rem!important}.pe-md-3{padding-right:1rem!important}.pe-md-4{padding-right:1.5rem!important}.pe-md-5{padding-right:3rem!important}.pb-md-0{padding-bottom:0!important}.pb-md-1{padding-bottom:.25rem!important}.pb-md-2{padding-bottom:.5rem!important}.pb-md-3{padding-bottom:1rem!important}.pb-md-4{padding-bottom:1.5rem!important}.pb-md-5{padding-bottom:3rem!important}.ps-md-0{padding-left:0!important}.ps-md-1{padding-left:.25rem!important}.ps-md-2{padding-left:.5rem!important}.ps-md-3{padding-left:1rem!important}.ps-md-4{padding-left:1.5rem!important}.ps-md-5{padding-left:3rem!important}.text-md-start{text-align:left!important}.text-md-end{text-align:right!important}.text-md-center{text-align:center!important}}@media (min-width:992px){.float-lg-start{float:left!important}.float-lg-end{float:right!important}.float-lg-none{float:none!important}.d-lg-inline{display:inline!important}.d-lg-inline-block{display:inline-block!important}.d-lg-block{display:block!important}.d-lg-grid{display:grid!important}.d-lg-table{display:table!important}.d-lg-table-row{display:table-row!important}.d-lg-table-cell{display:table-cell!important}.d-lg-flex{display:flex!important}.d-lg-inline-flex{display:inline-flex!important}.d-lg-none{display:none!important}.flex-lg-fill{flex:1 1 auto!important}.flex-lg-row{flex-direction:row!important}.flex-lg-column{flex-direction:column!important}.flex-lg-row-reverse{flex-direction:row-reverse!important}.flex-lg-column-reverse{flex-direction:column-reverse!important}.flex-lg-grow-0{flex-grow:0!important}.flex-lg-grow-1{flex-grow:1!important}.flex-lg-shrink-0{flex-shrink:0!important}.flex-lg-shrink-1{flex-shrink:1!important}.flex-lg-wrap{flex-wrap:wrap!important}.flex-lg-nowrap{flex-wrap:nowrap!important}.flex-lg-wrap-reverse{flex-wrap:wrap-reverse!important}.gap-lg-0{gap:0!important}.gap-lg-1{gap:.25rem!important}.gap-lg-2{gap:.5rem!important}.gap-lg-3{gap:1rem!important}.gap-lg-4{gap:1.5rem!important}.gap-lg-5{gap:3rem!important}.justify-content-lg-start{justify-content:flex-start!important}.justify-content-lg-end{justify-content:flex-end!important}.justify-content-lg-center{justify-content:center!important}.justify-content-lg-between{justify-content:space-between!important}.justify-content-lg-around{justify-content:space-around!important}.justify-content-lg-evenly{justify-content:space-evenly!important}.align-items-lg-start{align-items:flex-start!important}.align-items-lg-end{align-items:flex-end!important}.align-items-lg-center{align-items:center!important}.align-items-lg-baseline{align-items:baseline!important}.align-items-lg-stretch{align-items:stretch!important}.align-content-lg-start{align-content:flex-start!important}.align-content-lg-end{align-content:flex-end!important}.align-content-lg-center{align-content:center!important}.align-content-lg-between{align-content:space-between!important}.align-content-lg-around{align-content:space-around!important}.align-content-lg-stretch{align-content:stretch!important}.align-self-lg-auto{align-self:auto!important}.align-self-lg-start{align-self:flex-start!important}.align-self-lg-end{align-self:flex-end!important}.align-self-lg-center{align-self:center!important}.align-self-lg-baseline{align-self:baseline!important}.align-self-lg-stretch{align-self:stretch!important}.order-lg-first{order:-1!important}.order-lg-0{order:0!important}.order-lg-1{order:1!important}.order-lg-2{order:2!important}.order-lg-3{order:3!important}.order-lg-4{order:4!important}.order-lg-5{order:5!important}.order-lg-last{order:6!important}.m-lg-0{margin:0!important}.m-lg-1{margin:.25rem!important}.m-lg-2{margin:.5rem!important}.m-lg-3{margin:1rem!important}.m-lg-4{margin:1.5rem!important}.m-lg-5{margin:3rem!important}.m-lg-auto{margin:auto!important}.mx-lg-0{margin-right:0!important;margin-left:0!important}.mx-lg-1{margin-right:.25rem!important;margin-left:.25rem!important}.mx-lg-2{margin-right:.5rem!important;margin-left:.5rem!important}.mx-lg-3{margin-right:1rem!important;margin-left:1rem!important}.mx-lg-4{margin-right:1.5rem!important;margin-left:1.5rem!important}.mx-lg-5{margin-right:3rem!important;margin-left:3rem!important}.mx-lg-auto{margin-right:auto!important;margin-left:auto!important}.my-lg-0{margin-top:0!important;margin-bottom:0!important}.my-lg-1{margin-top:.25rem!important;margin-bottom:.25rem!important}.my-lg-2{margin-top:.5rem!important;margin-bottom:.5rem!important}.my-lg-3{margin-top:1rem!important;margin-bottom:1rem!important}.my-lg-4{margin-top:1.5rem!important;margin-bottom:1.5rem!important}.my-lg-5{margin-top:3rem!important;margin-bottom:3rem!important}.my-lg-auto{margin-top:auto!important;margin-bottom:auto!important}.mt-lg-0{margin-top:0!important}.mt-lg-1{margin-top:.25rem!important}.mt-lg-2{margin-top:.5rem!important}.mt-lg-3{margin-top:1rem!important}.mt-lg-4{margin-top:1.5rem!important}.mt-lg-5{margin-top:3rem!important}.mt-lg-auto{margin-top:auto!important}.me-lg-0{margin-right:0!important}.me-lg-1{margin-right:.25rem!important}.me-lg-2{margin-right:.5rem!important}.me-lg-3{margin-right:1rem!important}.me-lg-4{margin-right:1.5rem!important}.me-lg-5{margin-right:3rem!important}.me-lg-auto{margin-right:auto!important}.mb-lg-0{margin-bottom:0!important}.mb-lg-1{margin-bottom:.25rem!important}.mb-lg-2{margin-bottom:.5rem!important}.mb-lg-3{margin-bottom:1rem!important}.mb-lg-4{margin-bottom:1.5rem!important}.mb-lg-5{margin-bottom:3rem!important}.mb-lg-auto{margin-bottom:auto!important}.ms-lg-0{margin-left:0!important}.ms-lg-1{margin-left:.25rem!important}.ms-lg-2{margin-left:.5rem!important}.ms-lg-3{margin-left:1rem!important}.ms-lg-4{margin-left:1.5rem!important}.ms-lg-5{margin-left:3rem!important}.ms-lg-auto{margin-left:auto!important}.p-lg-0{padding:0!important}.p-lg-1{padding:.25rem!important}.p-lg-2{padding:.5rem!important}.p-lg-3{padding:1rem!important}.p-lg-4{padding:1.5rem!important}.p-lg-5{padding:3rem!important}.px-lg-0{padding-right:0!important;padding-left:0!important}.px-lg-1{padding-right:.25rem!important;padding-left:.25rem!important}.px-lg-2{padding-right:.5rem!important;padding-left:.5rem!important}.px-lg-3{padding-right:1rem!important;padding-left:1rem!important}.px-lg-4{padding-right:1.5rem!important;padding-left:1.5rem!important}.px-lg-5{padding-right:3rem!important;padding-left:3rem!important}.py-lg-0{padding-top:0!important;padding-bottom:0!important}.py-lg-1{padding-top:.25rem!important;padding-bottom:.25rem!important}.py-lg-2{padding-top:.5rem!important;padding-bottom:.5rem!important}.py-lg-3{padding-top:1rem!important;padding-bottom:1rem!important}.py-lg-4{padding-top:1.5rem!important;padding-bottom:1.5rem!important}.py-lg-5{padding-top:3rem!important;padding-bottom:3rem!important}.pt-lg-0{padding-top:0!important}.pt-lg-1{padding-top:.25rem!important}.pt-lg-2{padding-top:.5rem!important}.pt-lg-3{padding-top:1rem!important}.pt-lg-4{padding-top:1.5rem!important}.pt-lg-5{padding-top:3rem!important}.pe-lg-0{padding-right:0!important}.pe-lg-1{padding-right:.25rem!important}.pe-lg-2{padding-right:.5rem!important}.pe-lg-3{padding-right:1rem!important}.pe-lg-4{padding-right:1.5rem!important}.pe-lg-5{padding-right:3rem!important}.pb-lg-0{padding-bottom:0!important}.pb-lg-1{padding-bottom:.25rem!important}.pb-lg-2{padding-bottom:.5rem!important}.pb-lg-3{padding-bottom:1rem!important}.pb-lg-4{padding-bottom:1.5rem!important}.pb-lg-5{padding-bottom:3rem!important}.ps-lg-0{padding-left:0!important}.ps-lg-1{padding-left:.25rem!important}.ps-lg-2{padding-left:.5rem!important}.ps-lg-3{padding-left:1rem!important}.ps-lg-4{padding-left:1.5rem!important}.ps-lg-5{padding-left:3rem!important}.text-lg-start{text-align:left!important}.text-lg-end{text-align:right!important}.text-lg-center{text-align:center!important}}@media (min-width:1200px){.float-xl-start{float:left!important}.float-xl-end{float:right!important}.float-xl-none{float:none!important}.d-xl-inline{display:inline!important}.d-xl-inline-block{display:inline-block!important}.d-xl-block{display:block!important}.d-xl-grid{display:grid!important}.d-xl-table{display:table!important}.d-xl-table-row{display:table-row!important}.d-xl-table-cell{display:table-cell!important}.d-xl-flex{display:flex!important}.d-xl-inline-flex{display:inline-flex!important}.d-xl-none{display:none!important}.flex-xl-fill{flex:1 1 auto!important}.flex-xl-row{flex-direction:row!important}.flex-xl-column{flex-direction:column!important}.flex-xl-row-reverse{flex-direction:row-reverse!important}.flex-xl-column-reverse{flex-direction:column-reverse!important}.flex-xl-grow-0{flex-grow:0!important}.flex-xl-grow-1{flex-grow:1!important}.flex-xl-shrink-0{flex-shrink:0!important}.flex-xl-shrink-1{flex-shrink:1!important}.flex-xl-wrap{flex-wrap:wrap!important}.flex-xl-nowrap{flex-wrap:nowrap!important}.flex-xl-wrap-reverse{flex-wrap:wrap-reverse!important}.gap-xl-0{gap:0!important}.gap-xl-1{gap:.25rem!important}.gap-xl-2{gap:.5rem!important}.gap-xl-3{gap:1rem!important}.gap-xl-4{gap:1.5rem!important}.gap-xl-5{gap:3rem!important}.justify-content-xl-start{justify-content:flex-start!important}.justify-content-xl-end{justify-content:flex-end!important}.justify-content-xl-center{justify-content:center!important}.justify-content-xl-between{justify-content:space-between!important}.justify-content-xl-around{justify-content:space-around!important}.justify-content-xl-evenly{justify-content:space-evenly!important}.align-items-xl-start{align-items:flex-start!important}.align-items-xl-end{align-items:flex-end!important}.align-items-xl-center{align-items:center!important}.align-items-xl-baseline{align-items:baseline!important}.align-items-xl-stretch{align-items:stretch!important}.align-content-xl-start{align-content:flex-start!important}.align-content-xl-end{align-content:flex-end!important}.align-content-xl-center{align-content:center!important}.align-content-xl-between{align-content:space-between!important}.align-content-xl-around{align-content:space-around!important}.align-content-xl-stretch{align-content:stretch!important}.align-self-xl-auto{align-self:auto!important}.align-self-xl-start{align-self:flex-start!important}.align-self-xl-end{align-self:flex-end!important}.align-self-xl-center{align-self:center!important}.align-self-xl-baseline{align-self:baseline!important}.align-self-xl-stretch{align-self:stretch!important}.order-xl-first{order:-1!important}.order-xl-0{order:0!important}.order-xl-1{order:1!important}.order-xl-2{order:2!important}.order-xl-3{order:3!important}.order-xl-4{order:4!important}.order-xl-5{order:5!important}.order-xl-last{order:6!important}.m-xl-0{margin:0!important}.m-xl-1{margin:.25rem!important}.m-xl-2{margin:.5rem!important}.m-xl-3{margin:1rem!important}.m-xl-4{margin:1.5rem!important}.m-xl-5{margin:3rem!important}.m-xl-auto{margin:auto!important}.mx-xl-0{margin-right:0!important;margin-left:0!important}.mx-xl-1{margin-right:.25rem!important;margin-left:.25rem!important}.mx-xl-2{margin-right:.5rem!important;margin-left:.5rem!important}.mx-xl-3{margin-right:1rem!important;margin-left:1rem!important}.mx-xl-4{margin-right:1.5rem!important;margin-left:1.5rem!important}.mx-xl-5{margin-right:3rem!important;margin-left:3rem!important}.mx-xl-auto{margin-right:auto!important;margin-left:auto!important}.my-xl-0{margin-top:0!important;margin-bottom:0!important}.my-xl-1{margin-top:.25rem!important;margin-bottom:.25rem!important}.my-xl-2{margin-top:.5rem!important;margin-bottom:.5rem!important}.my-xl-3{margin-top:1rem!important;margin-bottom:1rem!important}.my-xl-4{margin-top:1.5rem!important;margin-bottom:1.5rem!important}.my-xl-5{margin-top:3rem!important;margin-bottom:3rem!important}.my-xl-auto{margin-top:auto!important;margin-bottom:auto!important}.mt-xl-0{margin-top:0!important}.mt-xl-1{margin-top:.25rem!important}.mt-xl-2{margin-top:.5rem!important}.mt-xl-3{margin-top:1rem!important}.mt-xl-4{margin-top:1.5rem!important}.mt-xl-5{margin-top:3rem!important}.mt-xl-auto{margin-top:auto!important}.me-xl-0{margin-right:0!important}.me-xl-1{margin-right:.25rem!important}.me-xl-2{margin-right:.5rem!important}.me-xl-3{margin-right:1rem!important}.me-xl-4{margin-right:1.5rem!important}.me-xl-5{margin-right:3rem!important}.me-xl-auto{margin-right:auto!important}.mb-xl-0{margin-bottom:0!important}.mb-xl-1{margin-bottom:.25rem!important}.mb-xl-2{margin-bottom:.5rem!important}.mb-xl-3{margin-bottom:1rem!important}.mb-xl-4{margin-bottom:1.5rem!important}.mb-xl-5{margin-bottom:3rem!important}.mb-xl-auto{margin-bottom:auto!important}.ms-xl-0{margin-left:0!important}.ms-xl-1{margin-left:.25rem!important}.ms-xl-2{margin-left:.5rem!important}.ms-xl-3{margin-left:1rem!important}.ms-xl-4{margin-left:1.5rem!important}.ms-xl-5{margin-left:3rem!important}.ms-xl-auto{margin-left:auto!important}.p-xl-0{padding:0!important}.p-xl-1{padding:.25rem!important}.p-xl-2{padding:.5rem!important}.p-xl-3{padding:1rem!important}.p-xl-4{padding:1.5rem!important}.p-xl-5{padding:3rem!important}.px-xl-0{padding-right:0!important;padding-left:0!important}.px-xl-1{padding-right:.25rem!important;padding-left:.25rem!important}.px-xl-2{padding-right:.5rem!important;padding-left:.5rem!important}.px-xl-3{padding-right:1rem!important;padding-left:1rem!important}.px-xl-4{padding-right:1.5rem!important;padding-left:1.5rem!important}.px-xl-5{padding-right:3rem!important;padding-left:3rem!important}.py-xl-0{padding-top:0!important;padding-bottom:0!important}.py-xl-1{padding-top:.25rem!important;padding-bottom:.25rem!important}.py-xl-2{padding-top:.5rem!important;padding-bottom:.5rem!important}.py-xl-3{padding-top:1rem!important;padding-bottom:1rem!important}.py-xl-4{padding-top:1.5rem!important;padding-bottom:1.5rem!important}.py-xl-5{padding-top:3rem!important;padding-bottom:3rem!important}.pt-xl-0{padding-top:0!important}.pt-xl-1{padding-top:.25rem!important}.pt-xl-2{padding-top:.5rem!important}.pt-xl-3{padding-top:1rem!important}.pt-xl-4{padding-top:1.5rem!important}.pt-xl-5{padding-top:3rem!important}.pe-xl-0{padding-right:0!important}.pe-xl-1{padding-right:.25rem!important}.pe-xl-2{padding-right:.5rem!important}.pe-xl-3{padding-right:1rem!important}.pe-xl-4{padding-right:1.5rem!important}.pe-xl-5{padding-right:3rem!important}.pb-xl-0{padding-bottom:0!important}.pb-xl-1{padding-bottom:.25rem!important}.pb-xl-2{padding-bottom:.5rem!important}.pb-xl-3{padding-bottom:1rem!important}.pb-xl-4{padding-bottom:1.5rem!important}.pb-xl-5{padding-bottom:3rem!important}.ps-xl-0{padding-left:0!important}.ps-xl-1{padding-left:.25rem!important}.ps-xl-2{padding-left:.5rem!important}.ps-xl-3{padding-left:1rem!important}.ps-xl-4{padding-left:1.5rem!important}.ps-xl-5{padding-left:3rem!important}.text-xl-start{text-align:left!important}.text-xl-end{text-align:right!important}.text-xl-center{text-align:center!important}}@media (min-width:1400px){.float-xxl-start{float:left!important}.float-xxl-end{float:right!important}.float-xxl-none{float:none!important}.d-xxl-inline{display:inline!important}.d-xxl-inline-block{display:inline-block!important}.d-xxl-block{display:block!important}.d-xxl-grid{display:grid!important}.d-xxl-table{display:table!important}.d-xxl-table-row{display:table-row!important}.d-xxl-table-cell{display:table-cell!important}.d-xxl-flex{display:flex!important}.d-xxl-inline-flex{display:inline-flex!important}.d-xxl-none{display:none!important}.flex-xxl-fill{flex:1 1 auto!important}.flex-xxl-row{flex-direction:row!important}.flex-xxl-column{flex-direction:column!important}.flex-xxl-row-reverse{flex-direction:row-reverse!important}.flex-xxl-column-reverse{flex-direction:column-reverse!important}.flex-xxl-grow-0{flex-grow:0!important}.flex-xxl-grow-1{flex-grow:1!important}.flex-xxl-shrink-0{flex-shrink:0!important}.flex-xxl-shrink-1{flex-shrink:1!important}.flex-xxl-wrap{flex-wrap:wrap!important}.flex-xxl-nowrap{flex-wrap:nowrap!important}.flex-xxl-wrap-reverse{flex-wrap:wrap-reverse!important}.gap-xxl-0{gap:0!important}.gap-xxl-1{gap:.25rem!important}.gap-xxl-2{gap:.5rem!important}.gap-xxl-3{gap:1rem!important}.gap-xxl-4{gap:1.5rem!important}.gap-xxl-5{gap:3rem!important}.justify-content-xxl-start{justify-content:flex-start!important}.justify-content-xxl-end{justify-content:flex-end!important}.justify-content-xxl-center{justify-content:center!important}.justify-content-xxl-between{justify-content:space-between!important}.justify-content-xxl-around{justify-content:space-around!important}.justify-content-xxl-evenly{justify-content:space-evenly!important}.align-items-xxl-start{align-items:flex-start!important}.align-items-xxl-end{align-items:flex-end!important}.align-items-xxl-center{align-items:center!important}.align-items-xxl-baseline{align-items:baseline!important}.align-items-xxl-stretch{align-items:stretch!important}.align-content-xxl-start{align-content:flex-start!important}.align-content-xxl-end{align-content:flex-end!important}.align-content-xxl-center{align-content:center!important}.align-content-xxl-between{align-content:space-between!important}.align-content-xxl-around{align-content:space-around!important}.align-content-xxl-stretch{align-content:stretch!important}.align-self-xxl-auto{align-self:auto!important}.align-self-xxl-start{align-self:flex-start!important}.align-self-xxl-end{align-self:flex-end!important}.align-self-xxl-center{align-self:center!important}.align-self-xxl-baseline{align-self:baseline!important}.align-self-xxl-stretch{align-self:stretch!important}.order-xxl-first{order:-1!important}.order-xxl-0{order:0!important}.order-xxl-1{order:1!important}.order-xxl-2{order:2!important}.order-xxl-3{order:3!important}.order-xxl-4{order:4!important}.order-xxl-5{order:5!important}.order-xxl-last{order:6!important}.m-xxl-0{margin:0!important}.m-xxl-1{margin:.25rem!important}.m-xxl-2{margin:.5rem!important}.m-xxl-3{margin:1rem!important}.m-xxl-4{margin:1.5rem!important}.m-xxl-5{margin:3rem!important}.m-xxl-auto{margin:auto!important}.mx-xxl-0{margin-right:0!important;margin-left:0!important}.mx-xxl-1{margin-right:.25rem!important;margin-left:.25rem!important}.mx-xxl-2{margin-right:.5rem!important;margin-left:.5rem!important}.mx-xxl-3{margin-right:1rem!important;margin-left:1rem!important}.mx-xxl-4{margin-right:1.5rem!important;margin-left:1.5rem!important}.mx-xxl-5{margin-right:3rem!important;margin-left:3rem!important}.mx-xxl-auto{margin-right:auto!important;margin-left:auto!important}.my-xxl-0{margin-top:0!important;margin-bottom:0!important}.my-xxl-1{margin-top:.25rem!important;margin-bottom:.25rem!important}.my-xxl-2{margin-top:.5rem!important;margin-bottom:.5rem!important}.my-xxl-3{margin-top:1rem!important;margin-bottom:1rem!important}.my-xxl-4{margin-top:1.5rem!important;margin-bottom:1.5rem!important}.my-xxl-5{margin-top:3rem!important;margin-bottom:3rem!important}.my-xxl-auto{margin-top:auto!important;margin-bottom:auto!important}.mt-xxl-0{margin-top:0!important}.mt-xxl-1{margin-top:.25rem!important}.mt-xxl-2{margin-top:.5rem!important}.mt-xxl-3{margin-top:1rem!important}.mt-xxl-4{margin-top:1.5rem!important}.mt-xxl-5{margin-top:3rem!important}.mt-xxl-auto{margin-top:auto!important}.me-xxl-0{margin-right:0!important}.me-xxl-1{margin-right:.25rem!important}.me-xxl-2{margin-right:.5rem!important}.me-xxl-3{margin-right:1rem!important}.me-xxl-4{margin-right:1.5rem!important}.me-xxl-5{margin-right:3rem!important}.me-xxl-auto{margin-right:auto!important}.mb-xxl-0{margin-bottom:0!important}.mb-xxl-1{margin-bottom:.25rem!important}.mb-xxl-2{margin-bottom:.5rem!important}.mb-xxl-3{margin-bottom:1rem!important}.mb-xxl-4{margin-bottom:1.5rem!important}.mb-xxl-5{margin-bottom:3rem!important}.mb-xxl-auto{margin-bottom:auto!important}.ms-xxl-0{margin-left:0!important}.ms-xxl-1{margin-left:.25rem!important}.ms-xxl-2{margin-left:.5rem!important}.ms-xxl-3{margin-left:1rem!important}.ms-xxl-4{margin-left:1.5rem!important}.ms-xxl-5{margin-left:3rem!important}.ms-xxl-auto{margin-left:auto!important}.p-xxl-0{padding:0!important}.p-xxl-1{padding:.25rem!important}.p-xxl-2{padding:.5rem!important}.p-xxl-3{padding:1rem!important}.p-xxl-4{padding:1.5rem!important}.p-xxl-5{padding:3rem!important}.px-xxl-0{padding-right:0!important;padding-left:0!important}.px-xxl-1{padding-right:.25rem!important;padding-left:.25rem!important}.px-xxl-2{padding-right:.5rem!important;padding-left:.5rem!important}.px-xxl-3{padding-right:1rem!important;padding-left:1rem!important}.px-xxl-4{padding-right:1.5rem!important;padding-left:1.5rem!important}.px-xxl-5{padding-right:3rem!important;padding-left:3rem!important}.py-xxl-0{padding-top:0!important;padding-bottom:0!important}.py-xxl-1{padding-top:.25rem!important;padding-bottom:.25rem!important}.py-xxl-2{padding-top:.5rem!important;padding-bottom:.5rem!important}.py-xxl-3{padding-top:1rem!important;padding-bottom:1rem!important}.py-xxl-4{padding-top:1.5rem!important;padding-bottom:1.5rem!important}.py-xxl-5{padding-top:3rem!important;padding-bottom:3rem!important}.pt-xxl-0{padding-top:0!important}.pt-xxl-1{padding-top:.25rem!important}.pt-xxl-2{padding-top:.5rem!important}.pt-xxl-3{padding-top:1rem!important}.pt-xxl-4{padding-top:1.5rem!important}.pt-xxl-5{padding-top:3rem!important}.pe-xxl-0{padding-right:0!important}.pe-xxl-1{padding-right:.25rem!important}.pe-xxl-2{padding-right:.5rem!important}.pe-xxl-3{padding-right:1rem!important}.pe-xxl-4{padding-right:1.5rem!important}.pe-xxl-5{padding-right:3rem!important}.pb-xxl-0{padding-bottom:0!important}.pb-xxl-1{padding-bottom:.25rem!important}.pb-xxl-2{padding-bottom:.5rem!important}.pb-xxl-3{padding-bottom:1rem!important}.pb-xxl-4{padding-bottom:1.5rem!important}.pb-xxl-5{padding-bottom:3rem!important}.ps-xxl-0{padding-left:0!important}.ps-xxl-1{padding-left:.25rem!important}.ps-xxl-2{padding-left:.5rem!important}.ps-xxl-3{padding-left:1rem!important}.ps-xxl-4{padding-left:1.5rem!important}.ps-xxl-5{padding-left:3rem!important}.text-xxl-start{text-align:left!important}.text-xxl-end{text-align:right!important}.text-xxl-center{text-align:center!important}}@media (min-width:1200px){.fs-1{font-size:2.5rem!important}.fs-2{font-size:2rem!important}.fs-3{font-size:1.75rem!important}.fs-4{font-size:1.5rem!important}}@media print{.d-print-inline{display:inline!important}.d-print-inline-block{display:inline-block!important}.d-print-block{display:block!important}.d-print-grid{display:grid!important}.d-print-table{display:table!important}.d-print-table-row{display:table-row!important}.d-print-table-cell{display:table-cell!important}.d-print-flex{display:flex!important}.d-print-inline-flex{display:inline-flex!important}.d-print-none{display:none!important}}\n",
       "/*# sourceMappingURL=bootstrap.min.css.map */</style>"
      ],
      "text/plain": [
       "<IPython.core.display.HTML object>"
      ]
     },
     "execution_count": 4,
     "metadata": {},
     "output_type": "execute_result"
    }
   ],
   "source": [
    "# import bootstrap\n",
    "from IPython.display import HTML\n",
    "from urllib.request import urlopen\n",
    "html = urlopen(\"https://cdn.jsdelivr.net/npm/bootstrap@5.0.0-beta3/dist/css/bootstrap.min.css\")\n",
    "HTML('<style>' + html.read().decode('utf-8') + '</style>')\n",
    "# bootstrap_icons = urlopen(\"https://cdn.jsdelivr.net/npm/bootstrap-icons@1.4.0/font/bootstrap-icons.css\")\n",
    "# HTML('<style>' + bootstrap_icons.read().decode('utf-8') + '</style>')"
   ]
  },
  {
   "cell_type": "code",
   "execution_count": 5,
   "metadata": {},
   "outputs": [
    {
     "data": {
      "text/html": [
       "\n",
       "<style>\n",
       "\n",
       "kbd { \n",
       "    background-color : black !important; \n",
       "    font-size : unset !important\n",
       "}\n",
       "\n",
       ".yellow { \n",
       "    background-color : #fff3cd !important; \n",
       "    color : black !important \n",
       "}\n",
       "\n",
       "code { \n",
       "    border-radius : .2rem;\n",
       "    background-color : white !important;\n",
       "    border : solid 1px black !important\n",
       "}\n",
       "\n",
       ".jumbotron {\n",
       "    background-color : #e9ecef;\n",
       "    padding : 2rem 1rem;\n",
       "    border-radius :.3rem\n",
       "}\n",
       "\n",
       ".list-group-flush {\n",
       "    background-color : #e2e3e5 !important;\n",
       "    padding-left : 0em !important;\n",
       "}\n",
       "\n",
       ".list-group-item {\n",
       "    background-color : #e2e3e5; !important;\n",
       "}\n",
       "\n",
       "img {\n",
       "    box-shadow: 0 4px 8px 0 rgba(0, 0, 0, 0.2), 0 6px 20px 0 rgba(0, 0, 0, 0.19) !important;\n",
       "}\n",
       "\n",
       ".bookmark {\n",
       "    box-shadow : none !important;\n",
       "    padding-bottom : .5rem !important;\n",
       "}\n",
       "\n",
       ".topic {\n",
       "    font-size : 1.25rem !important;\n",
       "}\n",
       "\n",
       ".alert-info {\n",
       "    background-color : #d1ecf1 !important;\n",
       "    border-color : #bee5eb !important;\n",
       "}\n",
       "\n",
       "</style>\n"
      ],
      "text/plain": [
       "<IPython.core.display.HTML object>"
      ]
     },
     "execution_count": 5,
     "metadata": {},
     "output_type": "execute_result"
    }
   ],
   "source": [
    "# Custom css classes for text highlighting (based on bootstrap.css)\n",
    "\n",
    "from IPython.core.display import HTML\n",
    "HTML(\"\"\"\n",
    "<style>\n",
    "\n",
    "kbd { \n",
    "    background-color : black !important; \n",
    "    font-size : unset !important\n",
    "}\n",
    "\n",
    ".yellow { \n",
    "    background-color : #fff3cd !important; \n",
    "    color : black !important \n",
    "}\n",
    "\n",
    "code { \n",
    "    border-radius : .2rem;\n",
    "    background-color : white !important;\n",
    "    border : solid 1px black !important\n",
    "}\n",
    "\n",
    ".jumbotron {\n",
    "    background-color : #e9ecef;\n",
    "    padding : 2rem 1rem;\n",
    "    border-radius :.3rem\n",
    "}\n",
    "\n",
    ".list-group-flush {\n",
    "    background-color : #e2e3e5 !important;\n",
    "    padding-left : 0em !important;\n",
    "}\n",
    "\n",
    ".list-group-item {\n",
    "    background-color : #e2e3e5; !important;\n",
    "}\n",
    "\n",
    "img {\n",
    "    box-shadow: 0 4px 8px 0 rgba(0, 0, 0, 0.2), 0 6px 20px 0 rgba(0, 0, 0, 0.19) !important;\n",
    "}\n",
    "\n",
    ".bookmark {\n",
    "    box-shadow : none !important;\n",
    "    padding-bottom : .5rem !important;\n",
    "}\n",
    "\n",
    ".topic {\n",
    "    font-size : 1.25rem !important;\n",
    "}\n",
    "\n",
    ".alert-info {\n",
    "    background-color : #d1ecf1 !important;\n",
    "    border-color : #bee5eb !important;\n",
    "}\n",
    "\n",
    "</style>\n",
    "\"\"\")"
   ]
  },
  {
   "cell_type": "code",
   "execution_count": 6,
   "metadata": {},
   "outputs": [
    {
     "data": {
      "text/html": [
       "\n",
       "<style>\n",
       "\n",
       ".prompt { display : none;  } \n",
       "\n",
       ".jp-InputPrompt {\n",
       "    color : white !important;\n",
       "}\n",
       "\n",
       ".jp-InputArea-prompt {\n",
       "    color : white !important;\n",
       "}\n",
       ".jp-OutputPrompt{\n",
       "    color : white !important;\n",
       "}\n",
       ".jp-OutputArea-prompt{\n",
       "    color : white !important;\n",
       "}\n",
       "\n",
       "</style>\n"
      ],
      "text/plain": [
       "<IPython.core.display.HTML object>"
      ]
     },
     "execution_count": 6,
     "metadata": {},
     "output_type": "execute_result"
    }
   ],
   "source": [
    "# Make the notebook printer friendly by removing the prompts at the left of the code sections.\n",
    "from IPython.core.display import HTML\n",
    "HTML(\"\"\"\n",
    "<style>\n",
    "\n",
    ".prompt { display : none;  } \n",
    "\n",
    ".jp-InputPrompt {\n",
    "    color : white !important;\n",
    "}\n",
    "\n",
    ".jp-InputArea-prompt {\n",
    "    color : white !important;\n",
    "}\n",
    ".jp-OutputPrompt{\n",
    "    color : white !important;\n",
    "}\n",
    ".jp-OutputArea-prompt{\n",
    "    color : white !important;\n",
    "}\n",
    "\n",
    "</style>\n",
    "\"\"\")"
   ]
  }
 ],
 "metadata": {
  "kernelspec": {
   "display_name": "Python 3",
   "language": "python",
   "name": "python3"
  },
  "language_info": {
   "codemirror_mode": {
    "name": "ipython",
    "version": 3
   },
   "file_extension": ".py",
   "mimetype": "text/x-python",
   "name": "python",
   "nbconvert_exporter": "python",
   "pygments_lexer": "ipython3",
   "version": "3.9.4"
  }
 },
 "nbformat": 4,
 "nbformat_minor": 4
}
